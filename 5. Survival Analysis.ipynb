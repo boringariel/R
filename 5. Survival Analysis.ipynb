{
 "cells": [
  {
   "cell_type": "markdown",
   "metadata": {},
   "source": [
    "## Survival Analysis\n",
    "---\n",
    "\n",
    "### Survival Analysis의 필요성\n",
    "* 시간과 치료 여부를 이용해 t-test를 할 수 있으나, 시간/금전적 문제로 인해 현실적으로 어렵다\n",
    "* 실제 환자를 대상으로 실험 진행시, 모든 환잘르 사망시까지 추적관찰하는 것이 사실상 불가능하다\n",
    "* 특정 시점에서의 생존 여부(0/1)를 중심으로 분석한 경우, 시간의 흐름을 무시한다는 한계가 있다\n",
    "<p>\n",
    "\n",
    "### Survival Analysis의 특징\n",
    "#### Censoring\n",
    "* 대상 환자를 실험 종료까지 추적관찰할 수 없는 경우 해당 정보도 고려함\n",
    "* 불완전한 기록 정보도 통계에 이용할 수 있다\n",
    "* 생존 정보와 Censoring 정보라는 두 변수를 이용함\n",
    "> 어떤 event가 일어났는지(사망 혹은 연락두절)를 0/1으로 표현\n",
    "\n",
    "### Survival Analysis의 검증 방법\n",
    "#### Log-rank test\n",
    "* 두 그룹 간에 통계적으로 유의한 차이가 있는지를 검증할 수 있음"
   ]
  },
  {
   "cell_type": "code",
   "execution_count": null,
   "metadata": {},
   "outputs": [],
   "source": []
  }
 ],
 "metadata": {
  "kernelspec": {
   "display_name": "R",
   "language": "R",
   "name": "ir"
  },
  "language_info": {
   "codemirror_mode": "r",
   "file_extension": ".r",
   "mimetype": "text/x-r-source",
   "name": "R",
   "pygments_lexer": "r",
   "version": "3.5.1"
  }
 },
 "nbformat": 4,
 "nbformat_minor": 2
}
