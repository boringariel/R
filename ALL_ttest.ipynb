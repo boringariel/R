{
 "cells": [
  {
   "cell_type": "code",
   "execution_count": 12,
   "metadata": {},
   "outputs": [],
   "source": [
    "library(GEOquery)"
   ]
  },
  {
   "cell_type": "markdown",
   "metadata": {},
   "source": [
    "---\n",
    "## GSE60926"
   ]
  },
  {
   "cell_type": "code",
   "execution_count": 13,
   "metadata": {},
   "outputs": [
    {
     "name": "stderr",
     "output_type": "stream",
     "text": [
      "Found 1 file(s)\n",
      "GSE60926_series_matrix.txt.gz\n",
      "Parsed with column specification:\n",
      "cols(\n",
      "  .default = col_double(),\n",
      "  ID_REF = col_character()\n",
      ")\n",
      "See spec(...) for full column specifications.\n",
      "Using locally cached version of GPL570 found here:\n",
      "C:\\Users\\BIOINF~1\\AppData\\Local\\Temp\\Rtmp6Z3zpH/GPL570.soft \n"
     ]
    },
    {
     "data": {
      "text/html": [
       "<strong>$method</strong> = 'Shapiro-Wilk normality test'"
      ],
      "text/latex": [
       "\\textbf{\\$method} = 'Shapiro-Wilk normality test'"
      ],
      "text/markdown": [
       "**$method** = 'Shapiro-Wilk normality test'"
      ],
      "text/plain": [
       "$method\n",
       "[1] \"Shapiro-Wilk normality test\"\n"
      ]
     },
     "metadata": {},
     "output_type": "display_data"
    },
    {
     "data": {
      "text/html": [
       "'smc2'"
      ],
      "text/latex": [
       "'smc2'"
      ],
      "text/markdown": [
       "'smc2'"
      ],
      "text/plain": [
       "[1] \"smc2\""
      ]
     },
     "metadata": {},
     "output_type": "display_data"
    },
    {
     "data": {
      "text/html": [
       "<strong>$p.value</strong> = 0.00199722970265007"
      ],
      "text/latex": [
       "\\textbf{\\$p.value} = 0.00199722970265007"
      ],
      "text/markdown": [
       "**$p.value** = 0.00199722970265007"
      ],
      "text/plain": [
       "$p.value\n",
       "[1] 0.00199723\n"
      ]
     },
     "metadata": {},
     "output_type": "display_data"
    },
    {
     "data": {
      "text/html": [
       "<strong>$p.value</strong> = 0.0468169615541657"
      ],
      "text/latex": [
       "\\textbf{\\$p.value} = 0.0468169615541657"
      ],
      "text/markdown": [
       "**$p.value** = 0.0468169615541657"
      ],
      "text/plain": [
       "$p.value\n",
       "[1] 0.04681696\n"
      ]
     },
     "metadata": {},
     "output_type": "display_data"
    },
    {
     "data": {
      "text/html": [
       "'smc4'"
      ],
      "text/latex": [
       "'smc4'"
      ],
      "text/markdown": [
       "'smc4'"
      ],
      "text/plain": [
       "[1] \"smc4\""
      ]
     },
     "metadata": {},
     "output_type": "display_data"
    },
    {
     "data": {
      "text/html": [
       "<strong>$p.value</strong> = 0.0919288827285471"
      ],
      "text/latex": [
       "\\textbf{\\$p.value} = 0.0919288827285471"
      ],
      "text/markdown": [
       "**$p.value** = 0.0919288827285471"
      ],
      "text/plain": [
       "$p.value\n",
       "[1] 0.09192888\n"
      ]
     },
     "metadata": {},
     "output_type": "display_data"
    },
    {
     "data": {
      "text/html": [
       "<strong>$p.value</strong> = 0.432382994837461"
      ],
      "text/latex": [
       "\\textbf{\\$p.value} = 0.432382994837461"
      ],
      "text/markdown": [
       "**$p.value** = 0.432382994837461"
      ],
      "text/plain": [
       "$p.value\n",
       "[1] 0.432383\n"
      ]
     },
     "metadata": {},
     "output_type": "display_data"
    },
    {
     "data": {
      "text/html": [
       "'tpd53 == TPD52L1'"
      ],
      "text/latex": [
       "'tpd53 == TPD52L1'"
      ],
      "text/markdown": [
       "'tpd53 == TPD52L1'"
      ],
      "text/plain": [
       "[1] \"tpd53 == TPD52L1\""
      ]
     },
     "metadata": {},
     "output_type": "display_data"
    },
    {
     "data": {
      "text/html": [
       "<strong>$p.value</strong> = 0.0169597679476685"
      ],
      "text/latex": [
       "\\textbf{\\$p.value} = 0.0169597679476685"
      ],
      "text/markdown": [
       "**$p.value** = 0.0169597679476685"
      ],
      "text/plain": [
       "$p.value\n",
       "[1] 0.01695977\n"
      ]
     },
     "metadata": {},
     "output_type": "display_data"
    },
    {
     "data": {
      "text/html": [
       "<strong>$p.value</strong> = 0.563176917226475"
      ],
      "text/latex": [
       "\\textbf{\\$p.value} = 0.563176917226475"
      ],
      "text/markdown": [
       "**$p.value** = 0.563176917226475"
      ],
      "text/plain": [
       "$p.value\n",
       "[1] 0.5631769\n"
      ]
     },
     "metadata": {},
     "output_type": "display_data"
    },
    {
     "data": {
      "text/html": [
       "'capd2'"
      ],
      "text/latex": [
       "'capd2'"
      ],
      "text/markdown": [
       "'capd2'"
      ],
      "text/plain": [
       "[1] \"capd2\""
      ]
     },
     "metadata": {},
     "output_type": "display_data"
    },
    {
     "data": {
      "text/html": [
       "<strong>$p.value</strong> = 0.00934026130114479"
      ],
      "text/latex": [
       "\\textbf{\\$p.value} = 0.00934026130114479"
      ],
      "text/markdown": [
       "**$p.value** = 0.00934026130114479"
      ],
      "text/plain": [
       "$p.value\n",
       "[1] 0.009340261\n"
      ]
     },
     "metadata": {},
     "output_type": "display_data"
    },
    {
     "data": {
      "text/html": [
       "<strong>$p.value</strong> = 0.47095243376225"
      ],
      "text/latex": [
       "\\textbf{\\$p.value} = 0.47095243376225"
      ],
      "text/markdown": [
       "**$p.value** = 0.47095243376225"
      ],
      "text/plain": [
       "$p.value\n",
       "[1] 0.4709524\n"
      ]
     },
     "metadata": {},
     "output_type": "display_data"
    },
    {
     "data": {
      "text/html": [
       "'capg'"
      ],
      "text/latex": [
       "'capg'"
      ],
      "text/markdown": [
       "'capg'"
      ],
      "text/plain": [
       "[1] \"capg\""
      ]
     },
     "metadata": {},
     "output_type": "display_data"
    },
    {
     "data": {
      "text/html": [
       "<strong>$p.value</strong> = 0.556031883100273"
      ],
      "text/latex": [
       "\\textbf{\\$p.value} = 0.556031883100273"
      ],
      "text/markdown": [
       "**$p.value** = 0.556031883100273"
      ],
      "text/plain": [
       "$p.value\n",
       "[1] 0.5560319\n"
      ]
     },
     "metadata": {},
     "output_type": "display_data"
    },
    {
     "data": {
      "text/html": [
       "<strong>$p.value</strong> = 0.0346093368324911"
      ],
      "text/latex": [
       "\\textbf{\\$p.value} = 0.0346093368324911"
      ],
      "text/markdown": [
       "**$p.value** = 0.0346093368324911"
      ],
      "text/plain": [
       "$p.value\n",
       "[1] 0.03460934\n"
      ]
     },
     "metadata": {},
     "output_type": "display_data"
    },
    {
     "data": {
      "text/html": [
       "'caph'"
      ],
      "text/latex": [
       "'caph'"
      ],
      "text/markdown": [
       "'caph'"
      ],
      "text/plain": [
       "[1] \"caph\""
      ]
     },
     "metadata": {},
     "output_type": "display_data"
    },
    {
     "data": {
      "text/html": [
       "<strong>$p.value</strong> = 0.645056078050188"
      ],
      "text/latex": [
       "\\textbf{\\$p.value} = 0.645056078050188"
      ],
      "text/markdown": [
       "**$p.value** = 0.645056078050188"
      ],
      "text/plain": [
       "$p.value\n",
       "[1] 0.6450561\n"
      ]
     },
     "metadata": {},
     "output_type": "display_data"
    },
    {
     "data": {
      "text/html": [
       "<strong>$p.value</strong> = 0.365676724908445"
      ],
      "text/latex": [
       "\\textbf{\\$p.value} = 0.365676724908445"
      ],
      "text/markdown": [
       "**$p.value** = 0.365676724908445"
      ],
      "text/plain": [
       "$p.value\n",
       "[1] 0.3656767\n"
      ]
     },
     "metadata": {},
     "output_type": "display_data"
    },
    {
     "data": {
      "text/html": [
       "'capg2'"
      ],
      "text/latex": [
       "'capg2'"
      ],
      "text/markdown": [
       "'capg2'"
      ],
      "text/plain": [
       "[1] \"capg2\""
      ]
     },
     "metadata": {},
     "output_type": "display_data"
    },
    {
     "data": {
      "text/html": [
       "<strong>$p.value</strong> = 0.00369496455027495"
      ],
      "text/latex": [
       "\\textbf{\\$p.value} = 0.00369496455027495"
      ],
      "text/markdown": [
       "**$p.value** = 0.00369496455027495"
      ],
      "text/plain": [
       "$p.value\n",
       "[1] 0.003694965\n"
      ]
     },
     "metadata": {},
     "output_type": "display_data"
    },
    {
     "data": {
      "text/html": [
       "<strong>$p.value</strong> = 0.532710735631706"
      ],
      "text/latex": [
       "\\textbf{\\$p.value} = 0.532710735631706"
      ],
      "text/markdown": [
       "**$p.value** = 0.532710735631706"
      ],
      "text/plain": [
       "$p.value\n",
       "[1] 0.5327107\n"
      ]
     },
     "metadata": {},
     "output_type": "display_data"
    },
    {
     "data": {
      "text/html": [
       "'caph2'"
      ],
      "text/latex": [
       "'caph2'"
      ],
      "text/markdown": [
       "'caph2'"
      ],
      "text/plain": [
       "[1] \"caph2\""
      ]
     },
     "metadata": {},
     "output_type": "display_data"
    },
    {
     "data": {
      "text/html": [
       "<strong>$p.value</strong> = 0.803357935692054"
      ],
      "text/latex": [
       "\\textbf{\\$p.value} = 0.803357935692054"
      ],
      "text/markdown": [
       "**$p.value** = 0.803357935692054"
      ],
      "text/plain": [
       "$p.value\n",
       "[1] 0.8033579\n"
      ]
     },
     "metadata": {},
     "output_type": "display_data"
    },
    {
     "data": {
      "text/html": [
       "<strong>$p.value</strong> = 0.0792723048028035"
      ],
      "text/latex": [
       "\\textbf{\\$p.value} = 0.0792723048028035"
      ],
      "text/markdown": [
       "**$p.value** = 0.0792723048028035"
      ],
      "text/plain": [
       "$p.value\n",
       "[1] 0.0792723\n"
      ]
     },
     "metadata": {},
     "output_type": "display_data"
    },
    {
     "data": {
      "text/html": [
       "'capd3'"
      ],
      "text/latex": [
       "'capd3'"
      ],
      "text/markdown": [
       "'capd3'"
      ],
      "text/plain": [
       "[1] \"capd3\""
      ]
     },
     "metadata": {},
     "output_type": "display_data"
    },
    {
     "data": {
      "text/html": [
       "<strong>$p.value</strong> = 0.0791482395213178"
      ],
      "text/latex": [
       "\\textbf{\\$p.value} = 0.0791482395213178"
      ],
      "text/markdown": [
       "**$p.value** = 0.0791482395213178"
      ],
      "text/plain": [
       "$p.value\n",
       "[1] 0.07914824\n"
      ]
     },
     "metadata": {},
     "output_type": "display_data"
    },
    {
     "data": {
      "text/html": [
       "<strong>$p.value</strong> = 0.0716762285041243"
      ],
      "text/latex": [
       "\\textbf{\\$p.value} = 0.0716762285041243"
      ],
      "text/markdown": [
       "**$p.value** = 0.0716762285041243"
      ],
      "text/plain": [
       "$p.value\n",
       "[1] 0.07167623\n"
      ]
     },
     "metadata": {},
     "output_type": "display_data"
    },
    {
     "data": {
      "text/html": [
       "'------------------------------------------------------'"
      ],
      "text/latex": [
       "'------------------------------------------------------'"
      ],
      "text/markdown": [
       "'------------------------------------------------------'"
      ],
      "text/plain": [
       "[1] \"------------------------------------------------------\""
      ]
     },
     "metadata": {},
     "output_type": "display_data"
    },
    {
     "data": {
      "text/html": [
       "<strong>$method</strong> = 'F test to compare two variances'"
      ],
      "text/latex": [
       "\\textbf{\\$method} = 'F test to compare two variances'"
      ],
      "text/markdown": [
       "**$method** = 'F test to compare two variances'"
      ],
      "text/plain": [
       "$method\n",
       "[1] \"F test to compare two variances\"\n"
      ]
     },
     "metadata": {},
     "output_type": "display_data"
    },
    {
     "data": {
      "text/html": [
       "<strong>$p.value</strong> = 0.000473544046922677"
      ],
      "text/latex": [
       "\\textbf{\\$p.value} = 0.000473544046922677"
      ],
      "text/markdown": [
       "**$p.value** = 0.000473544046922677"
      ],
      "text/plain": [
       "$p.value\n",
       "[1] 0.000473544\n"
      ]
     },
     "metadata": {},
     "output_type": "display_data"
    },
    {
     "data": {
      "text/html": [
       "<strong>$p.value</strong> = 0.0151109096659578"
      ],
      "text/latex": [
       "\\textbf{\\$p.value} = 0.0151109096659578"
      ],
      "text/markdown": [
       "**$p.value** = 0.0151109096659578"
      ],
      "text/plain": [
       "$p.value\n",
       "[1] 0.01511091\n"
      ]
     },
     "metadata": {},
     "output_type": "display_data"
    },
    {
     "data": {
      "text/html": [
       "<strong>$p.value</strong> = 0.0696695317324758"
      ],
      "text/latex": [
       "\\textbf{\\$p.value} = 0.0696695317324758"
      ],
      "text/markdown": [
       "**$p.value** = 0.0696695317324758"
      ],
      "text/plain": [
       "$p.value\n",
       "[1] 0.06966953\n"
      ]
     },
     "metadata": {},
     "output_type": "display_data"
    },
    {
     "data": {
      "text/html": [
       "<strong>$p.value</strong> = 0.0207824365049212"
      ],
      "text/latex": [
       "\\textbf{\\$p.value} = 0.0207824365049212"
      ],
      "text/markdown": [
       "**$p.value** = 0.0207824365049212"
      ],
      "text/plain": [
       "$p.value\n",
       "[1] 0.02078244\n"
      ]
     },
     "metadata": {},
     "output_type": "display_data"
    },
    {
     "data": {
      "text/html": [
       "<strong>$p.value</strong> = 2.43206713865537e-05"
      ],
      "text/latex": [
       "\\textbf{\\$p.value} = 2.43206713865537e-05"
      ],
      "text/markdown": [
       "**$p.value** = 2.43206713865537e-05"
      ],
      "text/plain": [
       "$p.value\n",
       "[1] 2.432067e-05\n"
      ]
     },
     "metadata": {},
     "output_type": "display_data"
    },
    {
     "data": {
      "text/html": [
       "<strong>$p.value</strong> = 0.00110800340605272"
      ],
      "text/latex": [
       "\\textbf{\\$p.value} = 0.00110800340605272"
      ],
      "text/markdown": [
       "**$p.value** = 0.00110800340605272"
      ],
      "text/plain": [
       "$p.value\n",
       "[1] 0.001108003\n"
      ]
     },
     "metadata": {},
     "output_type": "display_data"
    },
    {
     "data": {
      "text/html": [
       "<strong>$p.value</strong> = 0.0364361644880104"
      ],
      "text/latex": [
       "\\textbf{\\$p.value} = 0.0364361644880104"
      ],
      "text/markdown": [
       "**$p.value** = 0.0364361644880104"
      ],
      "text/plain": [
       "$p.value\n",
       "[1] 0.03643616\n"
      ]
     },
     "metadata": {},
     "output_type": "display_data"
    },
    {
     "data": {
      "text/html": [
       "<strong>$p.value</strong> = 0.313846063497044"
      ],
      "text/latex": [
       "\\textbf{\\$p.value} = 0.313846063497044"
      ],
      "text/markdown": [
       "**$p.value** = 0.313846063497044"
      ],
      "text/plain": [
       "$p.value\n",
       "[1] 0.3138461\n"
      ]
     },
     "metadata": {},
     "output_type": "display_data"
    },
    {
     "data": {
      "text/html": [
       "<strong>$p.value</strong> = 0.00245507684137061"
      ],
      "text/latex": [
       "\\textbf{\\$p.value} = 0.00245507684137061"
      ],
      "text/markdown": [
       "**$p.value** = 0.00245507684137061"
      ],
      "text/plain": [
       "$p.value\n",
       "[1] 0.002455077\n"
      ]
     },
     "metadata": {},
     "output_type": "display_data"
    }
   ],
   "source": [
    "gse <- getGEO(\"GSE60926\",GSEMatrix=TRUE)\n",
    "gse <- gse[[1]]\n",
    "\n",
    "#exp data\n",
    "eset <- exprs(gse)\n",
    "\n",
    "#probe id to gene symbol\n",
    "fset <- fData(gse)\n",
    "\n",
    "symbols <- fset[,\"Gene Symbol\"]\n",
    "rownames(eset) <- symbols\n",
    "\n",
    "pset <- phenoData(gse)\n",
    "\n",
    "eset <- 2^(eset) #denomalizing\n",
    "\n",
    "pset_d = pset$'source_name_ch1' == 'ALL - bone marrow - Diagnosis'\n",
    "pset_r = pset$'source_name_ch1' == 'ALL - bone marrow - Relapse'\n",
    "\n",
    "eset_d = eset[,pset$'source_name_ch1' == 'ALL - bone marrow - Diagnosis']\n",
    "eset_r = eset[,pset$'source_name_ch1' == 'ALL - bone marrow - Relapse']\n",
    "\n",
    "eset_d_smc2 = eset_d[which(rownames(eset_d) == \"SMC2\")[1],]\n",
    "eset_r_smc2 = eset_r[which(rownames(eset_r) == \"SMC2\")[1],]\n",
    "\n",
    "eset_d_smc4 = eset_d[which(rownames(eset_d) == \"SMC4\")[1],]\n",
    "eset_r_smc4 = eset_r[which(rownames(eset_r) == \"SMC4\")[1],]\n",
    "\n",
    "eset_d_tpd53 = eset_d[which(rownames(eset_d) == \"TPD52L1\")[1],]\n",
    "eset_r_tpd53 = eset_r[which(rownames(eset_r) == \"TPD52L1\")[1],]\n",
    "\n",
    "eset_d_capd2 = eset_d[which(rownames(eset_d) == \"NCAPD2\")[1],]\n",
    "eset_r_capd2 = eset_r[which(rownames(eset_r) == \"NCAPD2\")[1],]\n",
    "\n",
    "eset_d_capg = eset_d[which(rownames(eset_d) == \"NCAPG\")[1],]\n",
    "eset_r_capg = eset_r[which(rownames(eset_r) == \"NCAPG\")[1],]\n",
    "\n",
    "eset_d_caph = eset_d[which(rownames(eset_d) == \"NCAPH\")[1],]\n",
    "eset_r_caph = eset_r[which(rownames(eset_r) == \"NCAPH\")[1],]\n",
    "\n",
    "eset_d_capg2 = eset_d[which(rownames(eset_d) == \"NCAPG2\")[1],]\n",
    "eset_r_capg2 = eset_r[which(rownames(eset_r) == \"NCAPG2\")[1],]\n",
    "\n",
    "eset_d_caph2 = eset_d[which(rownames(eset_d) == \"NCAPH2\")[1],]\n",
    "eset_r_caph2 = eset_r[which(rownames(eset_r) == \"NCAPH2\")[1],]\n",
    "\n",
    "eset_d_capd3 = eset_d[which(rownames(eset_d) == \"NCAPD3\")[1],]\n",
    "eset_r_capd3 = eset_r[which(rownames(eset_r) == \"NCAPD3\")[1],]\n",
    "\n",
    "\n",
    "shapiro.test(eset_d_smc2)[3]\n",
    "'smc2'\n",
    "shapiro.test(eset_d_smc2)[2]\n",
    "shapiro.test(eset_r_smc2)[2]\n",
    "'smc4'\n",
    "shapiro.test(eset_d_smc4)[2]\n",
    "shapiro.test(eset_r_smc4)[2]\n",
    "'tpd53 == TPD52L1'\n",
    "shapiro.test(eset_d_tpd53)[2]\n",
    "shapiro.test(eset_r_tpd53)[2]\n",
    "'capd2'\n",
    "shapiro.test(eset_d_capd2)[2]\n",
    "shapiro.test(eset_r_capd2)[2]\n",
    "'capg'\n",
    "shapiro.test(eset_d_capg)[2]\n",
    "shapiro.test(eset_r_capg)[2]\n",
    "'caph'\n",
    "shapiro.test(eset_d_caph)[2]\n",
    "shapiro.test(eset_r_caph)[2]\n",
    "'capg2'\n",
    "shapiro.test(eset_d_capg2)[2]\n",
    "shapiro.test(eset_r_capg2)[2]\n",
    "'caph2'\n",
    "shapiro.test(eset_d_caph2)[2]\n",
    "shapiro.test(eset_r_caph2)[2]\n",
    "'capd3'\n",
    "shapiro.test(eset_d_capd3)[2]\n",
    "shapiro.test(eset_r_capd3)[2]\n",
    "'------------------------------------------------------'\n",
    "var.test(eset_d_smc2, eset_r_smc2)[8]\n",
    "var.test(eset_d_smc2, eset_r_smc2)[3]\n",
    "var.test(eset_d_smc4, eset_r_smc4)[3]\n",
    "var.test(eset_d_tpd53, eset_r_tpd53)[3]\n",
    "var.test(eset_d_capd2, eset_r_capd2)[3]\n",
    "var.test(eset_d_capg, eset_r_capg)[3]\n",
    "var.test(eset_d_caph, eset_r_caph)[3]\n",
    "var.test(eset_d_capg2, eset_r_capg2)[3]\n",
    "var.test(eset_d_caph2, eset_r_caph2)[3]\n",
    "var.test(eset_d_capd3, eset_r_capd3)[3]"
   ]
  },
  {
   "cell_type": "code",
   "execution_count": 14,
   "metadata": {},
   "outputs": [
    {
     "data": {
      "text/html": [
       "89.6886828376938"
      ],
      "text/latex": [
       "89.6886828376938"
      ],
      "text/markdown": [
       "89.6886828376938"
      ],
      "text/plain": [
       "[1] 89.68868"
      ]
     },
     "metadata": {},
     "output_type": "display_data"
    },
    {
     "data": {
      "text/html": [
       "149.031633977932"
      ],
      "text/latex": [
       "149.031633977932"
      ],
      "text/markdown": [
       "149.031633977932"
      ],
      "text/plain": [
       "[1] 149.0316"
      ]
     },
     "metadata": {},
     "output_type": "display_data"
    },
    {
     "data": {
      "text/html": [
       "<strong>$p.value</strong> = 0.0122310649349907"
      ],
      "text/latex": [
       "\\textbf{\\$p.value} = 0.0122310649349907"
      ],
      "text/markdown": [
       "**$p.value** = 0.0122310649349907"
      ],
      "text/plain": [
       "$p.value\n",
       "[1] 0.01223106\n"
      ]
     },
     "metadata": {},
     "output_type": "display_data"
    }
   ],
   "source": [
    "mean(eset_d_smc2)\n",
    "mean(eset_r_smc2)\n",
    "t.test(eset_d_smc2, eset_r_smc2, paired=FALSE, var.equal = TRUE, conf.level=0.95)[3]"
   ]
  },
  {
   "cell_type": "code",
   "execution_count": 15,
   "metadata": {},
   "outputs": [
    {
     "data": {
      "text/html": [
       "436.742560429585"
      ],
      "text/latex": [
       "436.742560429585"
      ],
      "text/markdown": [
       "436.742560429585"
      ],
      "text/plain": [
       "[1] 436.7426"
      ]
     },
     "metadata": {},
     "output_type": "display_data"
    },
    {
     "data": {
      "text/html": [
       "645.443607836946"
      ],
      "text/latex": [
       "645.443607836946"
      ],
      "text/markdown": [
       "645.443607836946"
      ],
      "text/plain": [
       "[1] 645.4436"
      ]
     },
     "metadata": {},
     "output_type": "display_data"
    },
    {
     "data": {
      "text/html": [
       "<strong>$p.value</strong> = 0.00418486264654447"
      ],
      "text/latex": [
       "\\textbf{\\$p.value} = 0.00418486264654447"
      ],
      "text/markdown": [
       "**$p.value** = 0.00418486264654447"
      ],
      "text/plain": [
       "$p.value\n",
       "[1] 0.004184863\n"
      ]
     },
     "metadata": {},
     "output_type": "display_data"
    }
   ],
   "source": [
    "mean(eset_d_smc4)\n",
    "mean(eset_r_smc4)\n",
    "wilcox.test(eset_d_smc4, eset_r_smc4, paired=FALSE, var.equal = TRUE, conf.level=0.95)[3]"
   ]
  },
  {
   "cell_type": "code",
   "execution_count": 16,
   "metadata": {},
   "outputs": [
    {
     "data": {
      "text/html": [
       "15.3051833478775"
      ],
      "text/latex": [
       "15.3051833478775"
      ],
      "text/markdown": [
       "15.3051833478775"
      ],
      "text/plain": [
       "[1] 15.30518"
      ]
     },
     "metadata": {},
     "output_type": "display_data"
    },
    {
     "data": {
      "text/html": [
       "14.5662319948435"
      ],
      "text/latex": [
       "14.5662319948435"
      ],
      "text/markdown": [
       "14.5662319948435"
      ],
      "text/plain": [
       "[1] 14.56623"
      ]
     },
     "metadata": {},
     "output_type": "display_data"
    },
    {
     "data": {
      "text/html": [
       "<strong>$p.value</strong> = 0.755425792610741"
      ],
      "text/latex": [
       "\\textbf{\\$p.value} = 0.755425792610741"
      ],
      "text/markdown": [
       "**$p.value** = 0.755425792610741"
      ],
      "text/plain": [
       "$p.value\n",
       "[1] 0.7554258\n"
      ]
     },
     "metadata": {},
     "output_type": "display_data"
    }
   ],
   "source": [
    "mean(eset_d_tpd53)\n",
    "mean(eset_r_tpd53)\n",
    "wilcox.test(eset_d_tpd53, eset_r_tpd53, paired=FALSE, var.equal = FALSE, conf.level=0.95)[3]"
   ]
  },
  {
   "cell_type": "code",
   "execution_count": 17,
   "metadata": {},
   "outputs": [
    {
     "data": {
      "text/html": [
       "171.775084586859"
      ],
      "text/latex": [
       "171.775084586859"
      ],
      "text/markdown": [
       "171.775084586859"
      ],
      "text/plain": [
       "[1] 171.7751"
      ]
     },
     "metadata": {},
     "output_type": "display_data"
    },
    {
     "data": {
      "text/html": [
       "243.756448274271"
      ],
      "text/latex": [
       "243.756448274271"
      ],
      "text/markdown": [
       "243.756448274271"
      ],
      "text/plain": [
       "[1] 243.7564"
      ]
     },
     "metadata": {},
     "output_type": "display_data"
    },
    {
     "data": {
      "text/html": [
       "<strong>$p.value</strong> = 0.0391982615074845"
      ],
      "text/latex": [
       "\\textbf{\\$p.value} = 0.0391982615074845"
      ],
      "text/markdown": [
       "**$p.value** = 0.0391982615074845"
      ],
      "text/plain": [
       "$p.value\n",
       "[1] 0.03919826\n"
      ]
     },
     "metadata": {},
     "output_type": "display_data"
    }
   ],
   "source": [
    "mean(eset_d_capd2)\n",
    "mean(eset_r_capd2)\n",
    "wilcox.test(eset_d_capd2, eset_r_capd2, paired=FALSE, var.equal = TRUE, conf.level=0.95)[3]"
   ]
  },
  {
   "cell_type": "code",
   "execution_count": 18,
   "metadata": {},
   "outputs": [
    {
     "data": {
      "text/html": [
       "121.687572339488"
      ],
      "text/latex": [
       "121.687572339488"
      ],
      "text/markdown": [
       "121.687572339488"
      ],
      "text/plain": [
       "[1] 121.6876"
      ]
     },
     "metadata": {},
     "output_type": "display_data"
    },
    {
     "data": {
      "text/html": [
       "203.615413280427"
      ],
      "text/latex": [
       "203.615413280427"
      ],
      "text/markdown": [
       "203.615413280427"
      ],
      "text/plain": [
       "[1] 203.6154"
      ]
     },
     "metadata": {},
     "output_type": "display_data"
    },
    {
     "data": {
      "text/html": [
       "<strong>$p.value</strong> = 0.0502498642935112"
      ],
      "text/latex": [
       "\\textbf{\\$p.value} = 0.0502498642935112"
      ],
      "text/markdown": [
       "**$p.value** = 0.0502498642935112"
      ],
      "text/plain": [
       "$p.value\n",
       "[1] 0.05024986\n"
      ]
     },
     "metadata": {},
     "output_type": "display_data"
    }
   ],
   "source": [
    "mean(eset_d_capg)\n",
    "mean(eset_r_capg)\n",
    "wilcox.test(eset_d_capg, eset_r_capg, paired=FALSE, var.equal = TRUE, conf.level=0.95)[3]"
   ]
  },
  {
   "cell_type": "code",
   "execution_count": 19,
   "metadata": {},
   "outputs": [
    {
     "data": {
      "text/html": [
       "51.080419402172"
      ],
      "text/latex": [
       "51.080419402172"
      ],
      "text/markdown": [
       "51.080419402172"
      ],
      "text/plain": [
       "[1] 51.08042"
      ]
     },
     "metadata": {},
     "output_type": "display_data"
    },
    {
     "data": {
      "text/html": [
       "86.6414104904288"
      ],
      "text/latex": [
       "86.6414104904288"
      ],
      "text/markdown": [
       "86.6414104904288"
      ],
      "text/plain": [
       "[1] 86.64141"
      ]
     },
     "metadata": {},
     "output_type": "display_data"
    },
    {
     "data": {
      "text/html": [
       "<strong>$p.value</strong> = 0.00125741065184797"
      ],
      "text/latex": [
       "\\textbf{\\$p.value} = 0.00125741065184797"
      ],
      "text/markdown": [
       "**$p.value** = 0.00125741065184797"
      ],
      "text/plain": [
       "$p.value\n",
       "[1] 0.001257411\n"
      ]
     },
     "metadata": {},
     "output_type": "display_data"
    }
   ],
   "source": [
    "mean(eset_d_caph)\n",
    "mean(eset_r_caph)\n",
    "wilcox.test(eset_d_caph, eset_r_caph, paired=FALSE, var.equal = TRUE, conf.level=0.95)[3]"
   ]
  },
  {
   "cell_type": "code",
   "execution_count": 20,
   "metadata": {},
   "outputs": [
    {
     "data": {
      "text/html": [
       "147.368432650037"
      ],
      "text/latex": [
       "147.368432650037"
      ],
      "text/markdown": [
       "147.368432650037"
      ],
      "text/plain": [
       "[1] 147.3684"
      ]
     },
     "metadata": {},
     "output_type": "display_data"
    },
    {
     "data": {
      "text/html": [
       "230.092506709651"
      ],
      "text/latex": [
       "230.092506709651"
      ],
      "text/markdown": [
       "230.092506709651"
      ],
      "text/plain": [
       "[1] 230.0925"
      ]
     },
     "metadata": {},
     "output_type": "display_data"
    },
    {
     "data": {
      "text/html": [
       "<strong>$p.value</strong> = 0.00293892243896785"
      ],
      "text/latex": [
       "\\textbf{\\$p.value} = 0.00293892243896785"
      ],
      "text/markdown": [
       "**$p.value** = 0.00293892243896785"
      ],
      "text/plain": [
       "$p.value\n",
       "[1] 0.002938922\n"
      ]
     },
     "metadata": {},
     "output_type": "display_data"
    }
   ],
   "source": [
    "mean(eset_d_capg2)\n",
    "mean(eset_r_capg2)\n",
    "wilcox.test(eset_d_capg2, eset_r_capg2, paired=FALSE, var.equal = TRUE, conf.level=0.95)[3]"
   ]
  },
  {
   "cell_type": "code",
   "execution_count": 21,
   "metadata": {},
   "outputs": [
    {
     "data": {
      "text/html": [
       "104.907152121842"
      ],
      "text/latex": [
       "104.907152121842"
      ],
      "text/markdown": [
       "104.907152121842"
      ],
      "text/plain": [
       "[1] 104.9072"
      ]
     },
     "metadata": {},
     "output_type": "display_data"
    },
    {
     "data": {
      "text/html": [
       "131.166787804026"
      ],
      "text/latex": [
       "131.166787804026"
      ],
      "text/markdown": [
       "131.166787804026"
      ],
      "text/plain": [
       "[1] 131.1668"
      ]
     },
     "metadata": {},
     "output_type": "display_data"
    },
    {
     "data": {
      "text/html": [
       "<strong>$p.value</strong> = 0.00125741065184797"
      ],
      "text/latex": [
       "\\textbf{\\$p.value} = 0.00125741065184797"
      ],
      "text/markdown": [
       "**$p.value** = 0.00125741065184797"
      ],
      "text/plain": [
       "$p.value\n",
       "[1] 0.001257411\n"
      ]
     },
     "metadata": {},
     "output_type": "display_data"
    }
   ],
   "source": [
    "mean(eset_d_caph2)\n",
    "mean(eset_r_caph2)\n",
    "wilcox.test(eset_d_caph2, eset_r_caph2, paired=FALSE, var.equal = FALSE, conf.level=0.95)[3]"
   ]
  },
  {
   "cell_type": "code",
   "execution_count": 22,
   "metadata": {},
   "outputs": [
    {
     "data": {
      "text/html": [
       "194.194359558687"
      ],
      "text/latex": [
       "194.194359558687"
      ],
      "text/markdown": [
       "194.194359558687"
      ],
      "text/plain": [
       "[1] 194.1944"
      ]
     },
     "metadata": {},
     "output_type": "display_data"
    },
    {
     "data": {
      "text/html": [
       "264.107333426856"
      ],
      "text/latex": [
       "264.107333426856"
      ],
      "text/markdown": [
       "264.107333426856"
      ],
      "text/plain": [
       "[1] 264.1073"
      ]
     },
     "metadata": {},
     "output_type": "display_data"
    },
    {
     "data": {
      "text/html": [
       "<strong>$p.value</strong> = 0.0200626878118188"
      ],
      "text/latex": [
       "\\textbf{\\$p.value} = 0.0200626878118188"
      ],
      "text/markdown": [
       "**$p.value** = 0.0200626878118188"
      ],
      "text/plain": [
       "$p.value\n",
       "[1] 0.02006269\n"
      ]
     },
     "metadata": {},
     "output_type": "display_data"
    }
   ],
   "source": [
    "mean(eset_d_capd3)\n",
    "mean(eset_r_capd3)\n",
    "wilcox.test(eset_d_capd3, eset_r_capd3, paired=FALSE, var.equal = TRUE, conf.level=0.95)[3]"
   ]
  },
  {
   "cell_type": "code",
   "execution_count": 23,
   "metadata": {},
   "outputs": [
    {
     "data": {
      "text/html": [
       "22"
      ],
      "text/latex": [
       "22"
      ],
      "text/markdown": [
       "22"
      ],
      "text/plain": [
       "[1] 22"
      ]
     },
     "metadata": {},
     "output_type": "display_data"
    }
   ],
   "source": [
    "length(eset_d_tpd53)"
   ]
  },
  {
   "cell_type": "code",
   "execution_count": 24,
   "metadata": {},
   "outputs": [],
   "source": [
    "data <- data.frame(\n",
    "  name=c( rep(\"SMC2_diagnosis\",22), rep(\"SMC2_relapse\",20), \n",
    "         rep(\"SMC4_diagnosis\",22), rep(\"SMC4_relapse\",20),\n",
    "         rep(\"TPD53_diagnosis\",22), rep(\"TPD53_relapse\",20),\n",
    "         rep(\"CAPD2_diagnosis\",22), rep(\"CAPD2_relapse\",20),\n",
    "         rep(\"CAPG_diagnosis\",22), rep(\"CAPG_relapse\",20),\n",
    "         rep(\"CAPH_diagnosis\",22), rep(\"CAPH_relapse\",20),\n",
    "         rep(\"CAPG2_diagnosis\",22), rep(\"CAPG2_relapse\",20),\n",
    "         rep(\"CAPH2_diagnosis\",22), rep(\"CAPH2_relapse\",20),\n",
    "         rep(\"CAPD3_diagnosis\",22), rep(\"CAPD3_relapse\",20)),\n",
    "  value=c( eset_d_smc2, eset_r_smc2, \n",
    "          eset_d_smc4, eset_r_smc4,\n",
    "         eset_d_tpd53, eset_r_tpd53,\n",
    "         eset_d_capd2, eset_r_capd2,\n",
    "         eset_d_capg, eset_r_capg,\n",
    "         eset_d_caph, eset_r_caph,\n",
    "         eset_d_capg2, eset_r_capg2,\n",
    "         eset_d_caph2, eset_r_caph2,\n",
    "         eset_d_capd3, eset_r_capd3)\n",
    ")\n",
    "\n",
    "write.csv(data, './GSE60926.csv', row.names=FALSE)"
   ]
  },
  {
   "cell_type": "markdown",
   "metadata": {},
   "source": [
    "---\n",
    "## GSE28460"
   ]
  },
  {
   "cell_type": "code",
   "execution_count": 25,
   "metadata": {},
   "outputs": [
    {
     "name": "stderr",
     "output_type": "stream",
     "text": [
      "Found 1 file(s)\n",
      "GSE28460_series_matrix.txt.gz\n",
      "Using locally cached version: C:\\Users\\BIOINF~1\\AppData\\Local\\Temp\\Rtmp6Z3zpH/GSE28460_series_matrix.txt.gz\n",
      "Parsed with column specification:\n",
      "cols(\n",
      "  .default = col_double(),\n",
      "  ID_REF = col_character()\n",
      ")\n",
      "See spec(...) for full column specifications.\n",
      "Using locally cached version of GPL570 found here:\n",
      "C:\\Users\\BIOINF~1\\AppData\\Local\\Temp\\Rtmp6Z3zpH/GPL570.soft \n"
     ]
    },
    {
     "data": {
      "text/html": [
       "<strong>$method</strong> = 'Shapiro-Wilk normality test'"
      ],
      "text/latex": [
       "\\textbf{\\$method} = 'Shapiro-Wilk normality test'"
      ],
      "text/markdown": [
       "**$method** = 'Shapiro-Wilk normality test'"
      ],
      "text/plain": [
       "$method\n",
       "[1] \"Shapiro-Wilk normality test\"\n"
      ]
     },
     "metadata": {},
     "output_type": "display_data"
    },
    {
     "data": {
      "text/html": [
       "'smc2'"
      ],
      "text/latex": [
       "'smc2'"
      ],
      "text/markdown": [
       "'smc2'"
      ],
      "text/plain": [
       "[1] \"smc2\""
      ]
     },
     "metadata": {},
     "output_type": "display_data"
    },
    {
     "data": {
      "text/html": [
       "<strong>$p.value</strong> = 1.36371499682292e-05"
      ],
      "text/latex": [
       "\\textbf{\\$p.value} = 1.36371499682292e-05"
      ],
      "text/markdown": [
       "**$p.value** = 1.36371499682292e-05"
      ],
      "text/plain": [
       "$p.value\n",
       "[1] 1.363715e-05\n"
      ]
     },
     "metadata": {},
     "output_type": "display_data"
    },
    {
     "data": {
      "text/html": [
       "<strong>$p.value</strong> = 0.0073912670607196"
      ],
      "text/latex": [
       "\\textbf{\\$p.value} = 0.0073912670607196"
      ],
      "text/markdown": [
       "**$p.value** = 0.0073912670607196"
      ],
      "text/plain": [
       "$p.value\n",
       "[1] 0.007391267\n"
      ]
     },
     "metadata": {},
     "output_type": "display_data"
    },
    {
     "data": {
      "text/html": [
       "'smc4'"
      ],
      "text/latex": [
       "'smc4'"
      ],
      "text/markdown": [
       "'smc4'"
      ],
      "text/plain": [
       "[1] \"smc4\""
      ]
     },
     "metadata": {},
     "output_type": "display_data"
    },
    {
     "data": {
      "text/html": [
       "<strong>$p.value</strong> = 1.14120895229633e-05"
      ],
      "text/latex": [
       "\\textbf{\\$p.value} = 1.14120895229633e-05"
      ],
      "text/markdown": [
       "**$p.value** = 1.14120895229633e-05"
      ],
      "text/plain": [
       "$p.value\n",
       "[1] 1.141209e-05\n"
      ]
     },
     "metadata": {},
     "output_type": "display_data"
    },
    {
     "data": {
      "text/html": [
       "<strong>$p.value</strong> = 0.0455952123575979"
      ],
      "text/latex": [
       "\\textbf{\\$p.value} = 0.0455952123575979"
      ],
      "text/markdown": [
       "**$p.value** = 0.0455952123575979"
      ],
      "text/plain": [
       "$p.value\n",
       "[1] 0.04559521\n"
      ]
     },
     "metadata": {},
     "output_type": "display_data"
    },
    {
     "data": {
      "text/html": [
       "'tpd53 == TPD52L1'"
      ],
      "text/latex": [
       "'tpd53 == TPD52L1'"
      ],
      "text/markdown": [
       "'tpd53 == TPD52L1'"
      ],
      "text/plain": [
       "[1] \"tpd53 == TPD52L1\""
      ]
     },
     "metadata": {},
     "output_type": "display_data"
    },
    {
     "data": {
      "text/html": [
       "<strong>$p.value</strong> = 0.00532739840324891"
      ],
      "text/latex": [
       "\\textbf{\\$p.value} = 0.00532739840324891"
      ],
      "text/markdown": [
       "**$p.value** = 0.00532739840324891"
      ],
      "text/plain": [
       "$p.value\n",
       "[1] 0.005327398\n"
      ]
     },
     "metadata": {},
     "output_type": "display_data"
    },
    {
     "data": {
      "text/html": [
       "<strong>$p.value</strong> = 2.7647453356623e-06"
      ],
      "text/latex": [
       "\\textbf{\\$p.value} = 2.7647453356623e-06"
      ],
      "text/markdown": [
       "**$p.value** = 2.7647453356623e-06"
      ],
      "text/plain": [
       "$p.value\n",
       "[1] 2.764745e-06\n"
      ]
     },
     "metadata": {},
     "output_type": "display_data"
    },
    {
     "data": {
      "text/html": [
       "'capd2'"
      ],
      "text/latex": [
       "'capd2'"
      ],
      "text/markdown": [
       "'capd2'"
      ],
      "text/plain": [
       "[1] \"capd2\""
      ]
     },
     "metadata": {},
     "output_type": "display_data"
    },
    {
     "data": {
      "text/html": [
       "<strong>$p.value</strong> = 0.000169673164112731"
      ],
      "text/latex": [
       "\\textbf{\\$p.value} = 0.000169673164112731"
      ],
      "text/markdown": [
       "**$p.value** = 0.000169673164112731"
      ],
      "text/plain": [
       "$p.value\n",
       "[1] 0.0001696732\n"
      ]
     },
     "metadata": {},
     "output_type": "display_data"
    },
    {
     "data": {
      "text/html": [
       "<strong>$p.value</strong> = 8.67995536988712e-09"
      ],
      "text/latex": [
       "\\textbf{\\$p.value} = 8.67995536988712e-09"
      ],
      "text/markdown": [
       "**$p.value** = 8.67995536988712e-09"
      ],
      "text/plain": [
       "$p.value\n",
       "[1] 8.679955e-09\n"
      ]
     },
     "metadata": {},
     "output_type": "display_data"
    },
    {
     "data": {
      "text/html": [
       "'capg'"
      ],
      "text/latex": [
       "'capg'"
      ],
      "text/markdown": [
       "'capg'"
      ],
      "text/plain": [
       "[1] \"capg\""
      ]
     },
     "metadata": {},
     "output_type": "display_data"
    },
    {
     "data": {
      "text/html": [
       "<strong>$p.value</strong> = 6.4155096260525e-07"
      ],
      "text/latex": [
       "\\textbf{\\$p.value} = 6.4155096260525e-07"
      ],
      "text/markdown": [
       "**$p.value** = 6.4155096260525e-07"
      ],
      "text/plain": [
       "$p.value\n",
       "[1] 6.41551e-07\n"
      ]
     },
     "metadata": {},
     "output_type": "display_data"
    },
    {
     "data": {
      "text/html": [
       "<strong>$p.value</strong> = 0.136363247884986"
      ],
      "text/latex": [
       "\\textbf{\\$p.value} = 0.136363247884986"
      ],
      "text/markdown": [
       "**$p.value** = 0.136363247884986"
      ],
      "text/plain": [
       "$p.value\n",
       "[1] 0.1363632\n"
      ]
     },
     "metadata": {},
     "output_type": "display_data"
    },
    {
     "data": {
      "text/html": [
       "'caph'"
      ],
      "text/latex": [
       "'caph'"
      ],
      "text/markdown": [
       "'caph'"
      ],
      "text/plain": [
       "[1] \"caph\""
      ]
     },
     "metadata": {},
     "output_type": "display_data"
    },
    {
     "data": {
      "text/html": [
       "<strong>$p.value</strong> = 6.3607711869551e-08"
      ],
      "text/latex": [
       "\\textbf{\\$p.value} = 6.3607711869551e-08"
      ],
      "text/markdown": [
       "**$p.value** = 6.3607711869551e-08"
      ],
      "text/plain": [
       "$p.value\n",
       "[1] 6.360771e-08\n"
      ]
     },
     "metadata": {},
     "output_type": "display_data"
    },
    {
     "data": {
      "text/html": [
       "<strong>$p.value</strong> = 0.00110991337821133"
      ],
      "text/latex": [
       "\\textbf{\\$p.value} = 0.00110991337821133"
      ],
      "text/markdown": [
       "**$p.value** = 0.00110991337821133"
      ],
      "text/plain": [
       "$p.value\n",
       "[1] 0.001109913\n"
      ]
     },
     "metadata": {},
     "output_type": "display_data"
    },
    {
     "data": {
      "text/html": [
       "'capg2'"
      ],
      "text/latex": [
       "'capg2'"
      ],
      "text/markdown": [
       "'capg2'"
      ],
      "text/plain": [
       "[1] \"capg2\""
      ]
     },
     "metadata": {},
     "output_type": "display_data"
    },
    {
     "data": {
      "text/html": [
       "<strong>$p.value</strong> = 0.0161400181902398"
      ],
      "text/latex": [
       "\\textbf{\\$p.value} = 0.0161400181902398"
      ],
      "text/markdown": [
       "**$p.value** = 0.0161400181902398"
      ],
      "text/plain": [
       "$p.value\n",
       "[1] 0.01614002\n"
      ]
     },
     "metadata": {},
     "output_type": "display_data"
    },
    {
     "data": {
      "text/html": [
       "<strong>$p.value</strong> = 0.13511473490961"
      ],
      "text/latex": [
       "\\textbf{\\$p.value} = 0.13511473490961"
      ],
      "text/markdown": [
       "**$p.value** = 0.13511473490961"
      ],
      "text/plain": [
       "$p.value\n",
       "[1] 0.1351147\n"
      ]
     },
     "metadata": {},
     "output_type": "display_data"
    },
    {
     "data": {
      "text/html": [
       "'caph2'"
      ],
      "text/latex": [
       "'caph2'"
      ],
      "text/markdown": [
       "'caph2'"
      ],
      "text/plain": [
       "[1] \"caph2\""
      ]
     },
     "metadata": {},
     "output_type": "display_data"
    },
    {
     "data": {
      "text/html": [
       "<strong>$p.value</strong> = 0.0738293905911832"
      ],
      "text/latex": [
       "\\textbf{\\$p.value} = 0.0738293905911832"
      ],
      "text/markdown": [
       "**$p.value** = 0.0738293905911832"
      ],
      "text/plain": [
       "$p.value\n",
       "[1] 0.07382939\n"
      ]
     },
     "metadata": {},
     "output_type": "display_data"
    },
    {
     "data": {
      "text/html": [
       "<strong>$p.value</strong> = 1.30319110850293e-05"
      ],
      "text/latex": [
       "\\textbf{\\$p.value} = 1.30319110850293e-05"
      ],
      "text/markdown": [
       "**$p.value** = 1.30319110850293e-05"
      ],
      "text/plain": [
       "$p.value\n",
       "[1] 1.303191e-05\n"
      ]
     },
     "metadata": {},
     "output_type": "display_data"
    },
    {
     "data": {
      "text/html": [
       "'capd3'"
      ],
      "text/latex": [
       "'capd3'"
      ],
      "text/markdown": [
       "'capd3'"
      ],
      "text/plain": [
       "[1] \"capd3\""
      ]
     },
     "metadata": {},
     "output_type": "display_data"
    },
    {
     "data": {
      "text/html": [
       "<strong>$p.value</strong> = 0.0288380202483399"
      ],
      "text/latex": [
       "\\textbf{\\$p.value} = 0.0288380202483399"
      ],
      "text/markdown": [
       "**$p.value** = 0.0288380202483399"
      ],
      "text/plain": [
       "$p.value\n",
       "[1] 0.02883802\n"
      ]
     },
     "metadata": {},
     "output_type": "display_data"
    },
    {
     "data": {
      "text/html": [
       "<strong>$p.value</strong> = 0.00947617530900256"
      ],
      "text/latex": [
       "\\textbf{\\$p.value} = 0.00947617530900256"
      ],
      "text/markdown": [
       "**$p.value** = 0.00947617530900256"
      ],
      "text/plain": [
       "$p.value\n",
       "[1] 0.009476175\n"
      ]
     },
     "metadata": {},
     "output_type": "display_data"
    },
    {
     "data": {
      "text/html": [
       "'------------------------------------------------------'"
      ],
      "text/latex": [
       "'------------------------------------------------------'"
      ],
      "text/markdown": [
       "'------------------------------------------------------'"
      ],
      "text/plain": [
       "[1] \"------------------------------------------------------\""
      ]
     },
     "metadata": {},
     "output_type": "display_data"
    },
    {
     "data": {
      "text/html": [
       "<strong>$method</strong> = 'F test to compare two variances'"
      ],
      "text/latex": [
       "\\textbf{\\$method} = 'F test to compare two variances'"
      ],
      "text/markdown": [
       "**$method** = 'F test to compare two variances'"
      ],
      "text/plain": [
       "$method\n",
       "[1] \"F test to compare two variances\"\n"
      ]
     },
     "metadata": {},
     "output_type": "display_data"
    },
    {
     "data": {
      "text/html": [
       "<strong>$p.value</strong> = 0.968182612614407"
      ],
      "text/latex": [
       "\\textbf{\\$p.value} = 0.968182612614407"
      ],
      "text/markdown": [
       "**$p.value** = 0.968182612614407"
      ],
      "text/plain": [
       "$p.value\n",
       "[1] 0.9681826\n"
      ]
     },
     "metadata": {},
     "output_type": "display_data"
    },
    {
     "data": {
      "text/html": [
       "<strong>$p.value</strong> = 0.420614348819809"
      ],
      "text/latex": [
       "\\textbf{\\$p.value} = 0.420614348819809"
      ],
      "text/markdown": [
       "**$p.value** = 0.420614348819809"
      ],
      "text/plain": [
       "$p.value\n",
       "[1] 0.4206143\n"
      ]
     },
     "metadata": {},
     "output_type": "display_data"
    },
    {
     "data": {
      "text/html": [
       "<strong>$p.value</strong> = 0.0153457076161809"
      ],
      "text/latex": [
       "\\textbf{\\$p.value} = 0.0153457076161809"
      ],
      "text/markdown": [
       "**$p.value** = 0.0153457076161809"
      ],
      "text/plain": [
       "$p.value\n",
       "[1] 0.01534571\n"
      ]
     },
     "metadata": {},
     "output_type": "display_data"
    },
    {
     "data": {
      "text/html": [
       "<strong>$p.value</strong> = 0.0191945708394398"
      ],
      "text/latex": [
       "\\textbf{\\$p.value} = 0.0191945708394398"
      ],
      "text/markdown": [
       "**$p.value** = 0.0191945708394398"
      ],
      "text/plain": [
       "$p.value\n",
       "[1] 0.01919457\n"
      ]
     },
     "metadata": {},
     "output_type": "display_data"
    },
    {
     "data": {
      "text/html": [
       "<strong>$p.value</strong> = 0.981336618764779"
      ],
      "text/latex": [
       "\\textbf{\\$p.value} = 0.981336618764779"
      ],
      "text/markdown": [
       "**$p.value** = 0.981336618764779"
      ],
      "text/plain": [
       "$p.value\n",
       "[1] 0.9813366\n"
      ]
     },
     "metadata": {},
     "output_type": "display_data"
    },
    {
     "data": {
      "text/html": [
       "<strong>$p.value</strong> = 0.397975355654064"
      ],
      "text/latex": [
       "\\textbf{\\$p.value} = 0.397975355654064"
      ],
      "text/markdown": [
       "**$p.value** = 0.397975355654064"
      ],
      "text/plain": [
       "$p.value\n",
       "[1] 0.3979754\n"
      ]
     },
     "metadata": {},
     "output_type": "display_data"
    },
    {
     "data": {
      "text/html": [
       "<strong>$p.value</strong> = 0.706996934243897"
      ],
      "text/latex": [
       "\\textbf{\\$p.value} = 0.706996934243897"
      ],
      "text/markdown": [
       "**$p.value** = 0.706996934243897"
      ],
      "text/plain": [
       "$p.value\n",
       "[1] 0.7069969\n"
      ]
     },
     "metadata": {},
     "output_type": "display_data"
    },
    {
     "data": {
      "text/html": [
       "<strong>$p.value</strong> = 0.108363565885979"
      ],
      "text/latex": [
       "\\textbf{\\$p.value} = 0.108363565885979"
      ],
      "text/markdown": [
       "**$p.value** = 0.108363565885979"
      ],
      "text/plain": [
       "$p.value\n",
       "[1] 0.1083636\n"
      ]
     },
     "metadata": {},
     "output_type": "display_data"
    },
    {
     "data": {
      "text/html": [
       "<strong>$p.value</strong> = 0.0270037276346729"
      ],
      "text/latex": [
       "\\textbf{\\$p.value} = 0.0270037276346729"
      ],
      "text/markdown": [
       "**$p.value** = 0.0270037276346729"
      ],
      "text/plain": [
       "$p.value\n",
       "[1] 0.02700373\n"
      ]
     },
     "metadata": {},
     "output_type": "display_data"
    }
   ],
   "source": [
    "gse <- getGEO(\"GSE28460\",GSEMatrix=TRUE)\n",
    "gse <- gse[[1]]\n",
    "\n",
    "#exp data\n",
    "eset <- exprs(gse)\n",
    "\n",
    "#probe id to gene symbol\n",
    "fset <- fData(gse)\n",
    "\n",
    "symbols <- fset[,\"Gene Symbol\"]\n",
    "rownames(eset) <- symbols\n",
    "\n",
    "pset <- phenoData(gse)\n",
    "\n",
    "pset_d = pset$'source_name_ch1' == 'diagnosis'\n",
    "pset_r = pset$'source_name_ch1' == 'relapse'\n",
    "\n",
    "eset_d = eset[,pset$'source_name_ch1' == 'diagnosis']\n",
    "eset_r = eset[,pset$'source_name_ch1' == 'relapse']\n",
    "\n",
    "eset_d_smc2 = eset_d[which(rownames(eset_d) == \"SMC2\")[1],]\n",
    "eset_r_smc2 = eset_r[which(rownames(eset_r) == \"SMC2\")[1],]\n",
    "\n",
    "eset_d_smc4 = eset_d[which(rownames(eset_d) == \"SMC4\")[1],]\n",
    "eset_r_smc4 = eset_r[which(rownames(eset_r) == \"SMC4\")[1],]\n",
    "\n",
    "eset_d_tpd53 = eset_d[which(rownames(eset_d) == \"TPD52L1\")[1],]\n",
    "eset_r_tpd53 = eset_r[which(rownames(eset_r) == \"TPD52L1\")[1],]\n",
    "\n",
    "eset_d_capd2 = eset_d[which(rownames(eset_d) == \"NCAPD2\")[1],]\n",
    "eset_r_capd2 = eset_r[which(rownames(eset_r) == \"NCAPD2\")[1],]\n",
    "\n",
    "eset_d_capg = eset_d[which(rownames(eset_d) == \"NCAPG\")[1],]\n",
    "eset_r_capg = eset_r[which(rownames(eset_r) == \"NCAPG\")[1],]\n",
    "\n",
    "eset_d_caph = eset_d[which(rownames(eset_d) == \"NCAPH\")[1],]\n",
    "eset_r_caph = eset_r[which(rownames(eset_r) == \"NCAPH\")[1],]\n",
    "\n",
    "eset_d_capg2 = eset_d[which(rownames(eset_d) == \"NCAPG2\")[1],]\n",
    "eset_r_capg2 = eset_r[which(rownames(eset_r) == \"NCAPG2\")[1],]\n",
    "\n",
    "eset_d_caph2 = eset_d[which(rownames(eset_d) == \"NCAPH2\")[1],]\n",
    "eset_r_caph2 = eset_r[which(rownames(eset_r) == \"NCAPH2\")[1],]\n",
    "\n",
    "eset_d_capd3 = eset_d[which(rownames(eset_d) == \"NCAPD3\")[1],]\n",
    "eset_r_capd3 = eset_r[which(rownames(eset_r) == \"NCAPD3\")[1],]\n",
    "\n",
    "\n",
    "shapiro.test(eset_d_smc2)[3]\n",
    "'smc2'\n",
    "shapiro.test(eset_d_smc2)[2]\n",
    "shapiro.test(eset_r_smc2)[2]\n",
    "'smc4'\n",
    "shapiro.test(eset_d_smc4)[2]\n",
    "shapiro.test(eset_r_smc4)[2]\n",
    "'tpd53 == TPD52L1'\n",
    "shapiro.test(eset_d_tpd53)[2]\n",
    "shapiro.test(eset_r_tpd53)[2]\n",
    "'capd2'\n",
    "shapiro.test(eset_d_capd2)[2]\n",
    "shapiro.test(eset_r_capd2)[2]\n",
    "'capg'\n",
    "shapiro.test(eset_d_capg)[2]\n",
    "shapiro.test(eset_r_capg)[2]\n",
    "'caph'\n",
    "shapiro.test(eset_d_caph)[2]\n",
    "shapiro.test(eset_r_caph)[2]\n",
    "'capg2'\n",
    "shapiro.test(eset_d_capg2)[2]\n",
    "shapiro.test(eset_r_capg2)[2]\n",
    "'caph2'\n",
    "shapiro.test(eset_d_caph2)[2]\n",
    "shapiro.test(eset_r_caph2)[2]\n",
    "'capd3'\n",
    "shapiro.test(eset_d_capd3)[2]\n",
    "shapiro.test(eset_r_capd3)[2]\n",
    "'------------------------------------------------------'\n",
    "var.test(eset_d_smc2, eset_r_smc2)[8]\n",
    "var.test(eset_d_smc2, eset_r_smc2)[3]\n",
    "var.test(eset_d_smc4, eset_r_smc4)[3]\n",
    "var.test(eset_d_tpd53, eset_r_tpd53)[3]\n",
    "var.test(eset_d_capd2, eset_r_capd2)[3]\n",
    "var.test(eset_d_capg, eset_r_capg)[3]\n",
    "var.test(eset_d_caph, eset_r_caph)[3]\n",
    "var.test(eset_d_capg2, eset_r_capg2)[3]\n",
    "var.test(eset_d_caph2, eset_r_caph2)[3]\n",
    "var.test(eset_d_capd3, eset_r_capd3)[3]"
   ]
  },
  {
   "cell_type": "code",
   "execution_count": 26,
   "metadata": {},
   "outputs": [
    {
     "data": {
      "text/html": [
       "722.886875041837"
      ],
      "text/latex": [
       "722.886875041837"
      ],
      "text/markdown": [
       "722.886875041837"
      ],
      "text/plain": [
       "[1] 722.8869"
      ]
     },
     "metadata": {},
     "output_type": "display_data"
    },
    {
     "data": {
      "text/html": [
       "898.187036436735"
      ],
      "text/latex": [
       "898.187036436735"
      ],
      "text/markdown": [
       "898.187036436735"
      ],
      "text/plain": [
       "[1] 898.187"
      ]
     },
     "metadata": {},
     "output_type": "display_data"
    },
    {
     "data": {
      "text/html": [
       "<strong>$p.value</strong> = 0.0371280924684517"
      ],
      "text/latex": [
       "\\textbf{\\$p.value} = 0.0371280924684517"
      ],
      "text/markdown": [
       "**$p.value** = 0.0371280924684517"
      ],
      "text/plain": [
       "$p.value\n",
       "[1] 0.03712809\n"
      ]
     },
     "metadata": {},
     "output_type": "display_data"
    }
   ],
   "source": [
    "mean(eset_d_smc2)\n",
    "mean(eset_r_smc2)\n",
    "t.test(eset_d_smc2, eset_r_smc2, paired=TRUE, var.equal = FALSE, conf.level=0.95)[3]"
   ]
  },
  {
   "cell_type": "code",
   "execution_count": 27,
   "metadata": {},
   "outputs": [
    {
     "data": {
      "text/html": [
       "2602.23367568367"
      ],
      "text/latex": [
       "2602.23367568367"
      ],
      "text/markdown": [
       "2602.23367568367"
      ],
      "text/plain": [
       "[1] 2602.234"
      ]
     },
     "metadata": {},
     "output_type": "display_data"
    },
    {
     "data": {
      "text/html": [
       "2545.02441638367"
      ],
      "text/latex": [
       "2545.02441638367"
      ],
      "text/markdown": [
       "2545.02441638367"
      ],
      "text/plain": [
       "[1] 2545.024"
      ]
     },
     "metadata": {},
     "output_type": "display_data"
    },
    {
     "data": {
      "text/html": [
       "<strong>$p.value</strong> = 0.793081046912137"
      ],
      "text/latex": [
       "\\textbf{\\$p.value} = 0.793081046912137"
      ],
      "text/markdown": [
       "**$p.value** = 0.793081046912137"
      ],
      "text/plain": [
       "$p.value\n",
       "[1] 0.793081\n"
      ]
     },
     "metadata": {},
     "output_type": "display_data"
    }
   ],
   "source": [
    "mean(eset_d_smc4)\n",
    "mean(eset_r_smc4)\n",
    "t.test(eset_d_smc4, eset_r_smc4, paired=TRUE, var.equal = FALSE, conf.level=0.95)[3]"
   ]
  },
  {
   "cell_type": "code",
   "execution_count": 28,
   "metadata": {},
   "outputs": [
    {
     "data": {
      "text/html": [
       "77.55062081"
      ],
      "text/latex": [
       "77.55062081"
      ],
      "text/markdown": [
       "77.55062081"
      ],
      "text/plain": [
       "[1] 77.55062"
      ]
     },
     "metadata": {},
     "output_type": "display_data"
    },
    {
     "data": {
      "text/html": [
       "86.9720756210204"
      ],
      "text/latex": [
       "86.9720756210204"
      ],
      "text/markdown": [
       "86.9720756210204"
      ],
      "text/plain": [
       "[1] 86.97208"
      ]
     },
     "metadata": {},
     "output_type": "display_data"
    },
    {
     "data": {
      "text/html": [
       "<strong>$p.value</strong> = 0.00952829595781191"
      ],
      "text/latex": [
       "\\textbf{\\$p.value} = 0.00952829595781191"
      ],
      "text/markdown": [
       "**$p.value** = 0.00952829595781191"
      ],
      "text/plain": [
       "$p.value\n",
       "[1] 0.009528296\n"
      ]
     },
     "metadata": {},
     "output_type": "display_data"
    }
   ],
   "source": [
    "mean(eset_d_tpd53)\n",
    "mean(eset_r_tpd53)\n",
    "t.test(eset_d_tpd53, eset_r_tpd53, paired=TRUE, var.equal = TRUE, conf.level=0.95)[3]"
   ]
  },
  {
   "cell_type": "code",
   "execution_count": 29,
   "metadata": {},
   "outputs": [
    {
     "data": {
      "text/html": [
       "193.164727076122"
      ],
      "text/latex": [
       "193.164727076122"
      ],
      "text/markdown": [
       "193.164727076122"
      ],
      "text/plain": [
       "[1] 193.1647"
      ]
     },
     "metadata": {},
     "output_type": "display_data"
    },
    {
     "data": {
      "text/html": [
       "228.953899848367"
      ],
      "text/latex": [
       "228.953899848367"
      ],
      "text/markdown": [
       "228.953899848367"
      ],
      "text/plain": [
       "[1] 228.9539"
      ]
     },
     "metadata": {},
     "output_type": "display_data"
    },
    {
     "data": {
      "text/html": [
       "<strong>$p.value</strong> = 0.0578760009015518"
      ],
      "text/latex": [
       "\\textbf{\\$p.value} = 0.0578760009015518"
      ],
      "text/markdown": [
       "**$p.value** = 0.0578760009015518"
      ],
      "text/plain": [
       "$p.value\n",
       "[1] 0.057876\n"
      ]
     },
     "metadata": {},
     "output_type": "display_data"
    }
   ],
   "source": [
    "mean(eset_d_capd2)\n",
    "mean(eset_r_capd2)\n",
    "t.test(eset_d_capd2, eset_r_capd2, paired=TRUE, var.equal = TRUE, conf.level=0.95)[3]"
   ]
  },
  {
   "cell_type": "code",
   "execution_count": 30,
   "metadata": {},
   "outputs": [
    {
     "data": {
      "text/html": [
       "1057.78313409184"
      ],
      "text/latex": [
       "1057.78313409184"
      ],
      "text/markdown": [
       "1057.78313409184"
      ],
      "text/plain": [
       "[1] 1057.783"
      ]
     },
     "metadata": {},
     "output_type": "display_data"
    },
    {
     "data": {
      "text/html": [
       "1500.83190310204"
      ],
      "text/latex": [
       "1500.83190310204"
      ],
      "text/markdown": [
       "1500.83190310204"
      ],
      "text/plain": [
       "[1] 1500.832"
      ]
     },
     "metadata": {},
     "output_type": "display_data"
    },
    {
     "data": {
      "text/html": [
       "<strong>$p.value</strong> = 6.48369440483521e-05"
      ],
      "text/latex": [
       "\\textbf{\\$p.value} = 6.48369440483521e-05"
      ],
      "text/markdown": [
       "**$p.value** = 6.48369440483521e-05"
      ],
      "text/plain": [
       "$p.value\n",
       "[1] 6.483694e-05\n"
      ]
     },
     "metadata": {},
     "output_type": "display_data"
    }
   ],
   "source": [
    "mean(eset_d_capg)\n",
    "mean(eset_r_capg)\n",
    "wilcox.test(eset_d_capg, eset_r_capg, paired=TRUE, var.equal = FALSE, conf.level=0.95)[3]"
   ]
  },
  {
   "cell_type": "code",
   "execution_count": 31,
   "metadata": {},
   "outputs": [
    {
     "data": {
      "text/html": [
       "309.788828153061"
      ],
      "text/latex": [
       "309.788828153061"
      ],
      "text/markdown": [
       "309.788828153061"
      ],
      "text/plain": [
       "[1] 309.7888"
      ]
     },
     "metadata": {},
     "output_type": "display_data"
    },
    {
     "data": {
      "text/html": [
       "432.447495059184"
      ],
      "text/latex": [
       "432.447495059184"
      ],
      "text/markdown": [
       "432.447495059184"
      ],
      "text/plain": [
       "[1] 432.4475"
      ]
     },
     "metadata": {},
     "output_type": "display_data"
    },
    {
     "data": {
      "text/html": [
       "<strong>$p.value</strong> = 0.000676306813427067"
      ],
      "text/latex": [
       "\\textbf{\\$p.value} = 0.000676306813427067"
      ],
      "text/markdown": [
       "**$p.value** = 0.000676306813427067"
      ],
      "text/plain": [
       "$p.value\n",
       "[1] 0.0006763068\n"
      ]
     },
     "metadata": {},
     "output_type": "display_data"
    }
   ],
   "source": [
    "mean(eset_d_caph)\n",
    "mean(eset_r_caph)\n",
    "t.test(eset_d_caph, eset_r_caph, paired=TRUE, var.equal = FALSE, conf.level=0.95)[3]"
   ]
  },
  {
   "cell_type": "code",
   "execution_count": 32,
   "metadata": {},
   "outputs": [
    {
     "data": {
      "text/html": [
       "363.129856191837"
      ],
      "text/latex": [
       "363.129856191837"
      ],
      "text/markdown": [
       "363.129856191837"
      ],
      "text/plain": [
       "[1] 363.1299"
      ]
     },
     "metadata": {},
     "output_type": "display_data"
    },
    {
     "data": {
      "text/html": [
       "402.648109971429"
      ],
      "text/latex": [
       "402.648109971429"
      ],
      "text/markdown": [
       "402.648109971429"
      ],
      "text/plain": [
       "[1] 402.6481"
      ]
     },
     "metadata": {},
     "output_type": "display_data"
    },
    {
     "data": {
      "text/html": [
       "<strong>$p.value</strong> = 0.0715741594116644"
      ],
      "text/latex": [
       "\\textbf{\\$p.value} = 0.0715741594116644"
      ],
      "text/markdown": [
       "**$p.value** = 0.0715741594116644"
      ],
      "text/plain": [
       "$p.value\n",
       "[1] 0.07157416\n"
      ]
     },
     "metadata": {},
     "output_type": "display_data"
    }
   ],
   "source": [
    "mean(eset_d_capg2)\n",
    "mean(eset_r_capg2)\n",
    "wilcox.test(eset_d_capg2, eset_r_capg2, paired=TRUE, var.equal = FALSE, conf.level=0.95)[3]"
   ]
  },
  {
   "cell_type": "code",
   "execution_count": 33,
   "metadata": {},
   "outputs": [
    {
     "data": {
      "text/html": [
       "180.616948169388"
      ],
      "text/latex": [
       "180.616948169388"
      ],
      "text/markdown": [
       "180.616948169388"
      ],
      "text/plain": [
       "[1] 180.6169"
      ]
     },
     "metadata": {},
     "output_type": "display_data"
    },
    {
     "data": {
      "text/html": [
       "200.161040428571"
      ],
      "text/latex": [
       "200.161040428571"
      ],
      "text/markdown": [
       "200.161040428571"
      ],
      "text/plain": [
       "[1] 200.161"
      ]
     },
     "metadata": {},
     "output_type": "display_data"
    },
    {
     "data": {
      "text/html": [
       "<strong>$p.value</strong> = 0.0543562164886531"
      ],
      "text/latex": [
       "\\textbf{\\$p.value} = 0.0543562164886531"
      ],
      "text/markdown": [
       "**$p.value** = 0.0543562164886531"
      ],
      "text/plain": [
       "$p.value\n",
       "[1] 0.05435622\n"
      ]
     },
     "metadata": {},
     "output_type": "display_data"
    }
   ],
   "source": [
    "mean(eset_d_caph2)\n",
    "mean(eset_r_caph2)\n",
    "wilcox.test(eset_d_caph2, eset_r_caph2, paired=TRUE, var.equal = FALSE, conf.level=0.95)[3]"
   ]
  },
  {
   "cell_type": "code",
   "execution_count": 34,
   "metadata": {},
   "outputs": [
    {
     "data": {
      "text/html": [
       "1008.31178083673"
      ],
      "text/latex": [
       "1008.31178083673"
      ],
      "text/markdown": [
       "1008.31178083673"
      ],
      "text/plain": [
       "[1] 1008.312"
      ]
     },
     "metadata": {},
     "output_type": "display_data"
    },
    {
     "data": {
      "text/html": [
       "1237.17938139388"
      ],
      "text/latex": [
       "1237.17938139388"
      ],
      "text/markdown": [
       "1237.17938139388"
      ],
      "text/plain": [
       "[1] 1237.179"
      ]
     },
     "metadata": {},
     "output_type": "display_data"
    },
    {
     "data": {
      "text/html": [
       "<strong>$p.value</strong> = 0.00167210126852799"
      ],
      "text/latex": [
       "\\textbf{\\$p.value} = 0.00167210126852799"
      ],
      "text/markdown": [
       "**$p.value** = 0.00167210126852799"
      ],
      "text/plain": [
       "$p.value\n",
       "[1] 0.001672101\n"
      ]
     },
     "metadata": {},
     "output_type": "display_data"
    }
   ],
   "source": [
    "mean(eset_d_capd3)\n",
    "mean(eset_r_capd3)\n",
    "t.test(eset_d_capd3, eset_r_capd3, paired=TRUE, var.equal = TRUE, conf.level=0.95)[3]"
   ]
  },
  {
   "cell_type": "code",
   "execution_count": 35,
   "metadata": {},
   "outputs": [],
   "source": [
    "dianum = 49\n",
    "relnum = 49\n",
    "\n",
    "data <- data.frame(\n",
    "  name=c( rep(\"SMC2_diagnosis\",dianum), rep(\"SMC2_relapse\",relnum), \n",
    "         rep(\"SMC4_diagnosis\",dianum), rep(\"SMC4_relapse\",relnum),\n",
    "         rep(\"TPD53_diagnosis\",dianum), rep(\"TPD53_relapse\",relnum),\n",
    "         rep(\"CAPD2_diagnosis\",dianum), rep(\"CAPD2_relapse\",relnum),\n",
    "         rep(\"CAPG_diagnosis\",dianum), rep(\"CAPG_relapse\",relnum),\n",
    "         rep(\"CAPH_diagnosis\",dianum), rep(\"CAPH_relapse\",relnum),\n",
    "         rep(\"CAPG2_diagnosis\",dianum), rep(\"CAPG2_relapse\",relnum),\n",
    "         rep(\"CAPH2_diagnosis\",dianum), rep(\"CAPH2_relapse\",relnum),\n",
    "         rep(\"CAPD3_diagnosis\",dianum), rep(\"CAPD3_relapse\",relnum)),\n",
    "  value=c( eset_d_smc2, eset_r_smc2, \n",
    "          eset_d_smc4, eset_r_smc4,\n",
    "         eset_d_tpd53, eset_r_tpd53,\n",
    "         eset_d_capd2, eset_r_capd2,\n",
    "         eset_d_capg, eset_r_capg,\n",
    "         eset_d_caph, eset_r_caph,\n",
    "         eset_d_capg2, eset_r_capg2,\n",
    "         eset_d_caph2, eset_r_caph2,\n",
    "         eset_d_capd3, eset_r_capd3)\n",
    ")\n",
    "\n",
    "write.csv(data, './GSE28460.csv', row.names=FALSE)"
   ]
  },
  {
   "cell_type": "markdown",
   "metadata": {},
   "source": [
    "---\n",
    "## GSE13576"
   ]
  },
  {
   "cell_type": "code",
   "execution_count": 36,
   "metadata": {},
   "outputs": [
    {
     "name": "stderr",
     "output_type": "stream",
     "text": [
      "Found 1 file(s)\n",
      "GSE13576_series_matrix.txt.gz\n",
      "Using locally cached version: C:\\Users\\BIOINF~1\\AppData\\Local\\Temp\\Rtmp6Z3zpH/GSE13576_series_matrix.txt.gz\n",
      "Parsed with column specification:\n",
      "cols(\n",
      "  .default = col_double(),\n",
      "  ID_REF = col_character()\n",
      ")\n",
      "See spec(...) for full column specifications.\n",
      "Using locally cached version of GPL570 found here:\n",
      "C:\\Users\\BIOINF~1\\AppData\\Local\\Temp\\Rtmp6Z3zpH/GPL570.soft \n"
     ]
    },
    {
     "data": {
      "text/html": [
       "<strong>$method</strong> = 'Shapiro-Wilk normality test'"
      ],
      "text/latex": [
       "\\textbf{\\$method} = 'Shapiro-Wilk normality test'"
      ],
      "text/markdown": [
       "**$method** = 'Shapiro-Wilk normality test'"
      ],
      "text/plain": [
       "$method\n",
       "[1] \"Shapiro-Wilk normality test\"\n"
      ]
     },
     "metadata": {},
     "output_type": "display_data"
    },
    {
     "data": {
      "text/html": [
       "'smc2'"
      ],
      "text/latex": [
       "'smc2'"
      ],
      "text/markdown": [
       "'smc2'"
      ],
      "text/plain": [
       "[1] \"smc2\""
      ]
     },
     "metadata": {},
     "output_type": "display_data"
    },
    {
     "data": {
      "text/html": [
       "<strong>$p.value</strong> = 3.78280914471172e-11"
      ],
      "text/latex": [
       "\\textbf{\\$p.value} = 3.78280914471172e-11"
      ],
      "text/markdown": [
       "**$p.value** = 3.78280914471172e-11"
      ],
      "text/plain": [
       "$p.value\n",
       "[1] 3.782809e-11\n"
      ]
     },
     "metadata": {},
     "output_type": "display_data"
    },
    {
     "data": {
      "text/html": [
       "<strong>$p.value</strong> = 0.0322810271546264"
      ],
      "text/latex": [
       "\\textbf{\\$p.value} = 0.0322810271546264"
      ],
      "text/markdown": [
       "**$p.value** = 0.0322810271546264"
      ],
      "text/plain": [
       "$p.value\n",
       "[1] 0.03228103\n"
      ]
     },
     "metadata": {},
     "output_type": "display_data"
    },
    {
     "data": {
      "text/html": [
       "'smc4'"
      ],
      "text/latex": [
       "'smc4'"
      ],
      "text/markdown": [
       "'smc4'"
      ],
      "text/plain": [
       "[1] \"smc4\""
      ]
     },
     "metadata": {},
     "output_type": "display_data"
    },
    {
     "data": {
      "text/html": [
       "<strong>$p.value</strong> = 0.00132857723715931"
      ],
      "text/latex": [
       "\\textbf{\\$p.value} = 0.00132857723715931"
      ],
      "text/markdown": [
       "**$p.value** = 0.00132857723715931"
      ],
      "text/plain": [
       "$p.value\n",
       "[1] 0.001328577\n"
      ]
     },
     "metadata": {},
     "output_type": "display_data"
    },
    {
     "data": {
      "text/html": [
       "<strong>$p.value</strong> = 4.59857544913558e-05"
      ],
      "text/latex": [
       "\\textbf{\\$p.value} = 4.59857544913558e-05"
      ],
      "text/markdown": [
       "**$p.value** = 4.59857544913558e-05"
      ],
      "text/plain": [
       "$p.value\n",
       "[1] 4.598575e-05\n"
      ]
     },
     "metadata": {},
     "output_type": "display_data"
    },
    {
     "data": {
      "text/html": [
       "'tpd53 == TPD52L1'"
      ],
      "text/latex": [
       "'tpd53 == TPD52L1'"
      ],
      "text/markdown": [
       "'tpd53 == TPD52L1'"
      ],
      "text/plain": [
       "[1] \"tpd53 == TPD52L1\""
      ]
     },
     "metadata": {},
     "output_type": "display_data"
    },
    {
     "data": {
      "text/html": [
       "<strong>$p.value</strong> = 7.54453549374563e-26"
      ],
      "text/latex": [
       "\\textbf{\\$p.value} = 7.54453549374563e-26"
      ],
      "text/markdown": [
       "**$p.value** = 7.54453549374563e-26"
      ],
      "text/plain": [
       "$p.value\n",
       "[1] 7.544535e-26\n"
      ]
     },
     "metadata": {},
     "output_type": "display_data"
    },
    {
     "data": {
      "text/html": [
       "<strong>$p.value</strong> = 0.0292362506342857"
      ],
      "text/latex": [
       "\\textbf{\\$p.value} = 0.0292362506342857"
      ],
      "text/markdown": [
       "**$p.value** = 0.0292362506342857"
      ],
      "text/plain": [
       "$p.value\n",
       "[1] 0.02923625\n"
      ]
     },
     "metadata": {},
     "output_type": "display_data"
    },
    {
     "data": {
      "text/html": [
       "'capd2'"
      ],
      "text/latex": [
       "'capd2'"
      ],
      "text/markdown": [
       "'capd2'"
      ],
      "text/plain": [
       "[1] \"capd2\""
      ]
     },
     "metadata": {},
     "output_type": "display_data"
    },
    {
     "data": {
      "text/html": [
       "<strong>$p.value</strong> = 2.74605844050669e-11"
      ],
      "text/latex": [
       "\\textbf{\\$p.value} = 2.74605844050669e-11"
      ],
      "text/markdown": [
       "**$p.value** = 2.74605844050669e-11"
      ],
      "text/plain": [
       "$p.value\n",
       "[1] 2.746058e-11\n"
      ]
     },
     "metadata": {},
     "output_type": "display_data"
    },
    {
     "data": {
      "text/html": [
       "<strong>$p.value</strong> = 0.000269412214722521"
      ],
      "text/latex": [
       "\\textbf{\\$p.value} = 0.000269412214722521"
      ],
      "text/markdown": [
       "**$p.value** = 0.000269412214722521"
      ],
      "text/plain": [
       "$p.value\n",
       "[1] 0.0002694122\n"
      ]
     },
     "metadata": {},
     "output_type": "display_data"
    },
    {
     "data": {
      "text/html": [
       "'capg'"
      ],
      "text/latex": [
       "'capg'"
      ],
      "text/markdown": [
       "'capg'"
      ],
      "text/plain": [
       "[1] \"capg\""
      ]
     },
     "metadata": {},
     "output_type": "display_data"
    },
    {
     "data": {
      "text/html": [
       "<strong>$p.value</strong> = 4.80399217902146e-11"
      ],
      "text/latex": [
       "\\textbf{\\$p.value} = 4.80399217902146e-11"
      ],
      "text/markdown": [
       "**$p.value** = 4.80399217902146e-11"
      ],
      "text/plain": [
       "$p.value\n",
       "[1] 4.803992e-11\n"
      ]
     },
     "metadata": {},
     "output_type": "display_data"
    },
    {
     "data": {
      "text/html": [
       "<strong>$p.value</strong> = 0.764372627850921"
      ],
      "text/latex": [
       "\\textbf{\\$p.value} = 0.764372627850921"
      ],
      "text/markdown": [
       "**$p.value** = 0.764372627850921"
      ],
      "text/plain": [
       "$p.value\n",
       "[1] 0.7643726\n"
      ]
     },
     "metadata": {},
     "output_type": "display_data"
    },
    {
     "data": {
      "text/html": [
       "'caph'"
      ],
      "text/latex": [
       "'caph'"
      ],
      "text/markdown": [
       "'caph'"
      ],
      "text/plain": [
       "[1] \"caph\""
      ]
     },
     "metadata": {},
     "output_type": "display_data"
    },
    {
     "data": {
      "text/html": [
       "<strong>$p.value</strong> = 7.71641995645273e-09"
      ],
      "text/latex": [
       "\\textbf{\\$p.value} = 7.71641995645273e-09"
      ],
      "text/markdown": [
       "**$p.value** = 7.71641995645273e-09"
      ],
      "text/plain": [
       "$p.value\n",
       "[1] 7.71642e-09\n"
      ]
     },
     "metadata": {},
     "output_type": "display_data"
    },
    {
     "data": {
      "text/html": [
       "<strong>$p.value</strong> = 0.148321723464085"
      ],
      "text/latex": [
       "\\textbf{\\$p.value} = 0.148321723464085"
      ],
      "text/markdown": [
       "**$p.value** = 0.148321723464085"
      ],
      "text/plain": [
       "$p.value\n",
       "[1] 0.1483217\n"
      ]
     },
     "metadata": {},
     "output_type": "display_data"
    },
    {
     "data": {
      "text/html": [
       "'capg2'"
      ],
      "text/latex": [
       "'capg2'"
      ],
      "text/markdown": [
       "'capg2'"
      ],
      "text/plain": [
       "[1] \"capg2\""
      ]
     },
     "metadata": {},
     "output_type": "display_data"
    },
    {
     "data": {
      "text/html": [
       "<strong>$p.value</strong> = 7.2962956773355e-08"
      ],
      "text/latex": [
       "\\textbf{\\$p.value} = 7.2962956773355e-08"
      ],
      "text/markdown": [
       "**$p.value** = 7.2962956773355e-08"
      ],
      "text/plain": [
       "$p.value\n",
       "[1] 7.296296e-08\n"
      ]
     },
     "metadata": {},
     "output_type": "display_data"
    },
    {
     "data": {
      "text/html": [
       "<strong>$p.value</strong> = 0.15828892037476"
      ],
      "text/latex": [
       "\\textbf{\\$p.value} = 0.15828892037476"
      ],
      "text/markdown": [
       "**$p.value** = 0.15828892037476"
      ],
      "text/plain": [
       "$p.value\n",
       "[1] 0.1582889\n"
      ]
     },
     "metadata": {},
     "output_type": "display_data"
    },
    {
     "data": {
      "text/html": [
       "'caph2'"
      ],
      "text/latex": [
       "'caph2'"
      ],
      "text/markdown": [
       "'caph2'"
      ],
      "text/plain": [
       "[1] \"caph2\""
      ]
     },
     "metadata": {},
     "output_type": "display_data"
    },
    {
     "data": {
      "text/html": [
       "<strong>$p.value</strong> = 7.57162713345601e-06"
      ],
      "text/latex": [
       "\\textbf{\\$p.value} = 7.57162713345601e-06"
      ],
      "text/markdown": [
       "**$p.value** = 7.57162713345601e-06"
      ],
      "text/plain": [
       "$p.value\n",
       "[1] 7.571627e-06\n"
      ]
     },
     "metadata": {},
     "output_type": "display_data"
    },
    {
     "data": {
      "text/html": [
       "<strong>$p.value</strong> = 0.0539448600642877"
      ],
      "text/latex": [
       "\\textbf{\\$p.value} = 0.0539448600642877"
      ],
      "text/markdown": [
       "**$p.value** = 0.0539448600642877"
      ],
      "text/plain": [
       "$p.value\n",
       "[1] 0.05394486\n"
      ]
     },
     "metadata": {},
     "output_type": "display_data"
    },
    {
     "data": {
      "text/html": [
       "'capd3'"
      ],
      "text/latex": [
       "'capd3'"
      ],
      "text/markdown": [
       "'capd3'"
      ],
      "text/plain": [
       "[1] \"capd3\""
      ]
     },
     "metadata": {},
     "output_type": "display_data"
    },
    {
     "data": {
      "text/html": [
       "<strong>$p.value</strong> = 3.3568571906528e-20"
      ],
      "text/latex": [
       "\\textbf{\\$p.value} = 3.3568571906528e-20"
      ],
      "text/markdown": [
       "**$p.value** = 3.3568571906528e-20"
      ],
      "text/plain": [
       "$p.value\n",
       "[1] 3.356857e-20\n"
      ]
     },
     "metadata": {},
     "output_type": "display_data"
    },
    {
     "data": {
      "text/html": [
       "<strong>$p.value</strong> = 2.34111369668021e-06"
      ],
      "text/latex": [
       "\\textbf{\\$p.value} = 2.34111369668021e-06"
      ],
      "text/markdown": [
       "**$p.value** = 2.34111369668021e-06"
      ],
      "text/plain": [
       "$p.value\n",
       "[1] 2.341114e-06\n"
      ]
     },
     "metadata": {},
     "output_type": "display_data"
    },
    {
     "data": {
      "text/html": [
       "'------------------------------------------------------'"
      ],
      "text/latex": [
       "'------------------------------------------------------'"
      ],
      "text/markdown": [
       "'------------------------------------------------------'"
      ],
      "text/plain": [
       "[1] \"------------------------------------------------------\""
      ]
     },
     "metadata": {},
     "output_type": "display_data"
    },
    {
     "data": {
      "text/html": [
       "<strong>$method</strong> = 'F test to compare two variances'"
      ],
      "text/latex": [
       "\\textbf{\\$method} = 'F test to compare two variances'"
      ],
      "text/markdown": [
       "**$method** = 'F test to compare two variances'"
      ],
      "text/plain": [
       "$method\n",
       "[1] \"F test to compare two variances\"\n"
      ]
     },
     "metadata": {},
     "output_type": "display_data"
    },
    {
     "data": {
      "text/html": [
       "<strong>$p.value</strong> = 0.146869609743632"
      ],
      "text/latex": [
       "\\textbf{\\$p.value} = 0.146869609743632"
      ],
      "text/markdown": [
       "**$p.value** = 0.146869609743632"
      ],
      "text/plain": [
       "$p.value\n",
       "[1] 0.1468696\n"
      ]
     },
     "metadata": {},
     "output_type": "display_data"
    },
    {
     "data": {
      "text/html": [
       "<strong>$p.value</strong> = 0.0178227513479242"
      ],
      "text/latex": [
       "\\textbf{\\$p.value} = 0.0178227513479242"
      ],
      "text/markdown": [
       "**$p.value** = 0.0178227513479242"
      ],
      "text/plain": [
       "$p.value\n",
       "[1] 0.01782275\n"
      ]
     },
     "metadata": {},
     "output_type": "display_data"
    },
    {
     "data": {
      "text/html": [
       "<strong>$p.value</strong> = 0"
      ],
      "text/latex": [
       "\\textbf{\\$p.value} = 0"
      ],
      "text/markdown": [
       "**$p.value** = 0"
      ],
      "text/plain": [
       "$p.value\n",
       "[1] 0\n"
      ]
     },
     "metadata": {},
     "output_type": "display_data"
    },
    {
     "data": {
      "text/html": [
       "<strong>$p.value</strong> = 0.00584697234793942"
      ],
      "text/latex": [
       "\\textbf{\\$p.value} = 0.00584697234793942"
      ],
      "text/markdown": [
       "**$p.value** = 0.00584697234793942"
      ],
      "text/plain": [
       "$p.value\n",
       "[1] 0.005846972\n"
      ]
     },
     "metadata": {},
     "output_type": "display_data"
    },
    {
     "data": {
      "text/html": [
       "<strong>$p.value</strong> = 0.00554927094189983"
      ],
      "text/latex": [
       "\\textbf{\\$p.value} = 0.00554927094189983"
      ],
      "text/markdown": [
       "**$p.value** = 0.00554927094189983"
      ],
      "text/plain": [
       "$p.value\n",
       "[1] 0.005549271\n"
      ]
     },
     "metadata": {},
     "output_type": "display_data"
    },
    {
     "data": {
      "text/html": [
       "<strong>$p.value</strong> = 0.743097125149981"
      ],
      "text/latex": [
       "\\textbf{\\$p.value} = 0.743097125149981"
      ],
      "text/markdown": [
       "**$p.value** = 0.743097125149981"
      ],
      "text/plain": [
       "$p.value\n",
       "[1] 0.7430971\n"
      ]
     },
     "metadata": {},
     "output_type": "display_data"
    },
    {
     "data": {
      "text/html": [
       "<strong>$p.value</strong> = 0.428807925751722"
      ],
      "text/latex": [
       "\\textbf{\\$p.value} = 0.428807925751722"
      ],
      "text/markdown": [
       "**$p.value** = 0.428807925751722"
      ],
      "text/plain": [
       "$p.value\n",
       "[1] 0.4288079\n"
      ]
     },
     "metadata": {},
     "output_type": "display_data"
    },
    {
     "data": {
      "text/html": [
       "<strong>$p.value</strong> = 0.283473081914044"
      ],
      "text/latex": [
       "\\textbf{\\$p.value} = 0.283473081914044"
      ],
      "text/markdown": [
       "**$p.value** = 0.283473081914044"
      ],
      "text/plain": [
       "$p.value\n",
       "[1] 0.2834731\n"
      ]
     },
     "metadata": {},
     "output_type": "display_data"
    },
    {
     "data": {
      "text/html": [
       "<strong>$p.value</strong> = 0.00572864934235895"
      ],
      "text/latex": [
       "\\textbf{\\$p.value} = 0.00572864934235895"
      ],
      "text/markdown": [
       "**$p.value** = 0.00572864934235895"
      ],
      "text/plain": [
       "$p.value\n",
       "[1] 0.005728649\n"
      ]
     },
     "metadata": {},
     "output_type": "display_data"
    }
   ],
   "source": [
    "gse <- getGEO(\"GSE13576\",GSEMatrix=TRUE)\n",
    "gse <- gse[[1]]\n",
    "\n",
    "#exp data\n",
    "eset <- exprs(gse)\n",
    "\n",
    "#probe id to gene symbol\n",
    "fset <- fData(gse)\n",
    "\n",
    "symbols <- fset[,\"Gene Symbol\"]\n",
    "rownames(eset) <- symbols\n",
    "\n",
    "pset <- phenoData(gse)\n",
    "\n",
    "eset <- 2^(eset) #denomalizing\n",
    "\n",
    "pset_d = pset$'source_name_ch1' == 'no relapse'\n",
    "pset_r = pset$'source_name_ch1'[regexpr(\"early\", pset$'source_name_ch1') == TRUE | regexpr(\"late\", pset$'source_name_ch1') == TRUE]\n",
    "\n",
    "eset_d = eset[,pset$'source_name_ch1' == 'no relapse']\n",
    "eset_r = eset[,regexpr(\"early\", pset$'source_name_ch1') == TRUE | regexpr(\"late\", pset$'source_name_ch1') == TRUE]\n",
    "\n",
    "eset_d_smc2 = eset_d[which(rownames(eset_d) == \"SMC2\")[1],]\n",
    "eset_r_smc2 = eset_r[which(rownames(eset_r) == \"SMC2\")[1],]\n",
    "\n",
    "eset_d_smc4 = eset_d[which(rownames(eset_d) == \"SMC4\")[1],]\n",
    "eset_r_smc4 = eset_r[which(rownames(eset_r) == \"SMC4\")[1],]\n",
    "\n",
    "eset_d_tpd53 = eset_d[which(rownames(eset_d) == \"TPD52L1\")[1],]\n",
    "eset_r_tpd53 = eset_r[which(rownames(eset_r) == \"TPD52L1\")[1],]\n",
    "\n",
    "eset_d_capd2 = eset_d[which(rownames(eset_d) == \"NCAPD2\")[1],]\n",
    "eset_r_capd2 = eset_r[which(rownames(eset_r) == \"NCAPD2\")[1],]\n",
    "\n",
    "eset_d_capg = eset_d[which(rownames(eset_d) == \"NCAPG\")[1],]\n",
    "eset_r_capg = eset_r[which(rownames(eset_r) == \"NCAPG\")[1],]\n",
    "\n",
    "eset_d_caph = eset_d[which(rownames(eset_d) == \"NCAPH\")[1],]\n",
    "eset_r_caph = eset_r[which(rownames(eset_r) == \"NCAPH\")[1],]\n",
    "\n",
    "eset_d_capg2 = eset_d[which(rownames(eset_d) == \"NCAPG2\")[1],]\n",
    "eset_r_capg2 = eset_r[which(rownames(eset_r) == \"NCAPG2\")[1],]\n",
    "\n",
    "eset_d_caph2 = eset_d[which(rownames(eset_d) == \"NCAPH2\")[1],]\n",
    "eset_r_caph2 = eset_r[which(rownames(eset_r) == \"NCAPH2\")[1],]\n",
    "\n",
    "eset_d_capd3 = eset_d[which(rownames(eset_d) == \"NCAPD3\")[1],]\n",
    "eset_r_capd3 = eset_r[which(rownames(eset_r) == \"NCAPD3\")[1],]\n",
    "\n",
    "\n",
    "shapiro.test(eset_d_smc2)[3]\n",
    "'smc2'\n",
    "shapiro.test(eset_d_smc2)[2]\n",
    "shapiro.test(eset_r_smc2)[2]\n",
    "'smc4'\n",
    "shapiro.test(eset_d_smc4)[2]\n",
    "shapiro.test(eset_r_smc4)[2]\n",
    "'tpd53 == TPD52L1'\n",
    "shapiro.test(eset_d_tpd53)[2]\n",
    "shapiro.test(eset_r_tpd53)[2]\n",
    "'capd2'\n",
    "shapiro.test(eset_d_capd2)[2]\n",
    "shapiro.test(eset_r_capd2)[2]\n",
    "'capg'\n",
    "shapiro.test(eset_d_capg)[2]\n",
    "shapiro.test(eset_r_capg)[2]\n",
    "'caph'\n",
    "shapiro.test(eset_d_caph)[2]\n",
    "shapiro.test(eset_r_caph)[2]\n",
    "'capg2'\n",
    "shapiro.test(eset_d_capg2)[2]\n",
    "shapiro.test(eset_r_capg2)[2]\n",
    "'caph2'\n",
    "shapiro.test(eset_d_caph2)[2]\n",
    "shapiro.test(eset_r_caph2)[2]\n",
    "'capd3'\n",
    "shapiro.test(eset_d_capd3)[2]\n",
    "shapiro.test(eset_r_capd3)[2]\n",
    "'------------------------------------------------------'\n",
    "var.test(eset_d_smc2, eset_r_smc2)[8]\n",
    "var.test(eset_d_smc2, eset_r_smc2)[3]\n",
    "var.test(eset_d_smc4, eset_r_smc4)[3]\n",
    "var.test(eset_d_tpd53, eset_r_tpd53)[3]\n",
    "var.test(eset_d_capd2, eset_r_capd2)[3]\n",
    "var.test(eset_d_capg, eset_r_capg)[3]\n",
    "var.test(eset_d_caph, eset_r_caph)[3]\n",
    "var.test(eset_d_capg2, eset_r_capg2)[3]\n",
    "var.test(eset_d_caph2, eset_r_caph2)[3]\n",
    "var.test(eset_d_capd3, eset_r_capd3)[3]"
   ]
  },
  {
   "cell_type": "code",
   "execution_count": 37,
   "metadata": {},
   "outputs": [
    {
     "data": {
      "text/html": [
       "64.6734135606905"
      ],
      "text/latex": [
       "64.6734135606905"
      ],
      "text/markdown": [
       "64.6734135606905"
      ],
      "text/plain": [
       "[1] 64.67341"
      ]
     },
     "metadata": {},
     "output_type": "display_data"
    },
    {
     "data": {
      "text/html": [
       "64.8642522978179"
      ],
      "text/latex": [
       "64.8642522978179"
      ],
      "text/markdown": [
       "64.8642522978179"
      ],
      "text/plain": [
       "[1] 64.86425"
      ]
     },
     "metadata": {},
     "output_type": "display_data"
    },
    {
     "data": {
      "text/html": [
       "<strong>$p.value</strong> = 0.979133645846302"
      ],
      "text/latex": [
       "\\textbf{\\$p.value} = 0.979133645846302"
      ],
      "text/markdown": [
       "**$p.value** = 0.979133645846302"
      ],
      "text/plain": [
       "$p.value\n",
       "[1] 0.9791336\n"
      ]
     },
     "metadata": {},
     "output_type": "display_data"
    }
   ],
   "source": [
    "mean(eset_d_smc2)\n",
    "mean(eset_r_smc2)\n",
    "t.test(eset_d_smc2, eset_r_smc2, paired=FALSE, var.equal = FALSE, conf.level=0.95)[3]"
   ]
  },
  {
   "cell_type": "code",
   "execution_count": 38,
   "metadata": {},
   "outputs": [
    {
     "data": {
      "text/html": [
       "439.536022627876"
      ],
      "text/latex": [
       "439.536022627876"
      ],
      "text/markdown": [
       "439.536022627876"
      ],
      "text/plain": [
       "[1] 439.536"
      ]
     },
     "metadata": {},
     "output_type": "display_data"
    },
    {
     "data": {
      "text/html": [
       "460.708255226582"
      ],
      "text/latex": [
       "460.708255226582"
      ],
      "text/markdown": [
       "460.708255226582"
      ],
      "text/plain": [
       "[1] 460.7083"
      ]
     },
     "metadata": {},
     "output_type": "display_data"
    },
    {
     "data": {
      "text/html": [
       "<strong>$p.value</strong> = 0.598323672439526"
      ],
      "text/latex": [
       "\\textbf{\\$p.value} = 0.598323672439526"
      ],
      "text/markdown": [
       "**$p.value** = 0.598323672439526"
      ],
      "text/plain": [
       "$p.value\n",
       "[1] 0.5983237\n"
      ]
     },
     "metadata": {},
     "output_type": "display_data"
    }
   ],
   "source": [
    "mean(eset_d_smc4)\n",
    "mean(eset_r_smc4)\n",
    "t.test(eset_d_smc4, eset_r_smc4, paired=FALSE, var.equal = TRUE, conf.level=0.95)[3]"
   ]
  },
  {
   "cell_type": "code",
   "execution_count": 39,
   "metadata": {},
   "outputs": [
    {
     "data": {
      "text/html": [
       "15.6808118848018"
      ],
      "text/latex": [
       "15.6808118848018"
      ],
      "text/markdown": [
       "15.6808118848018"
      ],
      "text/plain": [
       "[1] 15.68081"
      ]
     },
     "metadata": {},
     "output_type": "display_data"
    },
    {
     "data": {
      "text/html": [
       "13.56125016841"
      ],
      "text/latex": [
       "13.56125016841"
      ],
      "text/markdown": [
       "13.56125016841"
      ],
      "text/plain": [
       "[1] 13.56125"
      ]
     },
     "metadata": {},
     "output_type": "display_data"
    },
    {
     "data": {
      "text/html": [
       "<strong>$p.value</strong> = 0.322811241320844"
      ],
      "text/latex": [
       "\\textbf{\\$p.value} = 0.322811241320844"
      ],
      "text/markdown": [
       "**$p.value** = 0.322811241320844"
      ],
      "text/plain": [
       "$p.value\n",
       "[1] 0.3228112\n"
      ]
     },
     "metadata": {},
     "output_type": "display_data"
    }
   ],
   "source": [
    "mean(eset_d_tpd53)\n",
    "mean(eset_r_tpd53)\n",
    "t.test(eset_d_tpd53, eset_r_tpd53, paired=FALSE, var.equal = TRUE, conf.level=0.95)[3]"
   ]
  },
  {
   "cell_type": "code",
   "execution_count": 40,
   "metadata": {},
   "outputs": [
    {
     "data": {
      "text/html": [
       "73.6946956070856"
      ],
      "text/latex": [
       "73.6946956070856"
      ],
      "text/markdown": [
       "73.6946956070856"
      ],
      "text/plain": [
       "[1] 73.6947"
      ]
     },
     "metadata": {},
     "output_type": "display_data"
    },
    {
     "data": {
      "text/html": [
       "95.8079508264581"
      ],
      "text/latex": [
       "95.8079508264581"
      ],
      "text/markdown": [
       "95.8079508264581"
      ],
      "text/plain": [
       "[1] 95.80795"
      ]
     },
     "metadata": {},
     "output_type": "display_data"
    },
    {
     "data": {
      "text/html": [
       "<strong>$p.value</strong> = 0.0197268961308063"
      ],
      "text/latex": [
       "\\textbf{\\$p.value} = 0.0197268961308063"
      ],
      "text/markdown": [
       "**$p.value** = 0.0197268961308063"
      ],
      "text/plain": [
       "$p.value\n",
       "[1] 0.0197269\n"
      ]
     },
     "metadata": {},
     "output_type": "display_data"
    }
   ],
   "source": [
    "mean(eset_d_capd2)\n",
    "mean(eset_r_capd2)\n",
    "t.test(eset_d_capd2, eset_r_capd2, paired=FALSE, var.equal = TRUE, conf.level=0.95)[3]"
   ]
  },
  {
   "cell_type": "code",
   "execution_count": 41,
   "metadata": {},
   "outputs": [
    {
     "data": {
      "text/html": [
       "73.2751655390246"
      ],
      "text/latex": [
       "73.2751655390246"
      ],
      "text/markdown": [
       "73.2751655390246"
      ],
      "text/plain": [
       "[1] 73.27517"
      ]
     },
     "metadata": {},
     "output_type": "display_data"
    },
    {
     "data": {
      "text/html": [
       "74.7960699170817"
      ],
      "text/latex": [
       "74.7960699170817"
      ],
      "text/markdown": [
       "74.7960699170817"
      ],
      "text/plain": [
       "[1] 74.79607"
      ]
     },
     "metadata": {},
     "output_type": "display_data"
    },
    {
     "data": {
      "text/html": [
       "<strong>$p.value</strong> = 0.25709672700845"
      ],
      "text/latex": [
       "\\textbf{\\$p.value} = 0.25709672700845"
      ],
      "text/markdown": [
       "**$p.value** = 0.25709672700845"
      ],
      "text/plain": [
       "$p.value\n",
       "[1] 0.2570967\n"
      ]
     },
     "metadata": {},
     "output_type": "display_data"
    }
   ],
   "source": [
    "mean(eset_d_capg)\n",
    "mean(eset_r_capg)\n",
    "wilcox.test(eset_d_capg, eset_r_capg, paired=FALSE, var.equal = TRUE, conf.level=0.95)[3]"
   ]
  },
  {
   "cell_type": "code",
   "execution_count": 42,
   "metadata": {},
   "outputs": [
    {
     "data": {
      "text/html": [
       "72.8822229310233"
      ],
      "text/latex": [
       "72.8822229310233"
      ],
      "text/markdown": [
       "72.8822229310233"
      ],
      "text/plain": [
       "[1] 72.88222"
      ]
     },
     "metadata": {},
     "output_type": "display_data"
    },
    {
     "data": {
      "text/html": [
       "70.6936418758648"
      ],
      "text/latex": [
       "70.6936418758648"
      ],
      "text/markdown": [
       "70.6936418758648"
      ],
      "text/plain": [
       "[1] 70.69364"
      ]
     },
     "metadata": {},
     "output_type": "display_data"
    },
    {
     "data": {
      "text/html": [
       "<strong>$p.value</strong> = 0.786361224937582"
      ],
      "text/latex": [
       "\\textbf{\\$p.value} = 0.786361224937582"
      ],
      "text/markdown": [
       "**$p.value** = 0.786361224937582"
      ],
      "text/plain": [
       "$p.value\n",
       "[1] 0.7863612\n"
      ]
     },
     "metadata": {},
     "output_type": "display_data"
    }
   ],
   "source": [
    "mean(eset_d_caph)\n",
    "mean(eset_r_caph)\n",
    "wilcox.test(eset_d_caph, eset_r_caph, paired=FALSE, var.equal = FALSE, conf.level=0.95)[3]"
   ]
  },
  {
   "cell_type": "code",
   "execution_count": 43,
   "metadata": {},
   "outputs": [
    {
     "data": {
      "text/html": [
       "88.1075858543325"
      ],
      "text/latex": [
       "88.1075858543325"
      ],
      "text/markdown": [
       "88.1075858543325"
      ],
      "text/plain": [
       "[1] 88.10759"
      ]
     },
     "metadata": {},
     "output_type": "display_data"
    },
    {
     "data": {
      "text/html": [
       "90.7016576842276"
      ],
      "text/latex": [
       "90.7016576842276"
      ],
      "text/markdown": [
       "90.7016576842276"
      ],
      "text/plain": [
       "[1] 90.70166"
      ]
     },
     "metadata": {},
     "output_type": "display_data"
    },
    {
     "data": {
      "text/html": [
       "<strong>$p.value</strong> = 0.501256286021576"
      ],
      "text/latex": [
       "\\textbf{\\$p.value} = 0.501256286021576"
      ],
      "text/markdown": [
       "**$p.value** = 0.501256286021576"
      ],
      "text/plain": [
       "$p.value\n",
       "[1] 0.5012563\n"
      ]
     },
     "metadata": {},
     "output_type": "display_data"
    }
   ],
   "source": [
    "mean(eset_d_capg2)\n",
    "mean(eset_r_capg2)\n",
    "wilcox.test(eset_d_capg2, eset_r_capg2, paired=FALSE, var.equal = FALSE, conf.level=0.95)[3]"
   ]
  },
  {
   "cell_type": "code",
   "execution_count": 44,
   "metadata": {},
   "outputs": [
    {
     "data": {
      "text/html": [
       "62.9817522300167"
      ],
      "text/latex": [
       "62.9817522300167"
      ],
      "text/markdown": [
       "62.9817522300167"
      ],
      "text/plain": [
       "[1] 62.98175"
      ]
     },
     "metadata": {},
     "output_type": "display_data"
    },
    {
     "data": {
      "text/html": [
       "77.1736632757446"
      ],
      "text/latex": [
       "77.1736632757446"
      ],
      "text/markdown": [
       "77.1736632757446"
      ],
      "text/plain": [
       "[1] 77.17366"
      ]
     },
     "metadata": {},
     "output_type": "display_data"
    },
    {
     "data": {
      "text/html": [
       "<strong>$p.value</strong> = 0.00141545864717094"
      ],
      "text/latex": [
       "\\textbf{\\$p.value} = 0.00141545864717094"
      ],
      "text/markdown": [
       "**$p.value** = 0.00141545864717094"
      ],
      "text/plain": [
       "$p.value\n",
       "[1] 0.001415459\n"
      ]
     },
     "metadata": {},
     "output_type": "display_data"
    }
   ],
   "source": [
    "mean(eset_d_caph2)\n",
    "mean(eset_r_caph2)\n",
    "wilcox.test(eset_d_caph2, eset_r_caph2, paired=FALSE, var.equal = FALSE, conf.level=0.95)[3]"
   ]
  },
  {
   "cell_type": "code",
   "execution_count": 45,
   "metadata": {},
   "outputs": [
    {
     "data": {
      "text/html": [
       "150.720498104048"
      ],
      "text/latex": [
       "150.720498104048"
      ],
      "text/markdown": [
       "150.720498104048"
      ],
      "text/plain": [
       "[1] 150.7205"
      ]
     },
     "metadata": {},
     "output_type": "display_data"
    },
    {
     "data": {
      "text/html": [
       "143.235356369818"
      ],
      "text/latex": [
       "143.235356369818"
      ],
      "text/markdown": [
       "143.235356369818"
      ],
      "text/plain": [
       "[1] 143.2354"
      ]
     },
     "metadata": {},
     "output_type": "display_data"
    },
    {
     "data": {
      "text/html": [
       "<strong>$p.value</strong> = 0.735574038160308"
      ],
      "text/latex": [
       "\\textbf{\\$p.value} = 0.735574038160308"
      ],
      "text/markdown": [
       "**$p.value** = 0.735574038160308"
      ],
      "text/plain": [
       "$p.value\n",
       "[1] 0.735574\n"
      ]
     },
     "metadata": {},
     "output_type": "display_data"
    }
   ],
   "source": [
    "mean(eset_d_capd3)\n",
    "mean(eset_r_capd3)\n",
    "t.test(eset_d_capd3, eset_r_capd3, paired=FALSE, var.equal = TRUE, conf.level=0.95)[3]"
   ]
  },
  {
   "cell_type": "code",
   "execution_count": 46,
   "metadata": {},
   "outputs": [],
   "source": [
    "dianum = 165\n",
    "relnum = 32\n",
    "\n",
    "data <- data.frame(\n",
    "  name=c( rep(\"SMC2_diagnosis\",dianum), rep(\"SMC2_relapse\",relnum), \n",
    "         rep(\"SMC4_diagnosis\",dianum), rep(\"SMC4_relapse\",relnum),\n",
    "         rep(\"TPD53_diagnosis\",dianum), rep(\"TPD53_relapse\",relnum),\n",
    "         rep(\"CAPD2_diagnosis\",dianum), rep(\"CAPD2_relapse\",relnum),\n",
    "         rep(\"CAPG_diagnosis\",dianum), rep(\"CAPG_relapse\",relnum),\n",
    "         rep(\"CAPH_diagnosis\",dianum), rep(\"CAPH_relapse\",relnum),\n",
    "         rep(\"CAPG2_diagnosis\",dianum), rep(\"CAPG2_relapse\",relnum),\n",
    "         rep(\"CAPH2_diagnosis\",dianum), rep(\"CAPH2_relapse\",relnum),\n",
    "         rep(\"CAPD3_diagnosis\",dianum), rep(\"CAPD3_relapse\",relnum)),\n",
    "  value=c( eset_d_smc2, eset_r_smc2, \n",
    "          eset_d_smc4, eset_r_smc4,\n",
    "         eset_d_tpd53, eset_r_tpd53,\n",
    "         eset_d_capd2, eset_r_capd2,\n",
    "         eset_d_capg, eset_r_capg,\n",
    "         eset_d_caph, eset_r_caph,\n",
    "         eset_d_capg2, eset_r_capg2,\n",
    "         eset_d_caph2, eset_r_caph2,\n",
    "         eset_d_capd3, eset_r_capd3)\n",
    ")\n",
    "\n",
    "write.csv(data, './GSE13576.csv', row.names=FALSE)"
   ]
  },
  {
   "cell_type": "markdown",
   "metadata": {},
   "source": [
    "---\n",
    "## TARGET-ALL"
   ]
  },
  {
   "cell_type": "code",
   "execution_count": 47,
   "metadata": {},
   "outputs": [
    {
     "data": {
      "text/html": [
       "<strong>$method</strong> = 'Shapiro-Wilk normality test'"
      ],
      "text/latex": [
       "\\textbf{\\$method} = 'Shapiro-Wilk normality test'"
      ],
      "text/markdown": [
       "**$method** = 'Shapiro-Wilk normality test'"
      ],
      "text/plain": [
       "$method\n",
       "[1] \"Shapiro-Wilk normality test\"\n"
      ]
     },
     "metadata": {},
     "output_type": "display_data"
    },
    {
     "data": {
      "text/html": [
       "'smc2'"
      ],
      "text/latex": [
       "'smc2'"
      ],
      "text/markdown": [
       "'smc2'"
      ],
      "text/plain": [
       "[1] \"smc2\""
      ]
     },
     "metadata": {},
     "output_type": "display_data"
    },
    {
     "data": {
      "text/html": [
       "<strong>$p.value</strong> = 1.00057952909265e-09"
      ],
      "text/latex": [
       "\\textbf{\\$p.value} = 1.00057952909265e-09"
      ],
      "text/markdown": [
       "**$p.value** = 1.00057952909265e-09"
      ],
      "text/plain": [
       "$p.value\n",
       "[1] 1.00058e-09\n"
      ]
     },
     "metadata": {},
     "output_type": "display_data"
    },
    {
     "data": {
      "text/html": [
       "<strong>$p.value</strong> = 8.49495008378237e-13"
      ],
      "text/latex": [
       "\\textbf{\\$p.value} = 8.49495008378237e-13"
      ],
      "text/markdown": [
       "**$p.value** = 8.49495008378237e-13"
      ],
      "text/plain": [
       "$p.value\n",
       "[1] 8.49495e-13\n"
      ]
     },
     "metadata": {},
     "output_type": "display_data"
    },
    {
     "data": {
      "text/html": [
       "'smc4'"
      ],
      "text/latex": [
       "'smc4'"
      ],
      "text/markdown": [
       "'smc4'"
      ],
      "text/plain": [
       "[1] \"smc4\""
      ]
     },
     "metadata": {},
     "output_type": "display_data"
    },
    {
     "data": {
      "text/html": [
       "<strong>$p.value</strong> = 3.5667720701604e-06"
      ],
      "text/latex": [
       "\\textbf{\\$p.value} = 3.5667720701604e-06"
      ],
      "text/markdown": [
       "**$p.value** = 3.5667720701604e-06"
      ],
      "text/plain": [
       "$p.value\n",
       "[1] 3.566772e-06\n"
      ]
     },
     "metadata": {},
     "output_type": "display_data"
    },
    {
     "data": {
      "text/html": [
       "<strong>$p.value</strong> = 3.05137259871127e-06"
      ],
      "text/latex": [
       "\\textbf{\\$p.value} = 3.05137259871127e-06"
      ],
      "text/markdown": [
       "**$p.value** = 3.05137259871127e-06"
      ],
      "text/plain": [
       "$p.value\n",
       "[1] 3.051373e-06\n"
      ]
     },
     "metadata": {},
     "output_type": "display_data"
    },
    {
     "data": {
      "text/html": [
       "'tpd52l1'"
      ],
      "text/latex": [
       "'tpd52l1'"
      ],
      "text/markdown": [
       "'tpd52l1'"
      ],
      "text/plain": [
       "[1] \"tpd52l1\""
      ]
     },
     "metadata": {},
     "output_type": "display_data"
    },
    {
     "data": {
      "text/html": [
       "<strong>$p.value</strong> = 4.56602502118679e-18"
      ],
      "text/latex": [
       "\\textbf{\\$p.value} = 4.56602502118679e-18"
      ],
      "text/markdown": [
       "**$p.value** = 4.56602502118679e-18"
      ],
      "text/plain": [
       "$p.value\n",
       "[1] 4.566025e-18\n"
      ]
     },
     "metadata": {},
     "output_type": "display_data"
    },
    {
     "data": {
      "text/html": [
       "<strong>$p.value</strong> = 7.09774258800589e-13"
      ],
      "text/latex": [
       "\\textbf{\\$p.value} = 7.09774258800589e-13"
      ],
      "text/markdown": [
       "**$p.value** = 7.09774258800589e-13"
      ],
      "text/plain": [
       "$p.value\n",
       "[1] 7.097743e-13\n"
      ]
     },
     "metadata": {},
     "output_type": "display_data"
    },
    {
     "data": {
      "text/html": [
       "'ncapd2'"
      ],
      "text/latex": [
       "'ncapd2'"
      ],
      "text/markdown": [
       "'ncapd2'"
      ],
      "text/plain": [
       "[1] \"ncapd2\""
      ]
     },
     "metadata": {},
     "output_type": "display_data"
    },
    {
     "data": {
      "text/html": [
       "<strong>$p.value</strong> = 6.04547902861748e-16"
      ],
      "text/latex": [
       "\\textbf{\\$p.value} = 6.04547902861748e-16"
      ],
      "text/markdown": [
       "**$p.value** = 6.04547902861748e-16"
      ],
      "text/plain": [
       "$p.value\n",
       "[1] 6.045479e-16\n"
      ]
     },
     "metadata": {},
     "output_type": "display_data"
    },
    {
     "data": {
      "text/html": [
       "<strong>$p.value</strong> = 2.44973495265851e-12"
      ],
      "text/latex": [
       "\\textbf{\\$p.value} = 2.44973495265851e-12"
      ],
      "text/markdown": [
       "**$p.value** = 2.44973495265851e-12"
      ],
      "text/plain": [
       "$p.value\n",
       "[1] 2.449735e-12\n"
      ]
     },
     "metadata": {},
     "output_type": "display_data"
    },
    {
     "data": {
      "text/html": [
       "'NCAPG'"
      ],
      "text/latex": [
       "'NCAPG'"
      ],
      "text/markdown": [
       "'NCAPG'"
      ],
      "text/plain": [
       "[1] \"NCAPG\""
      ]
     },
     "metadata": {},
     "output_type": "display_data"
    },
    {
     "data": {
      "text/html": [
       "<strong>$p.value</strong> = 8.17079638786266e-13"
      ],
      "text/latex": [
       "\\textbf{\\$p.value} = 8.17079638786266e-13"
      ],
      "text/markdown": [
       "**$p.value** = 8.17079638786266e-13"
      ],
      "text/plain": [
       "$p.value\n",
       "[1] 8.170796e-13\n"
      ]
     },
     "metadata": {},
     "output_type": "display_data"
    },
    {
     "data": {
      "text/html": [
       "<strong>$p.value</strong> = 1.14607037995159e-11"
      ],
      "text/latex": [
       "\\textbf{\\$p.value} = 1.14607037995159e-11"
      ],
      "text/markdown": [
       "**$p.value** = 1.14607037995159e-11"
      ],
      "text/plain": [
       "$p.value\n",
       "[1] 1.14607e-11\n"
      ]
     },
     "metadata": {},
     "output_type": "display_data"
    },
    {
     "data": {
      "text/html": [
       "'NCAPH'"
      ],
      "text/latex": [
       "'NCAPH'"
      ],
      "text/markdown": [
       "'NCAPH'"
      ],
      "text/plain": [
       "[1] \"NCAPH\""
      ]
     },
     "metadata": {},
     "output_type": "display_data"
    },
    {
     "data": {
      "text/html": [
       "<strong>$p.value</strong> = 1.70310565749991e-05"
      ],
      "text/latex": [
       "\\textbf{\\$p.value} = 1.70310565749991e-05"
      ],
      "text/markdown": [
       "**$p.value** = 1.70310565749991e-05"
      ],
      "text/plain": [
       "$p.value\n",
       "[1] 1.703106e-05\n"
      ]
     },
     "metadata": {},
     "output_type": "display_data"
    },
    {
     "data": {
      "text/html": [
       "<strong>$p.value</strong> = 3.67569479887214e-08"
      ],
      "text/latex": [
       "\\textbf{\\$p.value} = 3.67569479887214e-08"
      ],
      "text/markdown": [
       "**$p.value** = 3.67569479887214e-08"
      ],
      "text/plain": [
       "$p.value\n",
       "[1] 3.675695e-08\n"
      ]
     },
     "metadata": {},
     "output_type": "display_data"
    },
    {
     "data": {
      "text/html": [
       "'NCAPG2'"
      ],
      "text/latex": [
       "'NCAPG2'"
      ],
      "text/markdown": [
       "'NCAPG2'"
      ],
      "text/plain": [
       "[1] \"NCAPG2\""
      ]
     },
     "metadata": {},
     "output_type": "display_data"
    },
    {
     "data": {
      "text/html": [
       "<strong>$p.value</strong> = 2.86982586681333e-07"
      ],
      "text/latex": [
       "\\textbf{\\$p.value} = 2.86982586681333e-07"
      ],
      "text/markdown": [
       "**$p.value** = 2.86982586681333e-07"
      ],
      "text/plain": [
       "$p.value\n",
       "[1] 2.869826e-07\n"
      ]
     },
     "metadata": {},
     "output_type": "display_data"
    },
    {
     "data": {
      "text/html": [
       "<strong>$p.value</strong> = 2.03024156488456e-07"
      ],
      "text/latex": [
       "\\textbf{\\$p.value} = 2.03024156488456e-07"
      ],
      "text/markdown": [
       "**$p.value** = 2.03024156488456e-07"
      ],
      "text/plain": [
       "$p.value\n",
       "[1] 2.030242e-07\n"
      ]
     },
     "metadata": {},
     "output_type": "display_data"
    },
    {
     "data": {
      "text/html": [
       "'NCAPH2'"
      ],
      "text/latex": [
       "'NCAPH2'"
      ],
      "text/markdown": [
       "'NCAPH2'"
      ],
      "text/plain": [
       "[1] \"NCAPH2\""
      ]
     },
     "metadata": {},
     "output_type": "display_data"
    },
    {
     "data": {
      "text/html": [
       "<strong>$p.value</strong> = 3.34492816699504e-17"
      ],
      "text/latex": [
       "\\textbf{\\$p.value} = 3.34492816699504e-17"
      ],
      "text/markdown": [
       "**$p.value** = 3.34492816699504e-17"
      ],
      "text/plain": [
       "$p.value\n",
       "[1] 3.344928e-17\n"
      ]
     },
     "metadata": {},
     "output_type": "display_data"
    },
    {
     "data": {
      "text/html": [
       "<strong>$p.value</strong> = 3.69771555824739e-08"
      ],
      "text/latex": [
       "\\textbf{\\$p.value} = 3.69771555824739e-08"
      ],
      "text/markdown": [
       "**$p.value** = 3.69771555824739e-08"
      ],
      "text/plain": [
       "$p.value\n",
       "[1] 3.697716e-08\n"
      ]
     },
     "metadata": {},
     "output_type": "display_data"
    },
    {
     "data": {
      "text/html": [
       "'NCAPD3'"
      ],
      "text/latex": [
       "'NCAPD3'"
      ],
      "text/markdown": [
       "'NCAPD3'"
      ],
      "text/plain": [
       "[1] \"NCAPD3\""
      ]
     },
     "metadata": {},
     "output_type": "display_data"
    },
    {
     "data": {
      "text/html": [
       "<strong>$p.value</strong> = 5.8766393526251e-18"
      ],
      "text/latex": [
       "\\textbf{\\$p.value} = 5.8766393526251e-18"
      ],
      "text/markdown": [
       "**$p.value** = 5.8766393526251e-18"
      ],
      "text/plain": [
       "$p.value\n",
       "[1] 5.876639e-18\n"
      ]
     },
     "metadata": {},
     "output_type": "display_data"
    },
    {
     "data": {
      "text/html": [
       "<strong>$p.value</strong> = 5.0492722375646e-05"
      ],
      "text/latex": [
       "\\textbf{\\$p.value} = 5.0492722375646e-05"
      ],
      "text/markdown": [
       "**$p.value** = 5.0492722375646e-05"
      ],
      "text/plain": [
       "$p.value\n",
       "[1] 5.049272e-05\n"
      ]
     },
     "metadata": {},
     "output_type": "display_data"
    },
    {
     "data": {
      "text/html": [
       "'---------------------------------------'"
      ],
      "text/latex": [
       "'---------------------------------------'"
      ],
      "text/markdown": [
       "'---------------------------------------'"
      ],
      "text/plain": [
       "[1] \"---------------------------------------\""
      ]
     },
     "metadata": {},
     "output_type": "display_data"
    },
    {
     "data": {
      "text/html": [
       "<strong>$method</strong> = 'F test to compare two variances'"
      ],
      "text/latex": [
       "\\textbf{\\$method} = 'F test to compare two variances'"
      ],
      "text/markdown": [
       "**$method** = 'F test to compare two variances'"
      ],
      "text/plain": [
       "$method\n",
       "[1] \"F test to compare two variances\"\n"
      ]
     },
     "metadata": {},
     "output_type": "display_data"
    },
    {
     "data": {
      "text/html": [
       "<strong>$p.value</strong> = 6.29776111186552e-12"
      ],
      "text/latex": [
       "\\textbf{\\$p.value} = 6.29776111186552e-12"
      ],
      "text/markdown": [
       "**$p.value** = 6.29776111186552e-12"
      ],
      "text/plain": [
       "$p.value\n",
       "[1] 6.297761e-12\n"
      ]
     },
     "metadata": {},
     "output_type": "display_data"
    },
    {
     "data": {
      "text/html": [
       "<strong>$p.value</strong> = 0.26675187993073"
      ],
      "text/latex": [
       "\\textbf{\\$p.value} = 0.26675187993073"
      ],
      "text/markdown": [
       "**$p.value** = 0.26675187993073"
      ],
      "text/plain": [
       "$p.value\n",
       "[1] 0.2667519\n"
      ]
     },
     "metadata": {},
     "output_type": "display_data"
    },
    {
     "data": {
      "text/html": [
       "<strong>$p.value</strong> = 0.0401625045263123"
      ],
      "text/latex": [
       "\\textbf{\\$p.value} = 0.0401625045263123"
      ],
      "text/markdown": [
       "**$p.value** = 0.0401625045263123"
      ],
      "text/plain": [
       "$p.value\n",
       "[1] 0.0401625\n"
      ]
     },
     "metadata": {},
     "output_type": "display_data"
    },
    {
     "data": {
      "text/html": [
       "<strong>$p.value</strong> = 1.83128740999164e-09"
      ],
      "text/latex": [
       "\\textbf{\\$p.value} = 1.83128740999164e-09"
      ],
      "text/markdown": [
       "**$p.value** = 1.83128740999164e-09"
      ],
      "text/plain": [
       "$p.value\n",
       "[1] 1.831287e-09\n"
      ]
     },
     "metadata": {},
     "output_type": "display_data"
    },
    {
     "data": {
      "text/html": [
       "<strong>$p.value</strong> = 6.58468996920097e-10"
      ],
      "text/latex": [
       "\\textbf{\\$p.value} = 6.58468996920097e-10"
      ],
      "text/markdown": [
       "**$p.value** = 6.58468996920097e-10"
      ],
      "text/plain": [
       "$p.value\n",
       "[1] 6.58469e-10\n"
      ]
     },
     "metadata": {},
     "output_type": "display_data"
    },
    {
     "data": {
      "text/html": [
       "<strong>$p.value</strong> = 9.162565861455e-16"
      ],
      "text/latex": [
       "\\textbf{\\$p.value} = 9.162565861455e-16"
      ],
      "text/markdown": [
       "**$p.value** = 9.162565861455e-16"
      ],
      "text/plain": [
       "$p.value\n",
       "[1] 9.162566e-16\n"
      ]
     },
     "metadata": {},
     "output_type": "display_data"
    },
    {
     "data": {
      "text/html": [
       "<strong>$p.value</strong> = 1.03634919136687e-07"
      ],
      "text/latex": [
       "\\textbf{\\$p.value} = 1.03634919136687e-07"
      ],
      "text/markdown": [
       "**$p.value** = 1.03634919136687e-07"
      ],
      "text/plain": [
       "$p.value\n",
       "[1] 1.036349e-07\n"
      ]
     },
     "metadata": {},
     "output_type": "display_data"
    },
    {
     "data": {
      "text/html": [
       "<strong>$p.value</strong> = 0.597747287880625"
      ],
      "text/latex": [
       "\\textbf{\\$p.value} = 0.597747287880625"
      ],
      "text/markdown": [
       "**$p.value** = 0.597747287880625"
      ],
      "text/plain": [
       "$p.value\n",
       "[1] 0.5977473\n"
      ]
     },
     "metadata": {},
     "output_type": "display_data"
    },
    {
     "data": {
      "text/html": [
       "<strong>$p.value</strong> = 2.67788956920256e-06"
      ],
      "text/latex": [
       "\\textbf{\\$p.value} = 2.67788956920256e-06"
      ],
      "text/markdown": [
       "**$p.value** = 2.67788956920256e-06"
      ],
      "text/plain": [
       "$p.value\n",
       "[1] 2.67789e-06\n"
      ]
     },
     "metadata": {},
     "output_type": "display_data"
    }
   ],
   "source": [
    "dia <- read.csv('./dia.csv')\n",
    "rel <- read.csv('./rel.csv')\n",
    "\n",
    "shapiro.test(dia[1:185,'SMC2'])[3]\n",
    "'smc2'\n",
    "shapiro.test(dia[1:185,'SMC2'])[2]\n",
    "shapiro.test(rel[1:116,'SMC2'])[2]\n",
    "'smc4'\n",
    "shapiro.test(dia[1:185,'SMC4'])[2]\n",
    "shapiro.test(rel[1:116,'SMC4'])[2]\n",
    "'tpd52l1'\n",
    "shapiro.test(dia[1:185,'TPD52L1'])[2]\n",
    "shapiro.test(rel[1:116,'TPD52L1'])[2]\n",
    "'ncapd2'\n",
    "shapiro.test(dia[1:185,'NCAPD2'])[2]\n",
    "shapiro.test(rel[1:116,'NCAPD2'])[2]\n",
    "'NCAPG'\n",
    "shapiro.test(dia[1:185,'NCAPG'])[2]\n",
    "shapiro.test(rel[1:116,'NCAPG'])[2]\n",
    "'NCAPH'\n",
    "shapiro.test(dia[1:185,'NCAPH'])[2]\n",
    "shapiro.test(rel[1:116,'NCAPH'])[2]\n",
    "'NCAPG2'\n",
    "shapiro.test(dia[1:185,'NCAPG2'])[2]\n",
    "shapiro.test(rel[1:116,'NCAPG2'])[2]\n",
    "'NCAPH2'\n",
    "shapiro.test(dia[1:185,'NCAPH2'])[2]\n",
    "shapiro.test(rel[1:116,'NCAPH2'])[2]\n",
    "'NCAPD3'\n",
    "shapiro.test(dia[1:185,'NCAPD3'])[2]\n",
    "shapiro.test(rel[1:116,'NCAPD3'])[2]\n",
    "\n",
    "'---------------------------------------'\n",
    "var.test(dia[1:185,'SMC2'], rel[1:116,'SMC2'])[8]\n",
    "var.test(dia[1:185,'SMC2'], rel[1:116,'SMC2'])[3]\n",
    "var.test(dia[1:185,'SMC4'], rel[1:116,'SMC4'])[3]\n",
    "var.test(dia[1:185,'TPD52L1'], rel[1:116,'TPD52L1'])[3]\n",
    "var.test(dia[1:185,'NCAPD2'], rel[1:116,'NCAPD2'])[3]\n",
    "var.test(dia[1:185,'NCAPG'], rel[1:116,'NCAPG'])[3]\n",
    "var.test(dia[1:185,'NCAPH'], rel[1:116,'NCAPH'])[3]\n",
    "var.test(dia[1:185,'NCAPG2'], rel[1:116,'NCAPG2'])[3]\n",
    "var.test(dia[1:185,'NCAPH2'], rel[1:116,'NCAPH2'])[3]\n",
    "var.test(dia[1:185,'NCAPD3'], rel[1:116,'NCAPD3'])[3]"
   ]
  },
  {
   "cell_type": "code",
   "execution_count": 48,
   "metadata": {},
   "outputs": [
    {
     "data": {
      "text/html": [
       "369.008322648649"
      ],
      "text/latex": [
       "369.008322648649"
      ],
      "text/markdown": [
       "369.008322648649"
      ],
      "text/plain": [
       "[1] 369.0083"
      ]
     },
     "metadata": {},
     "output_type": "display_data"
    },
    {
     "data": {
      "text/html": [
       "516.346345948276"
      ],
      "text/latex": [
       "516.346345948276"
      ],
      "text/markdown": [
       "516.346345948276"
      ],
      "text/plain": [
       "[1] 516.3463"
      ]
     },
     "metadata": {},
     "output_type": "display_data"
    },
    {
     "data": {
      "text/html": [
       "<strong>$p.value</strong> = 0.00021691203845885"
      ],
      "text/latex": [
       "\\textbf{\\$p.value} = 0.00021691203845885"
      ],
      "text/markdown": [
       "**$p.value** = 0.00021691203845885"
      ],
      "text/plain": [
       "$p.value\n",
       "[1] 0.000216912\n"
      ]
     },
     "metadata": {},
     "output_type": "display_data"
    }
   ],
   "source": [
    "mean(dia[1:185,'SMC2'])\n",
    "mean(rel[1:116,'SMC2'])\n",
    "t.test(dia[1:185,'SMC2'], rel[1:116,'SMC2'], paired=FALSE, var.equal = TRUE, conf.level=0.95)[3]"
   ]
  },
  {
   "cell_type": "code",
   "execution_count": 49,
   "metadata": {},
   "outputs": [
    {
     "data": {
      "text/html": [
       "2884.12570378378"
      ],
      "text/latex": [
       "2884.12570378378"
      ],
      "text/markdown": [
       "2884.12570378378"
      ],
      "text/plain": [
       "[1] 2884.126"
      ]
     },
     "metadata": {},
     "output_type": "display_data"
    },
    {
     "data": {
      "text/html": [
       "3214.61809396552"
      ],
      "text/latex": [
       "3214.61809396552"
      ],
      "text/markdown": [
       "3214.61809396552"
      ],
      "text/plain": [
       "[1] 3214.618"
      ]
     },
     "metadata": {},
     "output_type": "display_data"
    },
    {
     "data": {
      "text/html": [
       "<strong>$p.value</strong> = 0.102195206527212"
      ],
      "text/latex": [
       "\\textbf{\\$p.value} = 0.102195206527212"
      ],
      "text/markdown": [
       "**$p.value** = 0.102195206527212"
      ],
      "text/plain": [
       "$p.value\n",
       "[1] 0.1021952\n"
      ]
     },
     "metadata": {},
     "output_type": "display_data"
    }
   ],
   "source": [
    "mean(dia[1:185,'SMC4'])\n",
    "mean(rel[1:116,'SMC4'])\n",
    "t.test(dia[1:185,'SMC4'], rel[1:116,'SMC4'], paired=FALSE, var.equal = FALSE, conf.level=0.95)[3]"
   ]
  },
  {
   "cell_type": "code",
   "execution_count": 50,
   "metadata": {},
   "outputs": [
    {
     "data": {
      "text/html": [
       "170.338666972973"
      ],
      "text/latex": [
       "170.338666972973"
      ],
      "text/markdown": [
       "170.338666972973"
      ],
      "text/plain": [
       "[1] 170.3387"
      ]
     },
     "metadata": {},
     "output_type": "display_data"
    },
    {
     "data": {
      "text/html": [
       "155.201691637931"
      ],
      "text/latex": [
       "155.201691637931"
      ],
      "text/markdown": [
       "155.201691637931"
      ],
      "text/plain": [
       "[1] 155.2017"
      ]
     },
     "metadata": {},
     "output_type": "display_data"
    },
    {
     "data": {
      "text/html": [
       "<strong>$p.value</strong> = 0.437511192417937"
      ],
      "text/latex": [
       "\\textbf{\\$p.value} = 0.437511192417937"
      ],
      "text/markdown": [
       "**$p.value** = 0.437511192417937"
      ],
      "text/plain": [
       "$p.value\n",
       "[1] 0.4375112\n"
      ]
     },
     "metadata": {},
     "output_type": "display_data"
    }
   ],
   "source": [
    "mean(dia[1:185,'TPD52L1'])\n",
    "mean(rel[1:116,'TPD52L1'])\n",
    "t.test(dia[1:185,'TPD52L1'], rel[1:116,'TPD52L1'], paired=FALSE, var.equal = TRUE, conf.level=0.95)[3]"
   ]
  },
  {
   "cell_type": "code",
   "execution_count": 51,
   "metadata": {},
   "outputs": [
    {
     "data": {
      "text/html": [
       "725.372072432432"
      ],
      "text/latex": [
       "725.372072432432"
      ],
      "text/markdown": [
       "725.372072432432"
      ],
      "text/plain": [
       "[1] 725.3721"
      ]
     },
     "metadata": {},
     "output_type": "display_data"
    },
    {
     "data": {
      "text/html": [
       "1183.11915517241"
      ],
      "text/latex": [
       "1183.11915517241"
      ],
      "text/markdown": [
       "1183.11915517241"
      ],
      "text/plain": [
       "[1] 1183.119"
      ]
     },
     "metadata": {},
     "output_type": "display_data"
    },
    {
     "data": {
      "text/html": [
       "<strong>$p.value</strong> = 7.73033523313538e-07"
      ],
      "text/latex": [
       "\\textbf{\\$p.value} = 7.73033523313538e-07"
      ],
      "text/markdown": [
       "**$p.value** = 7.73033523313538e-07"
      ],
      "text/plain": [
       "$p.value\n",
       "[1] 7.730335e-07\n"
      ]
     },
     "metadata": {},
     "output_type": "display_data"
    }
   ],
   "source": [
    "mean(dia[1:185,'NCAPD2'])\n",
    "mean(rel[1:116,'NCAPD2'])\n",
    "t.test(dia[1:185,'NCAPD2'], rel[1:116,'NCAPD2'], paired=FALSE, var.equal = TRUE, conf.level=0.95)[3]"
   ]
  },
  {
   "cell_type": "code",
   "execution_count": 52,
   "metadata": {},
   "outputs": [
    {
     "data": {
      "text/html": [
       "601.267591189189"
      ],
      "text/latex": [
       "601.267591189189"
      ],
      "text/markdown": [
       "601.267591189189"
      ],
      "text/plain": [
       "[1] 601.2676"
      ]
     },
     "metadata": {},
     "output_type": "display_data"
    },
    {
     "data": {
      "text/html": [
       "956.234556034483"
      ],
      "text/latex": [
       "956.234556034483"
      ],
      "text/markdown": [
       "956.234556034483"
      ],
      "text/plain": [
       "[1] 956.2346"
      ]
     },
     "metadata": {},
     "output_type": "display_data"
    },
    {
     "data": {
      "text/html": [
       "<strong>$p.value</strong> = 4.300445083937e-06"
      ],
      "text/latex": [
       "\\textbf{\\$p.value} = 4.300445083937e-06"
      ],
      "text/markdown": [
       "**$p.value** = 4.300445083937e-06"
      ],
      "text/plain": [
       "$p.value\n",
       "[1] 4.300445e-06\n"
      ]
     },
     "metadata": {},
     "output_type": "display_data"
    }
   ],
   "source": [
    "mean(dia[1:185,'NCAPG'])\n",
    "mean(rel[1:116,'NCAPG'])\n",
    "t.test(dia[1:185,'NCAPG'], rel[1:116,'NCAPG'], paired=FALSE, var.equal = TRUE, conf.level=0.95)[3]"
   ]
  },
  {
   "cell_type": "code",
   "execution_count": 53,
   "metadata": {},
   "outputs": [
    {
     "data": {
      "text/html": [
       "206.223376243243"
      ],
      "text/latex": [
       "206.223376243243"
      ],
      "text/markdown": [
       "206.223376243243"
      ],
      "text/plain": [
       "[1] 206.2234"
      ]
     },
     "metadata": {},
     "output_type": "display_data"
    },
    {
     "data": {
      "text/html": [
       "347.652722155172"
      ],
      "text/latex": [
       "347.652722155172"
      ],
      "text/markdown": [
       "347.652722155172"
      ],
      "text/plain": [
       "[1] 347.6527"
      ]
     },
     "metadata": {},
     "output_type": "display_data"
    },
    {
     "data": {
      "text/html": [
       "<strong>$p.value</strong> = 3.26268612921423e-10"
      ],
      "text/latex": [
       "\\textbf{\\$p.value} = 3.26268612921423e-10"
      ],
      "text/markdown": [
       "**$p.value** = 3.26268612921423e-10"
      ],
      "text/plain": [
       "$p.value\n",
       "[1] 3.262686e-10\n"
      ]
     },
     "metadata": {},
     "output_type": "display_data"
    }
   ],
   "source": [
    "mean(dia[1:185,'NCAPH'])\n",
    "mean(rel[1:116,'NCAPH'])\n",
    "t.test(dia[1:185,'NCAPH'], rel[1:116,'NCAPH'], paired=FALSE, var.equal = TRUE, conf.level=0.95)[3]"
   ]
  },
  {
   "cell_type": "code",
   "execution_count": 54,
   "metadata": {},
   "outputs": [
    {
     "data": {
      "text/html": [
       "614.709665081081"
      ],
      "text/latex": [
       "614.709665081081"
      ],
      "text/markdown": [
       "614.709665081081"
      ],
      "text/plain": [
       "[1] 614.7097"
      ]
     },
     "metadata": {},
     "output_type": "display_data"
    },
    {
     "data": {
      "text/html": [
       "853.124762068966"
      ],
      "text/latex": [
       "853.124762068966"
      ],
      "text/markdown": [
       "853.124762068966"
      ],
      "text/plain": [
       "[1] 853.1248"
      ]
     },
     "metadata": {},
     "output_type": "display_data"
    },
    {
     "data": {
      "text/html": [
       "<strong>$p.value</strong> = 1.63038469351477e-06"
      ],
      "text/latex": [
       "\\textbf{\\$p.value} = 1.63038469351477e-06"
      ],
      "text/markdown": [
       "**$p.value** = 1.63038469351477e-06"
      ],
      "text/plain": [
       "$p.value\n",
       "[1] 1.630385e-06\n"
      ]
     },
     "metadata": {},
     "output_type": "display_data"
    }
   ],
   "source": [
    "mean(dia[1:185,'NCAPG2'])\n",
    "mean(rel[1:116,'NCAPG2'])\n",
    "t.test(dia[1:185,'NCAPG2'], rel[1:116,'NCAPG2'], paired=FALSE, var.equal = TRUE, conf.level=0.95)[3]"
   ]
  },
  {
   "cell_type": "code",
   "execution_count": 55,
   "metadata": {},
   "outputs": [
    {
     "data": {
      "text/html": [
       "578.497340540541"
      ],
      "text/latex": [
       "578.497340540541"
      ],
      "text/markdown": [
       "578.497340540541"
      ],
      "text/plain": [
       "[1] 578.4973"
      ]
     },
     "metadata": {},
     "output_type": "display_data"
    },
    {
     "data": {
      "text/html": [
       "644.004068965517"
      ],
      "text/latex": [
       "644.004068965517"
      ],
      "text/markdown": [
       "644.004068965517"
      ],
      "text/plain": [
       "[1] 644.0041"
      ]
     },
     "metadata": {},
     "output_type": "display_data"
    },
    {
     "data": {
      "text/html": [
       "<strong>$p.value</strong> = 0.0513617000043846"
      ],
      "text/latex": [
       "\\textbf{\\$p.value} = 0.0513617000043846"
      ],
      "text/markdown": [
       "**$p.value** = 0.0513617000043846"
      ],
      "text/plain": [
       "$p.value\n",
       "[1] 0.0513617\n"
      ]
     },
     "metadata": {},
     "output_type": "display_data"
    }
   ],
   "source": [
    "mean(dia[1:185,'NCAPH2'])\n",
    "mean(rel[1:116,'NCAPH2'])\n",
    "t.test(dia[1:185,'NCAPH2'], rel[1:116,'NCAPH2'], paired=FALSE, var.equal = FALSE, conf.level=0.95)[3]"
   ]
  },
  {
   "cell_type": "code",
   "execution_count": 56,
   "metadata": {},
   "outputs": [
    {
     "data": {
      "text/html": [
       "1048.95393837838"
      ],
      "text/latex": [
       "1048.95393837838"
      ],
      "text/markdown": [
       "1048.95393837838"
      ],
      "text/plain": [
       "[1] 1048.954"
      ]
     },
     "metadata": {},
     "output_type": "display_data"
    },
    {
     "data": {
      "text/html": [
       "1091.77145431034"
      ],
      "text/latex": [
       "1091.77145431034"
      ],
      "text/markdown": [
       "1091.77145431034"
      ],
      "text/plain": [
       "[1] 1091.771"
      ]
     },
     "metadata": {},
     "output_type": "display_data"
    },
    {
     "data": {
      "text/html": [
       "<strong>$p.value</strong> = 0.617878951502007"
      ],
      "text/latex": [
       "\\textbf{\\$p.value} = 0.617878951502007"
      ],
      "text/markdown": [
       "**$p.value** = 0.617878951502007"
      ],
      "text/plain": [
       "$p.value\n",
       "[1] 0.617879\n"
      ]
     },
     "metadata": {},
     "output_type": "display_data"
    }
   ],
   "source": [
    "mean(dia[1:185,'NCAPD3'])\n",
    "mean(rel[1:116,'NCAPD3'])\n",
    "t.test(dia[1:185,'NCAPD3'], rel[1:116,'NCAPD3'], paired=FALSE, var.equal = FALSE, conf.level=0.95)[3]"
   ]
  },
  {
   "cell_type": "code",
   "execution_count": 57,
   "metadata": {},
   "outputs": [],
   "source": [
    "dianum = 185\n",
    "relnum = 116\n",
    "\n",
    "data <- data.frame(\n",
    "  name=c( rep(\"SMC2_diagnosis\",dianum), rep(\"SMC2_relapse\",relnum), \n",
    "         rep(\"SMC4_diagnosis\",dianum), rep(\"SMC4_relapse\",relnum),\n",
    "         rep(\"TPD53_diagnosis\",dianum), rep(\"TPD53_relapse\",relnum),\n",
    "         rep(\"CAPD2_diagnosis\",dianum), rep(\"CAPD2_relapse\",relnum),\n",
    "         rep(\"CAPG_diagnosis\",dianum), rep(\"CAPG_relapse\",relnum),\n",
    "         rep(\"CAPH_diagnosis\",dianum), rep(\"CAPH_relapse\",relnum),\n",
    "         rep(\"CAPG2_diagnosis\",dianum), rep(\"CAPG2_relapse\",relnum),\n",
    "         rep(\"CAPH2_diagnosis\",dianum), rep(\"CAPH2_relapse\",relnum),\n",
    "         rep(\"CAPD3_diagnosis\",dianum), rep(\"CAPD3_relapse\",relnum)),\n",
    "  \n",
    "    value=c( dia[1:dianum,'SMC2'], rel[1:relnum,'SMC2'],\n",
    "            dia[1:dianum,'SMC4'], rel[1:relnum,'SMC4'],\n",
    "            dia[1:dianum,'TPD52L1'], rel[1:relnum,'TPD52L1'],\n",
    "            dia[1:dianum,'NCAPD2'], rel[1:relnum,'NCAPD2'],\n",
    "            dia[1:dianum,'NCAPG'], rel[1:relnum,'NCAPG'],\n",
    "            dia[1:dianum,'NCAPH'], rel[1:relnum,'NCAPH'],\n",
    "            dia[1:dianum,'NCAPG2'], rel[1:relnum,'NCAPG2'],\n",
    "            dia[1:dianum,'NCAPH2'], rel[1:relnum,'NCAPH2'],\n",
    "            dia[1:dianum,'NCAPD3'], rel[1:relnum,'NCAPD3']\n",
    "           )\n",
    ")\n",
    "\n",
    "write.csv(data, './TARGET.csv', row.names=FALSE)"
   ]
  },
  {
   "cell_type": "code",
   "execution_count": null,
   "metadata": {},
   "outputs": [],
   "source": []
  }
 ],
 "metadata": {
  "kernelspec": {
   "display_name": "R",
   "language": "R",
   "name": "ir"
  },
  "language_info": {
   "codemirror_mode": "r",
   "file_extension": ".r",
   "mimetype": "text/x-r-source",
   "name": "R",
   "pygments_lexer": "r",
   "version": "3.5.1"
  }
 },
 "nbformat": 4,
 "nbformat_minor": 2
}
