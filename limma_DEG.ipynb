{
 "cells": [
  {
   "cell_type": "code",
   "execution_count": 1,
   "metadata": {},
   "outputs": [
    {
     "name": "stderr",
     "output_type": "stream",
     "text": [
      "Loading required package: Biobase\n",
      "Loading required package: BiocGenerics\n",
      "Loading required package: parallel\n",
      "\n",
      "Attaching package: 'BiocGenerics'\n",
      "\n",
      "The following objects are masked from 'package:parallel':\n",
      "\n",
      "    clusterApply, clusterApplyLB, clusterCall, clusterEvalQ,\n",
      "    clusterExport, clusterMap, parApply, parCapply, parLapply,\n",
      "    parLapplyLB, parRapply, parSapply, parSapplyLB\n",
      "\n",
      "The following objects are masked from 'package:stats':\n",
      "\n",
      "    IQR, mad, sd, var, xtabs\n",
      "\n",
      "The following objects are masked from 'package:base':\n",
      "\n",
      "    anyDuplicated, append, as.data.frame, basename, cbind, colMeans,\n",
      "    colnames, colSums, dirname, do.call, duplicated, eval, evalq,\n",
      "    Filter, Find, get, grep, grepl, intersect, is.unsorted, lapply,\n",
      "    lengths, Map, mapply, match, mget, order, paste, pmax, pmax.int,\n",
      "    pmin, pmin.int, Position, rank, rbind, Reduce, rowMeans, rownames,\n",
      "    rowSums, sapply, setdiff, sort, table, tapply, union, unique,\n",
      "    unsplit, which, which.max, which.min\n",
      "\n",
      "Welcome to Bioconductor\n",
      "\n",
      "    Vignettes contain introductory material; view with\n",
      "    'browseVignettes()'. To cite Bioconductor, see\n",
      "    'citation(\"Biobase\")', and for packages 'citation(\"pkgname\")'.\n",
      "\n",
      "Setting options('download.file.method.GEOquery'='auto')\n",
      "Setting options('GEOquery.inmemory.gpl'=FALSE)\n",
      "\n",
      "Attaching package: 'limma'\n",
      "\n",
      "The following object is masked from 'package:BiocGenerics':\n",
      "\n",
      "    plotMA\n",
      "\n"
     ]
    }
   ],
   "source": [
    "library(GEOquery)\n",
    "library(limma)"
   ]
  },
  {
   "cell_type": "code",
   "execution_count": 2,
   "metadata": {},
   "outputs": [
    {
     "name": "stderr",
     "output_type": "stream",
     "text": [
      "Found 1 file(s)\n",
      "GSE19615_series_matrix.txt.gz\n",
      "Parsed with column specification:\n",
      "cols(\n",
      "  .default = col_double(),\n",
      "  ID_REF = col_character()\n",
      ")\n",
      "See spec(...) for full column specifications.\n",
      "File stored at: \n",
      "C:\\Users\\BIOINF~1\\AppData\\Local\\Temp\\Rtmp2JjBwT/GPL570.soft\n"
     ]
    }
   ],
   "source": [
    "gse <- getGEO(\"GSE19615\",GSEMatrix=TRUE)\n",
    "gse <- gse[[1]]\n",
    "\n",
    "#exp data\n",
    "eset <- exprs(gse)"
   ]
  },
  {
   "cell_type": "code",
   "execution_count": 3,
   "metadata": {},
   "outputs": [
    {
     "data": {
      "text/html": [
       "'↓fset colnames↓'"
      ],
      "text/latex": [
       "'↓fset colnames↓'"
      ],
      "text/markdown": [
       "'↓fset colnames↓'"
      ],
      "text/plain": [
       "[1] \"↓fset colnames↓\""
      ]
     },
     "metadata": {},
     "output_type": "display_data"
    },
    {
     "data": {
      "text/html": [
       "<ol class=list-inline>\n",
       "\t<li>'ID'</li>\n",
       "\t<li>'GB_ACC'</li>\n",
       "\t<li>'SPOT_ID'</li>\n",
       "\t<li>'Species Scientific Name'</li>\n",
       "\t<li>'Annotation Date'</li>\n",
       "\t<li>'Sequence Type'</li>\n",
       "\t<li>'Sequence Source'</li>\n",
       "\t<li>'Target Description'</li>\n",
       "\t<li>'Representative Public ID'</li>\n",
       "\t<li>'Gene Title'</li>\n",
       "\t<li>'Gene Symbol'</li>\n",
       "\t<li>'ENTREZ_GENE_ID'</li>\n",
       "\t<li>'RefSeq Transcript ID'</li>\n",
       "\t<li>'Gene Ontology Biological Process'</li>\n",
       "\t<li>'Gene Ontology Cellular Component'</li>\n",
       "\t<li>'Gene Ontology Molecular Function'</li>\n",
       "</ol>\n"
      ],
      "text/latex": [
       "\\begin{enumerate*}\n",
       "\\item 'ID'\n",
       "\\item 'GB\\_ACC'\n",
       "\\item 'SPOT\\_ID'\n",
       "\\item 'Species Scientific Name'\n",
       "\\item 'Annotation Date'\n",
       "\\item 'Sequence Type'\n",
       "\\item 'Sequence Source'\n",
       "\\item 'Target Description'\n",
       "\\item 'Representative Public ID'\n",
       "\\item 'Gene Title'\n",
       "\\item 'Gene Symbol'\n",
       "\\item 'ENTREZ\\_GENE\\_ID'\n",
       "\\item 'RefSeq Transcript ID'\n",
       "\\item 'Gene Ontology Biological Process'\n",
       "\\item 'Gene Ontology Cellular Component'\n",
       "\\item 'Gene Ontology Molecular Function'\n",
       "\\end{enumerate*}\n"
      ],
      "text/markdown": [
       "1. 'ID'\n",
       "2. 'GB_ACC'\n",
       "3. 'SPOT_ID'\n",
       "4. 'Species Scientific Name'\n",
       "5. 'Annotation Date'\n",
       "6. 'Sequence Type'\n",
       "7. 'Sequence Source'\n",
       "8. 'Target Description'\n",
       "9. 'Representative Public ID'\n",
       "10. 'Gene Title'\n",
       "11. 'Gene Symbol'\n",
       "12. 'ENTREZ_GENE_ID'\n",
       "13. 'RefSeq Transcript ID'\n",
       "14. 'Gene Ontology Biological Process'\n",
       "15. 'Gene Ontology Cellular Component'\n",
       "16. 'Gene Ontology Molecular Function'\n",
       "\n",
       "\n"
      ],
      "text/plain": [
       " [1] \"ID\"                               \"GB_ACC\"                          \n",
       " [3] \"SPOT_ID\"                          \"Species Scientific Name\"         \n",
       " [5] \"Annotation Date\"                  \"Sequence Type\"                   \n",
       " [7] \"Sequence Source\"                  \"Target Description\"              \n",
       " [9] \"Representative Public ID\"         \"Gene Title\"                      \n",
       "[11] \"Gene Symbol\"                      \"ENTREZ_GENE_ID\"                  \n",
       "[13] \"RefSeq Transcript ID\"             \"Gene Ontology Biological Process\"\n",
       "[15] \"Gene Ontology Cellular Component\" \"Gene Ontology Molecular Function\""
      ]
     },
     "metadata": {},
     "output_type": "display_data"
    },
    {
     "data": {
      "text/html": [
       "'--------------------------------------------------------------------'"
      ],
      "text/latex": [
       "'--------------------------------------------------------------------'"
      ],
      "text/markdown": [
       "'--------------------------------------------------------------------'"
      ],
      "text/plain": [
       "[1] \"--------------------------------------------------------------------\""
      ]
     },
     "metadata": {},
     "output_type": "display_data"
    },
    {
     "data": {
      "text/html": [
       "'↓pset colnames↓'"
      ],
      "text/latex": [
       "'↓pset colnames↓'"
      ],
      "text/markdown": [
       "'↓pset colnames↓'"
      ],
      "text/plain": [
       "[1] \"↓pset colnames↓\""
      ]
     },
     "metadata": {},
     "output_type": "display_data"
    },
    {
     "data": {
      "text/html": [
       "<ol class=list-inline>\n",
       "\t<li>'title'</li>\n",
       "\t<li>'geo_accession'</li>\n",
       "\t<li>'status'</li>\n",
       "\t<li>'submission_date'</li>\n",
       "\t<li>'last_update_date'</li>\n",
       "\t<li>'type'</li>\n",
       "\t<li>'channel_count'</li>\n",
       "\t<li>'source_name_ch1'</li>\n",
       "\t<li>'organism_ch1'</li>\n",
       "\t<li>'characteristics_ch1'</li>\n",
       "\t<li>'characteristics_ch1.1'</li>\n",
       "\t<li>'characteristics_ch1.2'</li>\n",
       "\t<li>'characteristics_ch1.3'</li>\n",
       "\t<li>'characteristics_ch1.4'</li>\n",
       "\t<li>'characteristics_ch1.5'</li>\n",
       "\t<li>'characteristics_ch1.6'</li>\n",
       "\t<li>'characteristics_ch1.7'</li>\n",
       "\t<li>'characteristics_ch1.8'</li>\n",
       "\t<li>'characteristics_ch1.9'</li>\n",
       "\t<li>'characteristics_ch1.10'</li>\n",
       "\t<li>'characteristics_ch1.11'</li>\n",
       "\t<li>'characteristics_ch1.12'</li>\n",
       "\t<li>'characteristics_ch1.13'</li>\n",
       "\t<li>'characteristics_ch1.14'</li>\n",
       "\t<li>'characteristics_ch1.15'</li>\n",
       "\t<li>'characteristics_ch1.16'</li>\n",
       "\t<li>'molecule_ch1'</li>\n",
       "\t<li>'extract_protocol_ch1'</li>\n",
       "\t<li>'label_ch1'</li>\n",
       "\t<li>'label_protocol_ch1'</li>\n",
       "\t<li>'taxid_ch1'</li>\n",
       "\t<li>'hyb_protocol'</li>\n",
       "\t<li>'scan_protocol'</li>\n",
       "\t<li>'description'</li>\n",
       "\t<li>'data_processing'</li>\n",
       "\t<li>'platform_id'</li>\n",
       "\t<li>'contact_name'</li>\n",
       "\t<li>'contact_institute'</li>\n",
       "\t<li>'contact_address'</li>\n",
       "\t<li>'contact_city'</li>\n",
       "\t<li>'contact_state'</li>\n",
       "\t<li>'contact_zip/postal_code'</li>\n",
       "\t<li>'contact_country'</li>\n",
       "\t<li>'supplementary_file'</li>\n",
       "\t<li>'data_row_count'</li>\n",
       "\t<li>'relation'</li>\n",
       "\t<li>'adjuvant chemotherapy:ch1'</li>\n",
       "\t<li>'age:ch1'</li>\n",
       "\t<li>'chemo class:ch1'</li>\n",
       "\t<li>'distant recur (yn):ch1'</li>\n",
       "\t<li>'distant recurrence free survival (mo):ch1'</li>\n",
       "\t<li>'er:ch1'</li>\n",
       "\t<li>'grade (modified, bloom, richardson):ch1'</li>\n",
       "\t<li>'her.2:ch1'</li>\n",
       "\t<li>'histology type:ch1'</li>\n",
       "\t<li>'hormonal rx:ch1'</li>\n",
       "\t<li>'lymph nodes:ch1'</li>\n",
       "\t<li>'patientid:ch1'</li>\n",
       "\t<li>'pr:ch1'</li>\n",
       "\t<li>'time of followup (mo):ch1'</li>\n",
       "\t<li>'tissue:ch1'</li>\n",
       "\t<li>'tumor recurrence (36mo):ch1'</li>\n",
       "\t<li>'tumor size (cm):ch1'</li>\n",
       "</ol>\n"
      ],
      "text/latex": [
       "\\begin{enumerate*}\n",
       "\\item 'title'\n",
       "\\item 'geo\\_accession'\n",
       "\\item 'status'\n",
       "\\item 'submission\\_date'\n",
       "\\item 'last\\_update\\_date'\n",
       "\\item 'type'\n",
       "\\item 'channel\\_count'\n",
       "\\item 'source\\_name\\_ch1'\n",
       "\\item 'organism\\_ch1'\n",
       "\\item 'characteristics\\_ch1'\n",
       "\\item 'characteristics\\_ch1.1'\n",
       "\\item 'characteristics\\_ch1.2'\n",
       "\\item 'characteristics\\_ch1.3'\n",
       "\\item 'characteristics\\_ch1.4'\n",
       "\\item 'characteristics\\_ch1.5'\n",
       "\\item 'characteristics\\_ch1.6'\n",
       "\\item 'characteristics\\_ch1.7'\n",
       "\\item 'characteristics\\_ch1.8'\n",
       "\\item 'characteristics\\_ch1.9'\n",
       "\\item 'characteristics\\_ch1.10'\n",
       "\\item 'characteristics\\_ch1.11'\n",
       "\\item 'characteristics\\_ch1.12'\n",
       "\\item 'characteristics\\_ch1.13'\n",
       "\\item 'characteristics\\_ch1.14'\n",
       "\\item 'characteristics\\_ch1.15'\n",
       "\\item 'characteristics\\_ch1.16'\n",
       "\\item 'molecule\\_ch1'\n",
       "\\item 'extract\\_protocol\\_ch1'\n",
       "\\item 'label\\_ch1'\n",
       "\\item 'label\\_protocol\\_ch1'\n",
       "\\item 'taxid\\_ch1'\n",
       "\\item 'hyb\\_protocol'\n",
       "\\item 'scan\\_protocol'\n",
       "\\item 'description'\n",
       "\\item 'data\\_processing'\n",
       "\\item 'platform\\_id'\n",
       "\\item 'contact\\_name'\n",
       "\\item 'contact\\_institute'\n",
       "\\item 'contact\\_address'\n",
       "\\item 'contact\\_city'\n",
       "\\item 'contact\\_state'\n",
       "\\item 'contact\\_zip/postal\\_code'\n",
       "\\item 'contact\\_country'\n",
       "\\item 'supplementary\\_file'\n",
       "\\item 'data\\_row\\_count'\n",
       "\\item 'relation'\n",
       "\\item 'adjuvant chemotherapy:ch1'\n",
       "\\item 'age:ch1'\n",
       "\\item 'chemo class:ch1'\n",
       "\\item 'distant recur (yn):ch1'\n",
       "\\item 'distant recurrence free survival (mo):ch1'\n",
       "\\item 'er:ch1'\n",
       "\\item 'grade (modified, bloom, richardson):ch1'\n",
       "\\item 'her.2:ch1'\n",
       "\\item 'histology type:ch1'\n",
       "\\item 'hormonal rx:ch1'\n",
       "\\item 'lymph nodes:ch1'\n",
       "\\item 'patientid:ch1'\n",
       "\\item 'pr:ch1'\n",
       "\\item 'time of followup (mo):ch1'\n",
       "\\item 'tissue:ch1'\n",
       "\\item 'tumor recurrence (36mo):ch1'\n",
       "\\item 'tumor size (cm):ch1'\n",
       "\\end{enumerate*}\n"
      ],
      "text/markdown": [
       "1. 'title'\n",
       "2. 'geo_accession'\n",
       "3. 'status'\n",
       "4. 'submission_date'\n",
       "5. 'last_update_date'\n",
       "6. 'type'\n",
       "7. 'channel_count'\n",
       "8. 'source_name_ch1'\n",
       "9. 'organism_ch1'\n",
       "10. 'characteristics_ch1'\n",
       "11. 'characteristics_ch1.1'\n",
       "12. 'characteristics_ch1.2'\n",
       "13. 'characteristics_ch1.3'\n",
       "14. 'characteristics_ch1.4'\n",
       "15. 'characteristics_ch1.5'\n",
       "16. 'characteristics_ch1.6'\n",
       "17. 'characteristics_ch1.7'\n",
       "18. 'characteristics_ch1.8'\n",
       "19. 'characteristics_ch1.9'\n",
       "20. 'characteristics_ch1.10'\n",
       "21. 'characteristics_ch1.11'\n",
       "22. 'characteristics_ch1.12'\n",
       "23. 'characteristics_ch1.13'\n",
       "24. 'characteristics_ch1.14'\n",
       "25. 'characteristics_ch1.15'\n",
       "26. 'characteristics_ch1.16'\n",
       "27. 'molecule_ch1'\n",
       "28. 'extract_protocol_ch1'\n",
       "29. 'label_ch1'\n",
       "30. 'label_protocol_ch1'\n",
       "31. 'taxid_ch1'\n",
       "32. 'hyb_protocol'\n",
       "33. 'scan_protocol'\n",
       "34. 'description'\n",
       "35. 'data_processing'\n",
       "36. 'platform_id'\n",
       "37. 'contact_name'\n",
       "38. 'contact_institute'\n",
       "39. 'contact_address'\n",
       "40. 'contact_city'\n",
       "41. 'contact_state'\n",
       "42. 'contact_zip/postal_code'\n",
       "43. 'contact_country'\n",
       "44. 'supplementary_file'\n",
       "45. 'data_row_count'\n",
       "46. 'relation'\n",
       "47. 'adjuvant chemotherapy:ch1'\n",
       "48. 'age:ch1'\n",
       "49. 'chemo class:ch1'\n",
       "50. 'distant recur (yn):ch1'\n",
       "51. 'distant recurrence free survival (mo):ch1'\n",
       "52. 'er:ch1'\n",
       "53. 'grade (modified, bloom, richardson):ch1'\n",
       "54. 'her.2:ch1'\n",
       "55. 'histology type:ch1'\n",
       "56. 'hormonal rx:ch1'\n",
       "57. 'lymph nodes:ch1'\n",
       "58. 'patientid:ch1'\n",
       "59. 'pr:ch1'\n",
       "60. 'time of followup (mo):ch1'\n",
       "61. 'tissue:ch1'\n",
       "62. 'tumor recurrence (36mo):ch1'\n",
       "63. 'tumor size (cm):ch1'\n",
       "\n",
       "\n"
      ],
      "text/plain": [
       " [1] \"title\"                                    \n",
       " [2] \"geo_accession\"                            \n",
       " [3] \"status\"                                   \n",
       " [4] \"submission_date\"                          \n",
       " [5] \"last_update_date\"                         \n",
       " [6] \"type\"                                     \n",
       " [7] \"channel_count\"                            \n",
       " [8] \"source_name_ch1\"                          \n",
       " [9] \"organism_ch1\"                             \n",
       "[10] \"characteristics_ch1\"                      \n",
       "[11] \"characteristics_ch1.1\"                    \n",
       "[12] \"characteristics_ch1.2\"                    \n",
       "[13] \"characteristics_ch1.3\"                    \n",
       "[14] \"characteristics_ch1.4\"                    \n",
       "[15] \"characteristics_ch1.5\"                    \n",
       "[16] \"characteristics_ch1.6\"                    \n",
       "[17] \"characteristics_ch1.7\"                    \n",
       "[18] \"characteristics_ch1.8\"                    \n",
       "[19] \"characteristics_ch1.9\"                    \n",
       "[20] \"characteristics_ch1.10\"                   \n",
       "[21] \"characteristics_ch1.11\"                   \n",
       "[22] \"characteristics_ch1.12\"                   \n",
       "[23] \"characteristics_ch1.13\"                   \n",
       "[24] \"characteristics_ch1.14\"                   \n",
       "[25] \"characteristics_ch1.15\"                   \n",
       "[26] \"characteristics_ch1.16\"                   \n",
       "[27] \"molecule_ch1\"                             \n",
       "[28] \"extract_protocol_ch1\"                     \n",
       "[29] \"label_ch1\"                                \n",
       "[30] \"label_protocol_ch1\"                       \n",
       "[31] \"taxid_ch1\"                                \n",
       "[32] \"hyb_protocol\"                             \n",
       "[33] \"scan_protocol\"                            \n",
       "[34] \"description\"                              \n",
       "[35] \"data_processing\"                          \n",
       "[36] \"platform_id\"                              \n",
       "[37] \"contact_name\"                             \n",
       "[38] \"contact_institute\"                        \n",
       "[39] \"contact_address\"                          \n",
       "[40] \"contact_city\"                             \n",
       "[41] \"contact_state\"                            \n",
       "[42] \"contact_zip/postal_code\"                  \n",
       "[43] \"contact_country\"                          \n",
       "[44] \"supplementary_file\"                       \n",
       "[45] \"data_row_count\"                           \n",
       "[46] \"relation\"                                 \n",
       "[47] \"adjuvant chemotherapy:ch1\"                \n",
       "[48] \"age:ch1\"                                  \n",
       "[49] \"chemo class:ch1\"                          \n",
       "[50] \"distant recur (yn):ch1\"                   \n",
       "[51] \"distant recurrence free survival (mo):ch1\"\n",
       "[52] \"er:ch1\"                                   \n",
       "[53] \"grade (modified, bloom, richardson):ch1\"  \n",
       "[54] \"her.2:ch1\"                                \n",
       "[55] \"histology type:ch1\"                       \n",
       "[56] \"hormonal rx:ch1\"                          \n",
       "[57] \"lymph nodes:ch1\"                          \n",
       "[58] \"patientid:ch1\"                            \n",
       "[59] \"pr:ch1\"                                   \n",
       "[60] \"time of followup (mo):ch1\"                \n",
       "[61] \"tissue:ch1\"                               \n",
       "[62] \"tumor recurrence (36mo):ch1\"              \n",
       "[63] \"tumor size (cm):ch1\"                      "
      ]
     },
     "metadata": {},
     "output_type": "display_data"
    }
   ],
   "source": [
    "#probe id to gene symbol\n",
    "fset <- fData(gse)\n",
    "\n",
    "'↓fset colnames↓'\n",
    "colnames(fset) #\"Symbol\" or \"Gene Symbol\" using\n",
    "\n",
    "symbols <- fset[,\"Gene Symbol\"]\n",
    "rownames(eset) <- symbols\n",
    "\n",
    "'--------------------------------------------------------------------'\n",
    "pset <- phenoData(gse)\n",
    "'↓pset colnames↓'\n",
    "colnames(pset)"
   ]
  },
  {
   "cell_type": "code",
   "execution_count": 6,
   "metadata": {},
   "outputs": [
    {
     "name": "stdin",
     "output_type": "stream",
     "text": [
      "1. HRT_p / 2. HRT_n ?:  2\n"
     ]
    },
    {
     "data": {
      "text/html": [
       "'----------------------------------------'"
      ],
      "text/latex": [
       "'----------------------------------------'"
      ],
      "text/markdown": [
       "'----------------------------------------'"
      ],
      "text/plain": [
       "[1] \"----------------------------------------\""
      ]
     },
     "metadata": {},
     "output_type": "display_data"
    },
    {
     "data": {
      "text/html": [
       "'↓eset2↓'"
      ],
      "text/latex": [
       "'↓eset2↓'"
      ],
      "text/markdown": [
       "'↓eset2↓'"
      ],
      "text/plain": [
       "[1] \"↓eset2↓\""
      ]
     },
     "metadata": {},
     "output_type": "display_data"
    },
    {
     "data": {
      "text/html": [
       "<ol class=list-inline>\n",
       "\t<li>54675</li>\n",
       "\t<li>51</li>\n",
       "</ol>\n"
      ],
      "text/latex": [
       "\\begin{enumerate*}\n",
       "\\item 54675\n",
       "\\item 51\n",
       "\\end{enumerate*}\n"
      ],
      "text/markdown": [
       "1. 54675\n",
       "2. 51\n",
       "\n",
       "\n"
      ],
      "text/plain": [
       "[1] 54675    51"
      ]
     },
     "metadata": {},
     "output_type": "display_data"
    },
    {
     "data": {
      "text/html": [
       "'----------------------------------------'"
      ],
      "text/latex": [
       "'----------------------------------------'"
      ],
      "text/markdown": [
       "'----------------------------------------'"
      ],
      "text/plain": [
       "[1] \"----------------------------------------\""
      ]
     },
     "metadata": {},
     "output_type": "display_data"
    },
    {
     "data": {
      "text/html": [
       "'↓pset3↓'"
      ],
      "text/latex": [
       "'↓pset3↓'"
      ],
      "text/markdown": [
       "'↓pset3↓'"
      ],
      "text/plain": [
       "[1] \"↓pset3↓\""
      ]
     },
     "metadata": {},
     "output_type": "display_data"
    },
    {
     "data": {
      "text/html": [
       "<dl class=dl-horizontal>\n",
       "\t<dt>sampleNames</dt>\n",
       "\t\t<dd>51</dd>\n",
       "\t<dt>sampleColumns</dt>\n",
       "\t\t<dd>63</dd>\n",
       "</dl>\n"
      ],
      "text/latex": [
       "\\begin{description*}\n",
       "\\item[sampleNames] 51\n",
       "\\item[sampleColumns] 63\n",
       "\\end{description*}\n"
      ],
      "text/markdown": [
       "sampleNames\n",
       ":   51sampleColumns\n",
       ":   63\n",
       "\n"
      ],
      "text/plain": [
       "  sampleNames sampleColumns \n",
       "           51            63 "
      ]
     },
     "metadata": {},
     "output_type": "display_data"
    },
    {
     "data": {
      "text/html": [
       "'----------------------------------------'"
      ],
      "text/latex": [
       "'----------------------------------------'"
      ],
      "text/markdown": [
       "'----------------------------------------'"
      ],
      "text/plain": [
       "[1] \"----------------------------------------\""
      ]
     },
     "metadata": {},
     "output_type": "display_data"
    },
    {
     "data": {
      "text/html": [
       "<ol class=list-inline>\n",
       "\t<li>'grpno'</li>\n",
       "\t<li>'grpyes'</li>\n",
       "</ol>\n"
      ],
      "text/latex": [
       "\\begin{enumerate*}\n",
       "\\item 'grpno'\n",
       "\\item 'grpyes'\n",
       "\\end{enumerate*}\n"
      ],
      "text/markdown": [
       "1. 'grpno'\n",
       "2. 'grpyes'\n",
       "\n",
       "\n"
      ],
      "text/plain": [
       "[1] \"grpno\"  \"grpyes\""
      ]
     },
     "metadata": {},
     "output_type": "display_data"
    },
    {
     "data": {
      "text/html": [
       "'----------------------------------------'"
      ],
      "text/latex": [
       "'----------------------------------------'"
      ],
      "text/markdown": [
       "'----------------------------------------'"
      ],
      "text/plain": [
       "[1] \"----------------------------------------\""
      ]
     },
     "metadata": {},
     "output_type": "display_data"
    },
    {
     "data": {
      "text/html": [
       "'↓converted colname↓'"
      ],
      "text/latex": [
       "'↓converted colname↓'"
      ],
      "text/markdown": [
       "'↓converted colname↓'"
      ],
      "text/plain": [
       "[1] \"↓converted colname↓\""
      ]
     },
     "metadata": {},
     "output_type": "display_data"
    },
    {
     "data": {
      "text/html": [
       "<ol class=list-inline>\n",
       "\t<li>'ctrl'</li>\n",
       "\t<li>'recurrence'</li>\n",
       "</ol>\n"
      ],
      "text/latex": [
       "\\begin{enumerate*}\n",
       "\\item 'ctrl'\n",
       "\\item 'recurrence'\n",
       "\\end{enumerate*}\n"
      ],
      "text/markdown": [
       "1. 'ctrl'\n",
       "2. 'recurrence'\n",
       "\n",
       "\n"
      ],
      "text/plain": [
       "[1] \"ctrl\"       \"recurrence\""
      ]
     },
     "metadata": {},
     "output_type": "display_data"
    }
   ],
   "source": [
    "input <-readline('1. HRT_p / 2. HRT_n ?: ')\n",
    "\n",
    "eset2 = t(eset)\n",
    "\n",
    "if (input == 1){\n",
    "    pset3 = pset[pset$'er:ch1' != 'neg' & pset$'hormonal rx:ch1' != 'unknown' & pset$'hormonal rx:ch1' != 'none']\n",
    "    eset2 <- eset2[pset$'er:ch1' != 'neg' & pset$'hormonal rx:ch1' != 'unknown' & pset$'hormonal rx:ch1' != 'none',]\n",
    "}else if (input == 2){\n",
    "    pset3 = pset[pset$'hormonal rx:ch1' == 'unknown' | pset$'hormonal rx:ch1' == 'none']\n",
    "    eset2 <- eset2[pset$'hormonal rx:ch1' == 'unknown' | pset$'hormonal rx:ch1' == 'none',]\n",
    "}\n",
    "\n",
    "eset2 = t(eset2)\n",
    "\n",
    "'----------------------------------------'\n",
    "'↓eset2↓'\n",
    "dim(eset2)\n",
    "'----------------------------------------'\n",
    "'↓pset3↓'\n",
    "dim(pset3)\n",
    "'----------------------------------------'\n",
    "\n",
    "grp <- pset3$'tumor recurrence (36mo):ch1'\n",
    "design <- model.matrix(~0 + grp)\n",
    "colnames(design)\n",
    "'----------------------------------------'\n",
    "colnames(design) <- c(\"ctrl\",\"recurrence\")\n",
    "'↓converted colname↓'\n",
    "colnames(design)"
   ]
  },
  {
   "cell_type": "code",
   "execution_count": 7,
   "metadata": {},
   "outputs": [
    {
     "data": {
      "text/html": [
       "<table>\n",
       "<thead><tr><th></th><th scope=col>ID</th><th scope=col>logFC</th><th scope=col>AveExpr</th><th scope=col>t</th><th scope=col>P.Value</th><th scope=col>adj.P.Val</th><th scope=col>B</th></tr></thead>\n",
       "<tbody>\n",
       "\t<tr><th scope=row>6374</th><td>LOC152225   </td><td>27.12083    </td><td> 50.51394   </td><td>5.013723    </td><td>7.103001e-06</td><td>0.1621628   </td><td>-1.771941   </td></tr>\n",
       "\t<tr><th scope=row>20626</th><td>TBX1        </td><td>33.33555    </td><td> 28.52902   </td><td>4.990119    </td><td>7.706122e-06</td><td>0.1621628   </td><td>-1.792080   </td></tr>\n",
       "\t<tr><th scope=row>41492</th><td>MDGA1       </td><td>20.41264    </td><td> 41.08473   </td><td>4.948400    </td><td>8.897824e-06</td><td>0.1621628   </td><td>-1.827714   </td></tr>\n",
       "\t<tr><th scope=row>37728</th><td>MSX1        </td><td>21.53500    </td><td> 68.14253   </td><td>4.746904    </td><td>1.773290e-05</td><td>0.2149025   </td><td>-2.000385   </td></tr>\n",
       "\t<tr><th scope=row>49674</th><td>LOC441204   </td><td>12.90575    </td><td> 21.61829   </td><td>4.716652    </td><td>1.965272e-05</td><td>0.2149025   </td><td>-2.026373   </td></tr>\n",
       "\t<tr><th scope=row>10657</th><td>TNFAIP1     </td><td>53.89551    </td><td>102.03592   </td><td>4.450486    </td><td>4.810289e-05</td><td>0.3805247   </td><td>-2.255368   </td></tr>\n",
       "</tbody>\n",
       "</table>\n"
      ],
      "text/latex": [
       "\\begin{tabular}{r|lllllll}\n",
       "  & ID & logFC & AveExpr & t & P.Value & adj.P.Val & B\\\\\n",
       "\\hline\n",
       "\t6374 & LOC152225    & 27.12083     &  50.51394    & 5.013723     & 7.103001e-06 & 0.1621628    & -1.771941   \\\\\n",
       "\t20626 & TBX1         & 33.33555     &  28.52902    & 4.990119     & 7.706122e-06 & 0.1621628    & -1.792080   \\\\\n",
       "\t41492 & MDGA1        & 20.41264     &  41.08473    & 4.948400     & 8.897824e-06 & 0.1621628    & -1.827714   \\\\\n",
       "\t37728 & MSX1         & 21.53500     &  68.14253    & 4.746904     & 1.773290e-05 & 0.2149025    & -2.000385   \\\\\n",
       "\t49674 & LOC441204    & 12.90575     &  21.61829    & 4.716652     & 1.965272e-05 & 0.2149025    & -2.026373   \\\\\n",
       "\t10657 & TNFAIP1      & 53.89551     & 102.03592    & 4.450486     & 4.810289e-05 & 0.3805247    & -2.255368   \\\\\n",
       "\\end{tabular}\n"
      ],
      "text/markdown": [
       "\n",
       "| <!--/--> | ID | logFC | AveExpr | t | P.Value | adj.P.Val | B | \n",
       "|---|---|---|---|---|---|\n",
       "| 6374 | LOC152225    | 27.12083     |  50.51394    | 5.013723     | 7.103001e-06 | 0.1621628    | -1.771941    | \n",
       "| 20626 | TBX1         | 33.33555     |  28.52902    | 4.990119     | 7.706122e-06 | 0.1621628    | -1.792080    | \n",
       "| 41492 | MDGA1        | 20.41264     |  41.08473    | 4.948400     | 8.897824e-06 | 0.1621628    | -1.827714    | \n",
       "| 37728 | MSX1         | 21.53500     |  68.14253    | 4.746904     | 1.773290e-05 | 0.2149025    | -2.000385    | \n",
       "| 49674 | LOC441204    | 12.90575     |  21.61829    | 4.716652     | 1.965272e-05 | 0.2149025    | -2.026373    | \n",
       "| 10657 | TNFAIP1      | 53.89551     | 102.03592    | 4.450486     | 4.810289e-05 | 0.3805247    | -2.255368    | \n",
       "\n",
       "\n"
      ],
      "text/plain": [
       "      ID        logFC    AveExpr   t        P.Value      adj.P.Val B        \n",
       "6374  LOC152225 27.12083  50.51394 5.013723 7.103001e-06 0.1621628 -1.771941\n",
       "20626 TBX1      33.33555  28.52902 4.990119 7.706122e-06 0.1621628 -1.792080\n",
       "41492 MDGA1     20.41264  41.08473 4.948400 8.897824e-06 0.1621628 -1.827714\n",
       "37728 MSX1      21.53500  68.14253 4.746904 1.773290e-05 0.2149025 -2.000385\n",
       "49674 LOC441204 12.90575  21.61829 4.716652 1.965272e-05 0.2149025 -2.026373\n",
       "10657 TNFAIP1   53.89551 102.03592 4.450486 4.810289e-05 0.3805247 -2.255368"
      ]
     },
     "metadata": {},
     "output_type": "display_data"
    }
   ],
   "source": [
    "#fit\n",
    "fit <- lmFit(eset2,design)\n",
    "cont <- makeContrasts(recurrence-ctrl,levels=design)\n",
    "fit.cont <- contrasts.fit(fit,cont)\n",
    "fit.cont <- eBayes(fit.cont)\n",
    "res <- topTable(fit.cont,number=Inf)\n",
    "head(res)\n",
    "\n",
    "#data output\n",
    "if (input == 1){\n",
    "    write.csv(res, file=\"GSE19615_DEG_HRT_p.csv\")\n",
    "}else if (input == 2){\n",
    "    write.csv(res, file=\"GSE19615_DEG_HRT_n.csv\")\n",
    "}"
   ]
  }
 ],
 "metadata": {
  "kernelspec": {
   "display_name": "R",
   "language": "R",
   "name": "ir"
  },
  "language_info": {
   "codemirror_mode": "r",
   "file_extension": ".r",
   "mimetype": "text/x-r-source",
   "name": "R",
   "pygments_lexer": "r",
   "version": "3.5.1"
  }
 },
 "nbformat": 4,
 "nbformat_minor": 2
}
