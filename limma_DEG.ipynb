{
 "cells": [
  {
   "cell_type": "code",
   "execution_count": 234,
   "metadata": {},
   "outputs": [],
   "source": [
    "library(GEOquery)\n",
    "library(limma)"
   ]
  },
  {
   "cell_type": "code",
   "execution_count": 235,
   "metadata": {},
   "outputs": [
    {
     "name": "stderr",
     "output_type": "stream",
     "text": [
      "Found 1 file(s)\n",
      "GSE19615_series_matrix.txt.gz\n",
      "Using locally cached version: C:\\Users\\BIOINF~1\\AppData\\Local\\Temp\\RtmpozYrDM/GSE19615_series_matrix.txt.gz\n",
      "Parsed with column specification:\n",
      "cols(\n",
      "  .default = col_double(),\n",
      "  ID_REF = col_character()\n",
      ")\n",
      "See spec(...) for full column specifications.\n",
      "Using locally cached version of GPL570 found here:\n",
      "C:\\Users\\BIOINF~1\\AppData\\Local\\Temp\\RtmpozYrDM/GPL570.soft \n"
     ]
    }
   ],
   "source": [
    "gse <- getGEO(\"GSE19615\",GSEMatrix=TRUE)\n",
    "gse <- gse[[1]]"
   ]
  },
  {
   "cell_type": "code",
   "execution_count": 236,
   "metadata": {},
   "outputs": [
    {
     "name": "stdout",
     "output_type": "stream",
     "text": [
      "          GSM491175 GSM491176 GSM491177 GSM491178 GSM491179\n",
      "1007_s_at  1211.042   601.809  1373.834   665.438  1316.341\n",
      "1053_at     219.152   145.972   324.582   119.593   140.175\n",
      "117_at       92.796   117.997   115.853   148.011   104.725\n",
      "121_at      228.269   196.550   241.369   265.884   292.212\n",
      "1255_g_at    13.009    11.365    30.750    33.266    30.740\n"
     ]
    }
   ],
   "source": [
    "#exp data\n",
    "eset <- exprs(gse)\n",
    "print(eset[1:5,1:5])"
   ]
  },
  {
   "cell_type": "code",
   "execution_count": 237,
   "metadata": {},
   "outputs": [
    {
     "data": {
      "text/html": [
       "<ol class=list-inline>\n",
       "\t<li>'ID'</li>\n",
       "\t<li>'GB_ACC'</li>\n",
       "\t<li>'SPOT_ID'</li>\n",
       "\t<li>'Species Scientific Name'</li>\n",
       "\t<li>'Annotation Date'</li>\n",
       "\t<li>'Sequence Type'</li>\n",
       "\t<li>'Sequence Source'</li>\n",
       "\t<li>'Target Description'</li>\n",
       "\t<li>'Representative Public ID'</li>\n",
       "\t<li>'Gene Title'</li>\n",
       "\t<li>'Gene Symbol'</li>\n",
       "\t<li>'ENTREZ_GENE_ID'</li>\n",
       "\t<li>'RefSeq Transcript ID'</li>\n",
       "\t<li>'Gene Ontology Biological Process'</li>\n",
       "\t<li>'Gene Ontology Cellular Component'</li>\n",
       "\t<li>'Gene Ontology Molecular Function'</li>\n",
       "</ol>\n"
      ],
      "text/latex": [
       "\\begin{enumerate*}\n",
       "\\item 'ID'\n",
       "\\item 'GB\\_ACC'\n",
       "\\item 'SPOT\\_ID'\n",
       "\\item 'Species Scientific Name'\n",
       "\\item 'Annotation Date'\n",
       "\\item 'Sequence Type'\n",
       "\\item 'Sequence Source'\n",
       "\\item 'Target Description'\n",
       "\\item 'Representative Public ID'\n",
       "\\item 'Gene Title'\n",
       "\\item 'Gene Symbol'\n",
       "\\item 'ENTREZ\\_GENE\\_ID'\n",
       "\\item 'RefSeq Transcript ID'\n",
       "\\item 'Gene Ontology Biological Process'\n",
       "\\item 'Gene Ontology Cellular Component'\n",
       "\\item 'Gene Ontology Molecular Function'\n",
       "\\end{enumerate*}\n"
      ],
      "text/markdown": [
       "1. 'ID'\n",
       "2. 'GB_ACC'\n",
       "3. 'SPOT_ID'\n",
       "4. 'Species Scientific Name'\n",
       "5. 'Annotation Date'\n",
       "6. 'Sequence Type'\n",
       "7. 'Sequence Source'\n",
       "8. 'Target Description'\n",
       "9. 'Representative Public ID'\n",
       "10. 'Gene Title'\n",
       "11. 'Gene Symbol'\n",
       "12. 'ENTREZ_GENE_ID'\n",
       "13. 'RefSeq Transcript ID'\n",
       "14. 'Gene Ontology Biological Process'\n",
       "15. 'Gene Ontology Cellular Component'\n",
       "16. 'Gene Ontology Molecular Function'\n",
       "\n",
       "\n"
      ],
      "text/plain": [
       " [1] \"ID\"                               \"GB_ACC\"                          \n",
       " [3] \"SPOT_ID\"                          \"Species Scientific Name\"         \n",
       " [5] \"Annotation Date\"                  \"Sequence Type\"                   \n",
       " [7] \"Sequence Source\"                  \"Target Description\"              \n",
       " [9] \"Representative Public ID\"         \"Gene Title\"                      \n",
       "[11] \"Gene Symbol\"                      \"ENTREZ_GENE_ID\"                  \n",
       "[13] \"RefSeq Transcript ID\"             \"Gene Ontology Biological Process\"\n",
       "[15] \"Gene Ontology Cellular Component\" \"Gene Ontology Molecular Function\""
      ]
     },
     "metadata": {},
     "output_type": "display_data"
    }
   ],
   "source": [
    "#probe id to gene symbol\n",
    "fset <- fData(gse)\n",
    "colnames(fset) #\"Symbol\" or \"Gene Symbol\" using"
   ]
  },
  {
   "cell_type": "code",
   "execution_count": 238,
   "metadata": {},
   "outputs": [],
   "source": [
    "symbols <- fset[,\"Gene Symbol\"]\n",
    "rownames(eset) <- symbols"
   ]
  },
  {
   "cell_type": "code",
   "execution_count": 239,
   "metadata": {},
   "outputs": [
    {
     "data": {
      "text/html": [
       "<ol class=list-inline>\n",
       "\t<li>'title'</li>\n",
       "\t<li>'geo_accession'</li>\n",
       "\t<li>'status'</li>\n",
       "\t<li>'submission_date'</li>\n",
       "\t<li>'last_update_date'</li>\n",
       "\t<li>'type'</li>\n",
       "\t<li>'channel_count'</li>\n",
       "\t<li>'source_name_ch1'</li>\n",
       "\t<li>'organism_ch1'</li>\n",
       "\t<li>'characteristics_ch1'</li>\n",
       "\t<li>'characteristics_ch1.1'</li>\n",
       "\t<li>'characteristics_ch1.2'</li>\n",
       "\t<li>'characteristics_ch1.3'</li>\n",
       "\t<li>'characteristics_ch1.4'</li>\n",
       "\t<li>'characteristics_ch1.5'</li>\n",
       "\t<li>'characteristics_ch1.6'</li>\n",
       "\t<li>'characteristics_ch1.7'</li>\n",
       "\t<li>'characteristics_ch1.8'</li>\n",
       "\t<li>'characteristics_ch1.9'</li>\n",
       "\t<li>'characteristics_ch1.10'</li>\n",
       "\t<li>'characteristics_ch1.11'</li>\n",
       "\t<li>'characteristics_ch1.12'</li>\n",
       "\t<li>'characteristics_ch1.13'</li>\n",
       "\t<li>'characteristics_ch1.14'</li>\n",
       "\t<li>'characteristics_ch1.15'</li>\n",
       "\t<li>'characteristics_ch1.16'</li>\n",
       "\t<li>'molecule_ch1'</li>\n",
       "\t<li>'extract_protocol_ch1'</li>\n",
       "\t<li>'label_ch1'</li>\n",
       "\t<li>'label_protocol_ch1'</li>\n",
       "\t<li>'taxid_ch1'</li>\n",
       "\t<li>'hyb_protocol'</li>\n",
       "\t<li>'scan_protocol'</li>\n",
       "\t<li>'description'</li>\n",
       "\t<li>'data_processing'</li>\n",
       "\t<li>'platform_id'</li>\n",
       "\t<li>'contact_name'</li>\n",
       "\t<li>'contact_institute'</li>\n",
       "\t<li>'contact_address'</li>\n",
       "\t<li>'contact_city'</li>\n",
       "\t<li>'contact_state'</li>\n",
       "\t<li>'contact_zip/postal_code'</li>\n",
       "\t<li>'contact_country'</li>\n",
       "\t<li>'supplementary_file'</li>\n",
       "\t<li>'data_row_count'</li>\n",
       "\t<li>'relation'</li>\n",
       "\t<li>'adjuvant chemotherapy:ch1'</li>\n",
       "\t<li>'age:ch1'</li>\n",
       "\t<li>'chemo class:ch1'</li>\n",
       "\t<li>'distant recur (yn):ch1'</li>\n",
       "\t<li>'distant recurrence free survival (mo):ch1'</li>\n",
       "\t<li>'er:ch1'</li>\n",
       "\t<li>'grade (modified, bloom, richardson):ch1'</li>\n",
       "\t<li>'her.2:ch1'</li>\n",
       "\t<li>'histology type:ch1'</li>\n",
       "\t<li>'hormonal rx:ch1'</li>\n",
       "\t<li>'lymph nodes:ch1'</li>\n",
       "\t<li>'patientid:ch1'</li>\n",
       "\t<li>'pr:ch1'</li>\n",
       "\t<li>'time of followup (mo):ch1'</li>\n",
       "\t<li>'tissue:ch1'</li>\n",
       "\t<li>'tumor recurrence (36mo):ch1'</li>\n",
       "\t<li>'tumor size (cm):ch1'</li>\n",
       "</ol>\n"
      ],
      "text/latex": [
       "\\begin{enumerate*}\n",
       "\\item 'title'\n",
       "\\item 'geo\\_accession'\n",
       "\\item 'status'\n",
       "\\item 'submission\\_date'\n",
       "\\item 'last\\_update\\_date'\n",
       "\\item 'type'\n",
       "\\item 'channel\\_count'\n",
       "\\item 'source\\_name\\_ch1'\n",
       "\\item 'organism\\_ch1'\n",
       "\\item 'characteristics\\_ch1'\n",
       "\\item 'characteristics\\_ch1.1'\n",
       "\\item 'characteristics\\_ch1.2'\n",
       "\\item 'characteristics\\_ch1.3'\n",
       "\\item 'characteristics\\_ch1.4'\n",
       "\\item 'characteristics\\_ch1.5'\n",
       "\\item 'characteristics\\_ch1.6'\n",
       "\\item 'characteristics\\_ch1.7'\n",
       "\\item 'characteristics\\_ch1.8'\n",
       "\\item 'characteristics\\_ch1.9'\n",
       "\\item 'characteristics\\_ch1.10'\n",
       "\\item 'characteristics\\_ch1.11'\n",
       "\\item 'characteristics\\_ch1.12'\n",
       "\\item 'characteristics\\_ch1.13'\n",
       "\\item 'characteristics\\_ch1.14'\n",
       "\\item 'characteristics\\_ch1.15'\n",
       "\\item 'characteristics\\_ch1.16'\n",
       "\\item 'molecule\\_ch1'\n",
       "\\item 'extract\\_protocol\\_ch1'\n",
       "\\item 'label\\_ch1'\n",
       "\\item 'label\\_protocol\\_ch1'\n",
       "\\item 'taxid\\_ch1'\n",
       "\\item 'hyb\\_protocol'\n",
       "\\item 'scan\\_protocol'\n",
       "\\item 'description'\n",
       "\\item 'data\\_processing'\n",
       "\\item 'platform\\_id'\n",
       "\\item 'contact\\_name'\n",
       "\\item 'contact\\_institute'\n",
       "\\item 'contact\\_address'\n",
       "\\item 'contact\\_city'\n",
       "\\item 'contact\\_state'\n",
       "\\item 'contact\\_zip/postal\\_code'\n",
       "\\item 'contact\\_country'\n",
       "\\item 'supplementary\\_file'\n",
       "\\item 'data\\_row\\_count'\n",
       "\\item 'relation'\n",
       "\\item 'adjuvant chemotherapy:ch1'\n",
       "\\item 'age:ch1'\n",
       "\\item 'chemo class:ch1'\n",
       "\\item 'distant recur (yn):ch1'\n",
       "\\item 'distant recurrence free survival (mo):ch1'\n",
       "\\item 'er:ch1'\n",
       "\\item 'grade (modified, bloom, richardson):ch1'\n",
       "\\item 'her.2:ch1'\n",
       "\\item 'histology type:ch1'\n",
       "\\item 'hormonal rx:ch1'\n",
       "\\item 'lymph nodes:ch1'\n",
       "\\item 'patientid:ch1'\n",
       "\\item 'pr:ch1'\n",
       "\\item 'time of followup (mo):ch1'\n",
       "\\item 'tissue:ch1'\n",
       "\\item 'tumor recurrence (36mo):ch1'\n",
       "\\item 'tumor size (cm):ch1'\n",
       "\\end{enumerate*}\n"
      ],
      "text/markdown": [
       "1. 'title'\n",
       "2. 'geo_accession'\n",
       "3. 'status'\n",
       "4. 'submission_date'\n",
       "5. 'last_update_date'\n",
       "6. 'type'\n",
       "7. 'channel_count'\n",
       "8. 'source_name_ch1'\n",
       "9. 'organism_ch1'\n",
       "10. 'characteristics_ch1'\n",
       "11. 'characteristics_ch1.1'\n",
       "12. 'characteristics_ch1.2'\n",
       "13. 'characteristics_ch1.3'\n",
       "14. 'characteristics_ch1.4'\n",
       "15. 'characteristics_ch1.5'\n",
       "16. 'characteristics_ch1.6'\n",
       "17. 'characteristics_ch1.7'\n",
       "18. 'characteristics_ch1.8'\n",
       "19. 'characteristics_ch1.9'\n",
       "20. 'characteristics_ch1.10'\n",
       "21. 'characteristics_ch1.11'\n",
       "22. 'characteristics_ch1.12'\n",
       "23. 'characteristics_ch1.13'\n",
       "24. 'characteristics_ch1.14'\n",
       "25. 'characteristics_ch1.15'\n",
       "26. 'characteristics_ch1.16'\n",
       "27. 'molecule_ch1'\n",
       "28. 'extract_protocol_ch1'\n",
       "29. 'label_ch1'\n",
       "30. 'label_protocol_ch1'\n",
       "31. 'taxid_ch1'\n",
       "32. 'hyb_protocol'\n",
       "33. 'scan_protocol'\n",
       "34. 'description'\n",
       "35. 'data_processing'\n",
       "36. 'platform_id'\n",
       "37. 'contact_name'\n",
       "38. 'contact_institute'\n",
       "39. 'contact_address'\n",
       "40. 'contact_city'\n",
       "41. 'contact_state'\n",
       "42. 'contact_zip/postal_code'\n",
       "43. 'contact_country'\n",
       "44. 'supplementary_file'\n",
       "45. 'data_row_count'\n",
       "46. 'relation'\n",
       "47. 'adjuvant chemotherapy:ch1'\n",
       "48. 'age:ch1'\n",
       "49. 'chemo class:ch1'\n",
       "50. 'distant recur (yn):ch1'\n",
       "51. 'distant recurrence free survival (mo):ch1'\n",
       "52. 'er:ch1'\n",
       "53. 'grade (modified, bloom, richardson):ch1'\n",
       "54. 'her.2:ch1'\n",
       "55. 'histology type:ch1'\n",
       "56. 'hormonal rx:ch1'\n",
       "57. 'lymph nodes:ch1'\n",
       "58. 'patientid:ch1'\n",
       "59. 'pr:ch1'\n",
       "60. 'time of followup (mo):ch1'\n",
       "61. 'tissue:ch1'\n",
       "62. 'tumor recurrence (36mo):ch1'\n",
       "63. 'tumor size (cm):ch1'\n",
       "\n",
       "\n"
      ],
      "text/plain": [
       " [1] \"title\"                                    \n",
       " [2] \"geo_accession\"                            \n",
       " [3] \"status\"                                   \n",
       " [4] \"submission_date\"                          \n",
       " [5] \"last_update_date\"                         \n",
       " [6] \"type\"                                     \n",
       " [7] \"channel_count\"                            \n",
       " [8] \"source_name_ch1\"                          \n",
       " [9] \"organism_ch1\"                             \n",
       "[10] \"characteristics_ch1\"                      \n",
       "[11] \"characteristics_ch1.1\"                    \n",
       "[12] \"characteristics_ch1.2\"                    \n",
       "[13] \"characteristics_ch1.3\"                    \n",
       "[14] \"characteristics_ch1.4\"                    \n",
       "[15] \"characteristics_ch1.5\"                    \n",
       "[16] \"characteristics_ch1.6\"                    \n",
       "[17] \"characteristics_ch1.7\"                    \n",
       "[18] \"characteristics_ch1.8\"                    \n",
       "[19] \"characteristics_ch1.9\"                    \n",
       "[20] \"characteristics_ch1.10\"                   \n",
       "[21] \"characteristics_ch1.11\"                   \n",
       "[22] \"characteristics_ch1.12\"                   \n",
       "[23] \"characteristics_ch1.13\"                   \n",
       "[24] \"characteristics_ch1.14\"                   \n",
       "[25] \"characteristics_ch1.15\"                   \n",
       "[26] \"characteristics_ch1.16\"                   \n",
       "[27] \"molecule_ch1\"                             \n",
       "[28] \"extract_protocol_ch1\"                     \n",
       "[29] \"label_ch1\"                                \n",
       "[30] \"label_protocol_ch1\"                       \n",
       "[31] \"taxid_ch1\"                                \n",
       "[32] \"hyb_protocol\"                             \n",
       "[33] \"scan_protocol\"                            \n",
       "[34] \"description\"                              \n",
       "[35] \"data_processing\"                          \n",
       "[36] \"platform_id\"                              \n",
       "[37] \"contact_name\"                             \n",
       "[38] \"contact_institute\"                        \n",
       "[39] \"contact_address\"                          \n",
       "[40] \"contact_city\"                             \n",
       "[41] \"contact_state\"                            \n",
       "[42] \"contact_zip/postal_code\"                  \n",
       "[43] \"contact_country\"                          \n",
       "[44] \"supplementary_file\"                       \n",
       "[45] \"data_row_count\"                           \n",
       "[46] \"relation\"                                 \n",
       "[47] \"adjuvant chemotherapy:ch1\"                \n",
       "[48] \"age:ch1\"                                  \n",
       "[49] \"chemo class:ch1\"                          \n",
       "[50] \"distant recur (yn):ch1\"                   \n",
       "[51] \"distant recurrence free survival (mo):ch1\"\n",
       "[52] \"er:ch1\"                                   \n",
       "[53] \"grade (modified, bloom, richardson):ch1\"  \n",
       "[54] \"her.2:ch1\"                                \n",
       "[55] \"histology type:ch1\"                       \n",
       "[56] \"hormonal rx:ch1\"                          \n",
       "[57] \"lymph nodes:ch1\"                          \n",
       "[58] \"patientid:ch1\"                            \n",
       "[59] \"pr:ch1\"                                   \n",
       "[60] \"time of followup (mo):ch1\"                \n",
       "[61] \"tissue:ch1\"                               \n",
       "[62] \"tumor recurrence (36mo):ch1\"              \n",
       "[63] \"tumor size (cm):ch1\"                      "
      ]
     },
     "metadata": {},
     "output_type": "display_data"
    }
   ],
   "source": [
    "pset <- phenoData(gse)\n",
    "colnames(pset)"
   ]
  },
  {
   "cell_type": "code",
   "execution_count": 240,
   "metadata": {},
   "outputs": [],
   "source": [
    "pset3 = pset[pset$'er:ch1' != 'neg' & pset$'hormonal rx:ch1' != 'unknown' & pset$'hormonal rx:ch1' != 'none']\n",
    "#pset3 = pset[pset$'hormonal rx:ch1' == 'unknown' | pset$'hormonal rx:ch1' == 'none']\n",
    "\n",
    "eset2 = t(eset)\n",
    "eset <- eset2[pset$'er:ch1' != 'neg' & pset$'hormonal rx:ch1' != 'unknown' & pset$'hormonal rx:ch1' != 'none',]\n",
    "#eset <- eset2[pset$'hormonal rx:ch1' == 'unknown' | pset$'hormonal rx:ch1' == 'none',]\n",
    "eset = t(eset)"
   ]
  },
  {
   "cell_type": "code",
   "execution_count": 241,
   "metadata": {},
   "outputs": [
    {
     "data": {
      "text/html": [
       "<ol class=list-inline>\n",
       "\t<li>54675</li>\n",
       "\t<li>64</li>\n",
       "</ol>\n"
      ],
      "text/latex": [
       "\\begin{enumerate*}\n",
       "\\item 54675\n",
       "\\item 64\n",
       "\\end{enumerate*}\n"
      ],
      "text/markdown": [
       "1. 54675\n",
       "2. 64\n",
       "\n",
       "\n"
      ],
      "text/plain": [
       "[1] 54675    64"
      ]
     },
     "metadata": {},
     "output_type": "display_data"
    }
   ],
   "source": [
    "dim(eset)"
   ]
  },
  {
   "cell_type": "code",
   "execution_count": 242,
   "metadata": {},
   "outputs": [
    {
     "data": {
      "text/html": [
       "<dl class=dl-horizontal>\n",
       "\t<dt>sampleNames</dt>\n",
       "\t\t<dd>64</dd>\n",
       "\t<dt>sampleColumns</dt>\n",
       "\t\t<dd>63</dd>\n",
       "</dl>\n"
      ],
      "text/latex": [
       "\\begin{description*}\n",
       "\\item[sampleNames] 64\n",
       "\\item[sampleColumns] 63\n",
       "\\end{description*}\n"
      ],
      "text/markdown": [
       "sampleNames\n",
       ":   64sampleColumns\n",
       ":   63\n",
       "\n"
      ],
      "text/plain": [
       "  sampleNames sampleColumns \n",
       "           64            63 "
      ]
     },
     "metadata": {},
     "output_type": "display_data"
    }
   ],
   "source": [
    "dim(pset3)"
   ]
  },
  {
   "cell_type": "code",
   "execution_count": 243,
   "metadata": {},
   "outputs": [
    {
     "data": {
      "text/html": [
       "<ol class=list-inline>\n",
       "\t<li>'grpno'</li>\n",
       "\t<li>'grpyes'</li>\n",
       "</ol>\n"
      ],
      "text/latex": [
       "\\begin{enumerate*}\n",
       "\\item 'grpno'\n",
       "\\item 'grpyes'\n",
       "\\end{enumerate*}\n"
      ],
      "text/markdown": [
       "1. 'grpno'\n",
       "2. 'grpyes'\n",
       "\n",
       "\n"
      ],
      "text/plain": [
       "[1] \"grpno\"  \"grpyes\""
      ]
     },
     "metadata": {},
     "output_type": "display_data"
    }
   ],
   "source": [
    "grp <- pset3$'tumor recurrence (36mo):ch1'\n",
    "design <- model.matrix(~0 + grp)\n",
    "colnames(design)"
   ]
  },
  {
   "cell_type": "code",
   "execution_count": 244,
   "metadata": {},
   "outputs": [],
   "source": [
    "colnames(design) <- c(\"ctrl\",\"recurrence\")"
   ]
  },
  {
   "cell_type": "code",
   "execution_count": 245,
   "metadata": {},
   "outputs": [
    {
     "data": {
      "text/html": [
       "<table>\n",
       "<thead><tr><th></th><th scope=col>ID</th><th scope=col>logFC</th><th scope=col>AveExpr</th><th scope=col>t</th><th scope=col>P.Value</th><th scope=col>adj.P.Val</th><th scope=col>B</th></tr></thead>\n",
       "<tbody>\n",
       "\t<tr><th scope=row>24585</th><td>            </td><td> 48.78327   </td><td>19.94194    </td><td>6.192210    </td><td>4.994147e-08</td><td>0.00273055  </td><td>-1.523653   </td></tr>\n",
       "\t<tr><th scope=row>14318</th><td>PCSK2       </td><td>131.32228   </td><td>13.36286    </td><td>5.670702    </td><td>3.825518e-07</td><td>0.01045801  </td><td>-1.883121   </td></tr>\n",
       "\t<tr><th scope=row>23323</th><td>TUBB2B      </td><td>315.59378   </td><td>55.34308    </td><td>5.502871    </td><td>7.293901e-07</td><td>0.01329313  </td><td>-2.000623   </td></tr>\n",
       "\t<tr><th scope=row>26850</th><td>CPS1        </td><td> 25.84903   </td><td>22.93328    </td><td>5.356618    </td><td>1.273966e-06</td><td>0.01741352  </td><td>-2.103545   </td></tr>\n",
       "\t<tr><th scope=row>26350</th><td>MUC7        </td><td> 29.00547   </td><td>20.69037    </td><td>4.848334    </td><td>8.503071e-06</td><td>0.07831479  </td><td>-2.463396   </td></tr>\n",
       "\t<tr><th scope=row>50435</th><td>SAE1        </td><td> 21.46207   </td><td>18.91956    </td><td>4.845425    </td><td>8.594216e-06</td><td>0.07831479  </td><td>-2.465458   </td></tr>\n",
       "</tbody>\n",
       "</table>\n"
      ],
      "text/latex": [
       "\\begin{tabular}{r|lllllll}\n",
       "  & ID & logFC & AveExpr & t & P.Value & adj.P.Val & B\\\\\n",
       "\\hline\n",
       "\t24585 &              &  48.78327    & 19.94194     & 6.192210     & 4.994147e-08 & 0.00273055   & -1.523653   \\\\\n",
       "\t14318 & PCSK2        & 131.32228    & 13.36286     & 5.670702     & 3.825518e-07 & 0.01045801   & -1.883121   \\\\\n",
       "\t23323 & TUBB2B       & 315.59378    & 55.34308     & 5.502871     & 7.293901e-07 & 0.01329313   & -2.000623   \\\\\n",
       "\t26850 & CPS1         &  25.84903    & 22.93328     & 5.356618     & 1.273966e-06 & 0.01741352   & -2.103545   \\\\\n",
       "\t26350 & MUC7         &  29.00547    & 20.69037     & 4.848334     & 8.503071e-06 & 0.07831479   & -2.463396   \\\\\n",
       "\t50435 & SAE1         &  21.46207    & 18.91956     & 4.845425     & 8.594216e-06 & 0.07831479   & -2.465458   \\\\\n",
       "\\end{tabular}\n"
      ],
      "text/markdown": [
       "\n",
       "| <!--/--> | ID | logFC | AveExpr | t | P.Value | adj.P.Val | B | \n",
       "|---|---|---|---|---|---|\n",
       "| 24585 |              |  48.78327    | 19.94194     | 6.192210     | 4.994147e-08 | 0.00273055   | -1.523653    | \n",
       "| 14318 | PCSK2        | 131.32228    | 13.36286     | 5.670702     | 3.825518e-07 | 0.01045801   | -1.883121    | \n",
       "| 23323 | TUBB2B       | 315.59378    | 55.34308     | 5.502871     | 7.293901e-07 | 0.01329313   | -2.000623    | \n",
       "| 26850 | CPS1         |  25.84903    | 22.93328     | 5.356618     | 1.273966e-06 | 0.01741352   | -2.103545    | \n",
       "| 26350 | MUC7         |  29.00547    | 20.69037     | 4.848334     | 8.503071e-06 | 0.07831479   | -2.463396    | \n",
       "| 50435 | SAE1         |  21.46207    | 18.91956     | 4.845425     | 8.594216e-06 | 0.07831479   | -2.465458    | \n",
       "\n",
       "\n"
      ],
      "text/plain": [
       "      ID     logFC     AveExpr  t        P.Value      adj.P.Val  B        \n",
       "24585         48.78327 19.94194 6.192210 4.994147e-08 0.00273055 -1.523653\n",
       "14318 PCSK2  131.32228 13.36286 5.670702 3.825518e-07 0.01045801 -1.883121\n",
       "23323 TUBB2B 315.59378 55.34308 5.502871 7.293901e-07 0.01329313 -2.000623\n",
       "26850 CPS1    25.84903 22.93328 5.356618 1.273966e-06 0.01741352 -2.103545\n",
       "26350 MUC7    29.00547 20.69037 4.848334 8.503071e-06 0.07831479 -2.463396\n",
       "50435 SAE1    21.46207 18.91956 4.845425 8.594216e-06 0.07831479 -2.465458"
      ]
     },
     "metadata": {},
     "output_type": "display_data"
    }
   ],
   "source": [
    "#fit\n",
    "fit <- lmFit(eset,design)\n",
    "cont <- makeContrasts(recurrence-ctrl,levels=design)\n",
    "fit.cont <- contrasts.fit(fit,cont)\n",
    "fit.cont <- eBayes(fit.cont)\n",
    "res <- topTable(fit.cont,number=Inf)\n",
    "head(res)\n",
    "\n",
    "#data output\n",
    "write.csv(res, file=\"GSE19615_DEG2.csv\")"
   ]
  }
 ],
 "metadata": {
  "kernelspec": {
   "display_name": "R",
   "language": "R",
   "name": "ir"
  },
  "language_info": {
   "codemirror_mode": "r",
   "file_extension": ".r",
   "mimetype": "text/x-r-source",
   "name": "R",
   "pygments_lexer": "r",
   "version": "3.5.1"
  }
 },
 "nbformat": 4,
 "nbformat_minor": 2
}
