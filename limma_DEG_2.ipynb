{
 "cells": [
  {
   "cell_type": "code",
   "execution_count": null,
   "metadata": {},
   "outputs": [],
   "source": [
    "# 이번 분석을 위해 GEO 데이터를 사용해야 하니, 해당 데이터를 다루기 위한\n",
    "# GEOquery라는 패키지와, DEG 분석을 해 주는 limma라는 패키지를 설치해 줍니다.\n",
    "# 한번 설치하신 후에는 아래 4줄은 지우거나, 앞에 #을 붙여 주석처리 해주셔도 좋습니다.\n",
    "\n",
    "if (!requireNamespace(\"BiocManager\", quietly = TRUE))\n",
    "  install.packages(\"BiocManager\")\n",
    "BiocManager::install(\"GEOquery\")\n",
    "BiocManager::install(\"limma\")"
   ]
  },
  {
   "cell_type": "code",
   "execution_count": 1,
   "metadata": {},
   "outputs": [
    {
     "name": "stderr",
     "output_type": "stream",
     "text": [
      "Loading required package: Biobase\n",
      "Loading required package: BiocGenerics\n",
      "Loading required package: parallel\n",
      "\n",
      "Attaching package: 'BiocGenerics'\n",
      "\n",
      "The following objects are masked from 'package:parallel':\n",
      "\n",
      "    clusterApply, clusterApplyLB, clusterCall, clusterEvalQ,\n",
      "    clusterExport, clusterMap, parApply, parCapply, parLapply,\n",
      "    parLapplyLB, parRapply, parSapply, parSapplyLB\n",
      "\n",
      "The following objects are masked from 'package:stats':\n",
      "\n",
      "    IQR, mad, sd, var, xtabs\n",
      "\n",
      "The following objects are masked from 'package:base':\n",
      "\n",
      "    anyDuplicated, append, as.data.frame, basename, cbind, colMeans,\n",
      "    colnames, colSums, dirname, do.call, duplicated, eval, evalq,\n",
      "    Filter, Find, get, grep, grepl, intersect, is.unsorted, lapply,\n",
      "    lengths, Map, mapply, match, mget, order, paste, pmax, pmax.int,\n",
      "    pmin, pmin.int, Position, rank, rbind, Reduce, rowMeans, rownames,\n",
      "    rowSums, sapply, setdiff, sort, table, tapply, union, unique,\n",
      "    unsplit, which, which.max, which.min\n",
      "\n",
      "Welcome to Bioconductor\n",
      "\n",
      "    Vignettes contain introductory material; view with\n",
      "    'browseVignettes()'. To cite Bioconductor, see\n",
      "    'citation(\"Biobase\")', and for packages 'citation(\"pkgname\")'.\n",
      "\n",
      "Setting options('download.file.method.GEOquery'='auto')\n",
      "Setting options('GEOquery.inmemory.gpl'=FALSE)\n",
      "\n",
      "Attaching package: 'limma'\n",
      "\n",
      "The following object is masked from 'package:BiocGenerics':\n",
      "\n",
      "    plotMA\n",
      "\n"
     ]
    }
   ],
   "source": [
    "# 패키지들을 불러옵니다.\n",
    "library('GEOquery')\n",
    "library('limma')"
   ]
  },
  {
   "cell_type": "code",
   "execution_count": 2,
   "metadata": {},
   "outputs": [
    {
     "name": "stderr",
     "output_type": "stream",
     "text": [
      "Found 1 file(s)\n",
      "GSE3493_series_matrix.txt.gz\n",
      "Parsed with column specification:\n",
      "cols(\n",
      "  .default = col_double(),\n",
      "  ID_REF = col_character()\n",
      ")\n",
      "See spec(...) for full column specifications.\n",
      "File stored at: \n",
      "C:\\Users\\BIOINF~1\\AppData\\Local\\Temp\\RtmpURcGkk/GPL8300.soft\n"
     ]
    }
   ],
   "source": [
    "# 이번 DEG(Differentially Expressed Genes) 분석에 쓸 예제인 GSE3493입니다.\n",
    "# GEO의 Rectal Cancer 데이터로, 46개의 샘플이 있는 마이크로어레이 데이터입니다.\n",
    "# 이번에는 방사선 치료에 대해 반응군과 비반응군으로 나누어 상호간 DEG를 분석해 보겠습니다.\n",
    "\n",
    "gse <- getGEO(\"GSE3493\", GSEMatrix = TRUE)\n",
    "gse1 <- gse[[1]] # 데이터 테이블이 여러 개(예: miRNA/array 2개 테이블)일 시 각 번호로 매겨지는데,\n",
    "                # View(gse)를 통해 파일을 직접 확인 후 적절한 데이터를 불러오면 됩니다.\n",
    "                # 이번에는 array 하나밖에 없으니 첫 번째 항목을 불러옵니다.\n",
    "                # R은 파이썬과 달리 넘버링할 때 1이 첫 번째를 가리킵니다.\n",
    "\n",
    "\n",
    "# pData()와 exprs()는 각각 phenotype data, expression data를 가져오는 명령어입니다.\n",
    "pset <- pData(gse1)\n",
    "eset <- exprs(gse1)"
   ]
  },
  {
   "cell_type": "code",
   "execution_count": 3,
   "metadata": {},
   "outputs": [
    {
     "data": {
      "image/png": "[encoded data removed]",
      "text/plain": [
       "Plot with title \"Histogram of eset\""
      ]
     },
     "metadata": {},
     "output_type": "display_data",
     "source": "R display func"
    }
   ],
   "source": [
    "# expression data의 분포를 간단히 확인해 봅니다.\n",
    "# GSE3493의 경우 상당히 데이터가 쏠려(skewed)있는 것을 확인할 수 있습니다.\n",
    "hist(eset)"
   ]
  },
  {
   "cell_type": "code",
   "execution_count": 4,
   "metadata": {},
   "outputs": [
    {
     "data": {
      "image/png": "[encoded data removed]",
      "text/plain": [
       "Plot with title \"Histogram of log2(eset)\""
      ]
     },
     "metadata": {},
     "output_type": "display_data",
     "source": "R display func"
    }
   ],
   "source": [
    "# 이대로 DEG분석을 하면 유전자별 발현량 차이(log Fold Change)가 수십~수백씩 나와 의미를 잃게 됩니다.\n",
    "# 따라서 log2화시켜, 유전자별 차이가 로그값으로 나타나도록 바꿉니다.\n",
    "# limma 부분에서 한번 더 설명하겠지만, 결과물에 나타난 logFC는 지수값으로\n",
    "# 1이면 2배, 2면 4배, 3이면 8배.. 라는 식으로 해석할 수 있게 됩니다.\n",
    "hist(log2(eset))"
   ]
  },
  {
   "cell_type": "code",
   "execution_count": 5,
   "metadata": {},
   "outputs": [],
   "source": [
    "# log2화한 분포가 정규성을 나타내므로, log2화한 eset을 새로운 eset으로 지정해 줍니다.\n",
    "eset <- log2(eset)"
   ]
  },
  {
   "cell_type": "code",
   "execution_count": 6,
   "metadata": {},
   "outputs": [
    {
     "data": {
      "text/html": [
       "<table>\n",
       "<thead><tr><th></th><th scope=col>GSM79068</th><th scope=col>GSM79069</th><th scope=col>GSM79070</th><th scope=col>GSM79071</th><th scope=col>GSM79072</th><th scope=col>GSM79073</th><th scope=col>GSM79074</th><th scope=col>GSM79075</th><th scope=col>GSM79076</th><th scope=col>GSM79077</th><th scope=col>...</th><th scope=col>GSM79104</th><th scope=col>GSM79105</th><th scope=col>GSM79106</th><th scope=col>GSM79107</th><th scope=col>GSM79108</th><th scope=col>GSM79109</th><th scope=col>GSM79110</th><th scope=col>GSM79111</th><th scope=col>GSM79112</th><th scope=col>GSM79113</th></tr></thead>\n",
       "<tbody>\n",
       "\t<tr><th scope=row>1000_at</th><td>9.612500 </td><td>10.216503</td><td>10.505117</td><td> 9.788392</td><td>10.634993</td><td>10.538868</td><td>10.435358</td><td>10.693922</td><td>10.645478</td><td>10.641600</td><td>...      </td><td>10.369815</td><td>10.544482</td><td>10.257034</td><td>10.182891</td><td>9.819540 </td><td>10.819061</td><td>10.748361</td><td>10.456662</td><td>10.873752</td><td>10.852686</td></tr>\n",
       "\t<tr><th scope=row>1001_at</th><td>5.620586 </td><td> 6.578939</td><td> 6.671010</td><td> 5.575917</td><td> 8.211402</td><td> 6.886306</td><td> 7.108524</td><td> 7.142618</td><td> 7.179909</td><td> 5.364572</td><td>...      </td><td> 6.963474</td><td> 4.727920</td><td> 7.075747</td><td> 6.493455</td><td>6.076816 </td><td> 7.624247</td><td> 8.080551</td><td> 6.400879</td><td> 7.778077</td><td> 8.193279</td></tr>\n",
       "\t<tr><th scope=row>1002_f_at</th><td>3.925999 </td><td> 4.095924</td><td> 5.325530</td><td> 5.623516</td><td> 6.491853</td><td> 5.768184</td><td> 6.626439</td><td> 7.422065</td><td> 5.569856</td><td> 5.274262</td><td>...      </td><td> 6.083213</td><td> 5.259272</td><td> 5.061776</td><td> 3.944858</td><td>5.504620 </td><td> 6.332708</td><td> 6.752213</td><td> 5.392317</td><td> 4.827819</td><td> 5.560715</td></tr>\n",
       "\t<tr><th scope=row>1003_s_at</th><td>6.956521 </td><td> 6.723832</td><td> 7.938403</td><td> 7.517276</td><td> 8.561097</td><td> 7.196725</td><td> 6.542258</td><td> 7.976707</td><td> 7.815704</td><td> 7.086402</td><td>...      </td><td> 7.152792</td><td> 8.346957</td><td> 6.797013</td><td> 7.115824</td><td>5.958843 </td><td> 8.561097</td><td> 8.436712</td><td> 8.085340</td><td> 7.257388</td><td> 8.043301</td></tr>\n",
       "\t<tr><th scope=row>1004_at</th><td>6.464342 </td><td> 5.381975</td><td> 7.589464</td><td> 7.884476</td><td> 8.610287</td><td> 8.008429</td><td> 8.193772</td><td> 8.747857</td><td> 6.274262</td><td> 8.223519</td><td>...      </td><td> 7.938991</td><td> 7.695576</td><td> 7.610287</td><td> 7.948367</td><td>7.074677 </td><td> 7.995485</td><td> 9.374822</td><td> 8.759222</td><td> 9.023200</td><td> 8.663202</td></tr>\n",
       "\t<tr><th scope=row>1005_at</th><td>8.413205 </td><td> 9.500045</td><td> 7.931328</td><td>10.512444</td><td> 8.287251</td><td> 6.414474</td><td> 7.633722</td><td> 5.974988</td><td> 8.138016</td><td> 8.832574</td><td>...      </td><td> 9.782507</td><td> 9.184875</td><td> 8.653562</td><td> 8.108524</td><td>8.036723 </td><td> 8.312883</td><td> 9.395534</td><td> 9.086667</td><td> 8.839519</td><td> 9.802193</td></tr>\n",
       "</tbody>\n",
       "</table>\n"
      ],
      "text/latex": [
       "\\begin{tabular}{r|llllllllllllllllllllllllllllllllllllllllllllll}\n",
       "  & GSM79068 & GSM79069 & GSM79070 & GSM79071 & GSM79072 & GSM79073 & GSM79074 & GSM79075 & GSM79076 & GSM79077 & ... & GSM79104 & GSM79105 & GSM79106 & GSM79107 & GSM79108 & GSM79109 & GSM79110 & GSM79111 & GSM79112 & GSM79113\\\\\n",
       "\\hline\n",
       "\t1000\\_at & 9.612500  & 10.216503 & 10.505117 &  9.788392 & 10.634993 & 10.538868 & 10.435358 & 10.693922 & 10.645478 & 10.641600 & ...       & 10.369815 & 10.544482 & 10.257034 & 10.182891 & 9.819540  & 10.819061 & 10.748361 & 10.456662 & 10.873752 & 10.852686\\\\\n",
       "\t1001\\_at & 5.620586  &  6.578939 &  6.671010 &  5.575917 &  8.211402 &  6.886306 &  7.108524 &  7.142618 &  7.179909 &  5.364572 & ...       &  6.963474 &  4.727920 &  7.075747 &  6.493455 & 6.076816  &  7.624247 &  8.080551 &  6.400879 &  7.778077 &  8.193279\\\\\n",
       "\t1002\\_f\\_at & 3.925999  &  4.095924 &  5.325530 &  5.623516 &  6.491853 &  5.768184 &  6.626439 &  7.422065 &  5.569856 &  5.274262 & ...       &  6.083213 &  5.259272 &  5.061776 &  3.944858 & 5.504620  &  6.332708 &  6.752213 &  5.392317 &  4.827819 &  5.560715\\\\\n",
       "\t1003\\_s\\_at & 6.956521  &  6.723832 &  7.938403 &  7.517276 &  8.561097 &  7.196725 &  6.542258 &  7.976707 &  7.815704 &  7.086402 & ...       &  7.152792 &  8.346957 &  6.797013 &  7.115824 & 5.958843  &  8.561097 &  8.436712 &  8.085340 &  7.257388 &  8.043301\\\\\n",
       "\t1004\\_at & 6.464342  &  5.381975 &  7.589464 &  7.884476 &  8.610287 &  8.008429 &  8.193772 &  8.747857 &  6.274262 &  8.223519 & ...       &  7.938991 &  7.695576 &  7.610287 &  7.948367 & 7.074677  &  7.995485 &  9.374822 &  8.759222 &  9.023200 &  8.663202\\\\\n",
       "\t1005\\_at & 8.413205  &  9.500045 &  7.931328 & 10.512444 &  8.287251 &  6.414474 &  7.633722 &  5.974988 &  8.138016 &  8.832574 & ...       &  9.782507 &  9.184875 &  8.653562 &  8.108524 & 8.036723  &  8.312883 &  9.395534 &  9.086667 &  8.839519 &  9.802193\\\\\n",
       "\\end{tabular}\n"
      ],
      "text/markdown": [
       "\n",
       "| <!--/--> | GSM79068 | GSM79069 | GSM79070 | GSM79071 | GSM79072 | GSM79073 | GSM79074 | GSM79075 | GSM79076 | GSM79077 | ... | GSM79104 | GSM79105 | GSM79106 | GSM79107 | GSM79108 | GSM79109 | GSM79110 | GSM79111 | GSM79112 | GSM79113 | \n",
       "|---|---|---|---|---|---|\n",
       "| 1000_at | 9.612500  | 10.216503 | 10.505117 |  9.788392 | 10.634993 | 10.538868 | 10.435358 | 10.693922 | 10.645478 | 10.641600 | ...       | 10.369815 | 10.544482 | 10.257034 | 10.182891 | 9.819540  | 10.819061 | 10.748361 | 10.456662 | 10.873752 | 10.852686 | \n",
       "| 1001_at | 5.620586  |  6.578939 |  6.671010 |  5.575917 |  8.211402 |  6.886306 |  7.108524 |  7.142618 |  7.179909 |  5.364572 | ...       |  6.963474 |  4.727920 |  7.075747 |  6.493455 | 6.076816  |  7.624247 |  8.080551 |  6.400879 |  7.778077 |  8.193279 | \n",
       "| 1002_f_at | 3.925999  |  4.095924 |  5.325530 |  5.623516 |  6.491853 |  5.768184 |  6.626439 |  7.422065 |  5.569856 |  5.274262 | ...       |  6.083213 |  5.259272 |  5.061776 |  3.944858 | 5.504620  |  6.332708 |  6.752213 |  5.392317 |  4.827819 |  5.560715 | \n",
       "| 1003_s_at | 6.956521  |  6.723832 |  7.938403 |  7.517276 |  8.561097 |  7.196725 |  6.542258 |  7.976707 |  7.815704 |  7.086402 | ...       |  7.152792 |  8.346957 |  6.797013 |  7.115824 | 5.958843  |  8.561097 |  8.436712 |  8.085340 |  7.257388 |  8.043301 | \n",
       "| 1004_at | 6.464342  |  5.381975 |  7.589464 |  7.884476 |  8.610287 |  8.008429 |  8.193772 |  8.747857 |  6.274262 |  8.223519 | ...       |  7.938991 |  7.695576 |  7.610287 |  7.948367 | 7.074677  |  7.995485 |  9.374822 |  8.759222 |  9.023200 |  8.663202 | \n",
       "| 1005_at | 8.413205  |  9.500045 |  7.931328 | 10.512444 |  8.287251 |  6.414474 |  7.633722 |  5.974988 |  8.138016 |  8.832574 | ...       |  9.782507 |  9.184875 |  8.653562 |  8.108524 | 8.036723  |  8.312883 |  9.395534 |  9.086667 |  8.839519 |  9.802193 | \n",
       "\n",
       "\n"
      ],
      "text/plain": [
       "          GSM79068 GSM79069  GSM79070  GSM79071  GSM79072  GSM79073  GSM79074 \n",
       "1000_at   9.612500 10.216503 10.505117  9.788392 10.634993 10.538868 10.435358\n",
       "1001_at   5.620586  6.578939  6.671010  5.575917  8.211402  6.886306  7.108524\n",
       "1002_f_at 3.925999  4.095924  5.325530  5.623516  6.491853  5.768184  6.626439\n",
       "1003_s_at 6.956521  6.723832  7.938403  7.517276  8.561097  7.196725  6.542258\n",
       "1004_at   6.464342  5.381975  7.589464  7.884476  8.610287  8.008429  8.193772\n",
       "1005_at   8.413205  9.500045  7.931328 10.512444  8.287251  6.414474  7.633722\n",
       "          GSM79075  GSM79076  GSM79077  ... GSM79104  GSM79105  GSM79106 \n",
       "1000_at   10.693922 10.645478 10.641600 ... 10.369815 10.544482 10.257034\n",
       "1001_at    7.142618  7.179909  5.364572 ...  6.963474  4.727920  7.075747\n",
       "1002_f_at  7.422065  5.569856  5.274262 ...  6.083213  5.259272  5.061776\n",
       "1003_s_at  7.976707  7.815704  7.086402 ...  7.152792  8.346957  6.797013\n",
       "1004_at    8.747857  6.274262  8.223519 ...  7.938991  7.695576  7.610287\n",
       "1005_at    5.974988  8.138016  8.832574 ...  9.782507  9.184875  8.653562\n",
       "          GSM79107  GSM79108 GSM79109  GSM79110  GSM79111  GSM79112  GSM79113 \n",
       "1000_at   10.182891 9.819540 10.819061 10.748361 10.456662 10.873752 10.852686\n",
       "1001_at    6.493455 6.076816  7.624247  8.080551  6.400879  7.778077  8.193279\n",
       "1002_f_at  3.944858 5.504620  6.332708  6.752213  5.392317  4.827819  5.560715\n",
       "1003_s_at  7.115824 5.958843  8.561097  8.436712  8.085340  7.257388  8.043301\n",
       "1004_at    7.948367 7.074677  7.995485  9.374822  8.759222  9.023200  8.663202\n",
       "1005_at    8.108524 8.036723  8.312883  9.395534  9.086667  8.839519  9.802193"
      ]
     },
     "metadata": {},
     "output_type": "display_data"
    }
   ],
   "source": [
    "# 그러나 문제가 있습니다.\n",
    "# 이렇게 만든 eset의 index는 각 affymetrix array의 probe명으로 지정되어 있습니다.\n",
    "# 데이터를 확인해봅시다. head()는 데이터의 첫 row 5개를 보여줍니다.\n",
    "head(eset)"
   ]
  },
  {
   "cell_type": "code",
   "execution_count": 7,
   "metadata": {},
   "outputs": [
    {
     "data": {
      "text/html": [
       "<ol class=list-inline>\n",
       "\t<li>'ID'</li>\n",
       "\t<li>'GB_ACC'</li>\n",
       "\t<li>'SPOT_ID'</li>\n",
       "\t<li>'Species Scientific Name'</li>\n",
       "\t<li>'Annotation Date'</li>\n",
       "\t<li>'Sequence Type'</li>\n",
       "\t<li>'Sequence Source'</li>\n",
       "\t<li>'Target Description'</li>\n",
       "\t<li>'Representative Public ID'</li>\n",
       "\t<li>'Gene Title'</li>\n",
       "\t<li>'Gene Symbol'</li>\n",
       "\t<li>'ENTREZ_GENE_ID'</li>\n",
       "\t<li>'RefSeq Transcript ID'</li>\n",
       "\t<li>'Gene Ontology Biological Process'</li>\n",
       "\t<li>'Gene Ontology Cellular Component'</li>\n",
       "\t<li>'Gene Ontology Molecular Function'</li>\n",
       "</ol>\n"
      ],
      "text/latex": [
       "\\begin{enumerate*}\n",
       "\\item 'ID'\n",
       "\\item 'GB\\_ACC'\n",
       "\\item 'SPOT\\_ID'\n",
       "\\item 'Species Scientific Name'\n",
       "\\item 'Annotation Date'\n",
       "\\item 'Sequence Type'\n",
       "\\item 'Sequence Source'\n",
       "\\item 'Target Description'\n",
       "\\item 'Representative Public ID'\n",
       "\\item 'Gene Title'\n",
       "\\item 'Gene Symbol'\n",
       "\\item 'ENTREZ\\_GENE\\_ID'\n",
       "\\item 'RefSeq Transcript ID'\n",
       "\\item 'Gene Ontology Biological Process'\n",
       "\\item 'Gene Ontology Cellular Component'\n",
       "\\item 'Gene Ontology Molecular Function'\n",
       "\\end{enumerate*}\n"
      ],
      "text/markdown": [
       "1. 'ID'\n",
       "2. 'GB_ACC'\n",
       "3. 'SPOT_ID'\n",
       "4. 'Species Scientific Name'\n",
       "5. 'Annotation Date'\n",
       "6. 'Sequence Type'\n",
       "7. 'Sequence Source'\n",
       "8. 'Target Description'\n",
       "9. 'Representative Public ID'\n",
       "10. 'Gene Title'\n",
       "11. 'Gene Symbol'\n",
       "12. 'ENTREZ_GENE_ID'\n",
       "13. 'RefSeq Transcript ID'\n",
       "14. 'Gene Ontology Biological Process'\n",
       "15. 'Gene Ontology Cellular Component'\n",
       "16. 'Gene Ontology Molecular Function'\n",
       "\n",
       "\n"
      ],
      "text/plain": [
       " [1] \"ID\"                               \"GB_ACC\"                          \n",
       " [3] \"SPOT_ID\"                          \"Species Scientific Name\"         \n",
       " [5] \"Annotation Date\"                  \"Sequence Type\"                   \n",
       " [7] \"Sequence Source\"                  \"Target Description\"              \n",
       " [9] \"Representative Public ID\"         \"Gene Title\"                      \n",
       "[11] \"Gene Symbol\"                      \"ENTREZ_GENE_ID\"                  \n",
       "[13] \"RefSeq Transcript ID\"             \"Gene Ontology Biological Process\"\n",
       "[15] \"Gene Ontology Cellular Component\" \"Gene Ontology Molecular Function\""
      ]
     },
     "metadata": {},
     "output_type": "display_data"
    }
   ],
   "source": [
    "# 이대로는 각 probe가 어떤 유전자인지 모르니, Gene symbol로 바꾸어 줍시다.\n",
    "# fData()는 feature data를 보여주는 명령어입니다. 내용을 확인해 봅시다.\n",
    "fset <- fData(gse1)\n",
    "colnames(fset)"
   ]
  },
  {
   "cell_type": "code",
   "execution_count": 8,
   "metadata": {},
   "outputs": [
    {
     "data": {
      "text/html": [
       "<ol class=list-inline>\n",
       "\t<li>'MAPK3'</li>\n",
       "\t<li>'TIE1'</li>\n",
       "\t<li>'CYP2C19'</li>\n",
       "\t<li>'CXCR5'</li>\n",
       "\t<li>'CXCR5'</li>\n",
       "\t<li>'DUSP1'</li>\n",
       "</ol>\n"
      ],
      "text/latex": [
       "\\begin{enumerate*}\n",
       "\\item 'MAPK3'\n",
       "\\item 'TIE1'\n",
       "\\item 'CYP2C19'\n",
       "\\item 'CXCR5'\n",
       "\\item 'CXCR5'\n",
       "\\item 'DUSP1'\n",
       "\\end{enumerate*}\n"
      ],
      "text/markdown": [
       "1. 'MAPK3'\n",
       "2. 'TIE1'\n",
       "3. 'CYP2C19'\n",
       "4. 'CXCR5'\n",
       "5. 'CXCR5'\n",
       "6. 'DUSP1'\n",
       "\n",
       "\n"
      ],
      "text/plain": [
       "[1] \"MAPK3\"   \"TIE1\"    \"CYP2C19\" \"CXCR5\"   \"CXCR5\"   \"DUSP1\"  "
      ]
     },
     "metadata": {},
     "output_type": "display_data"
    }
   ],
   "source": [
    "# Gene Symbol이라는 column이 있는 것을 확인할 수 있습니다. 내용을 확인해 봅시다.\n",
    "head(fset$'Gene Symbol')\n",
    "# 각 probe별 유전자가 적혀 있습니다. 이 순서는 expression data의 index와 같습니다."
   ]
  },
  {
   "cell_type": "code",
   "execution_count": 9,
   "metadata": {},
   "outputs": [
    {
     "data": {
      "text/html": [
       "<table>\n",
       "<thead><tr><th></th><th scope=col>GSM79068</th><th scope=col>GSM79069</th><th scope=col>GSM79070</th><th scope=col>GSM79071</th><th scope=col>GSM79072</th><th scope=col>GSM79073</th><th scope=col>GSM79074</th><th scope=col>GSM79075</th><th scope=col>GSM79076</th><th scope=col>GSM79077</th><th scope=col>...</th><th scope=col>GSM79104</th><th scope=col>GSM79105</th><th scope=col>GSM79106</th><th scope=col>GSM79107</th><th scope=col>GSM79108</th><th scope=col>GSM79109</th><th scope=col>GSM79110</th><th scope=col>GSM79111</th><th scope=col>GSM79112</th><th scope=col>GSM79113</th></tr></thead>\n",
       "<tbody>\n",
       "\t<tr><th scope=row>MAPK3</th><td>9.612500 </td><td>10.216503</td><td>10.505117</td><td> 9.788392</td><td>10.634993</td><td>10.538868</td><td>10.435358</td><td>10.693922</td><td>10.645478</td><td>10.641600</td><td>...      </td><td>10.369815</td><td>10.544482</td><td>10.257034</td><td>10.182891</td><td>9.819540 </td><td>10.819061</td><td>10.748361</td><td>10.456662</td><td>10.873752</td><td>10.852686</td></tr>\n",
       "\t<tr><th scope=row>TIE1</th><td>5.620586 </td><td> 6.578939</td><td> 6.671010</td><td> 5.575917</td><td> 8.211402</td><td> 6.886306</td><td> 7.108524</td><td> 7.142618</td><td> 7.179909</td><td> 5.364572</td><td>...      </td><td> 6.963474</td><td> 4.727920</td><td> 7.075747</td><td> 6.493455</td><td>6.076816 </td><td> 7.624247</td><td> 8.080551</td><td> 6.400879</td><td> 7.778077</td><td> 8.193279</td></tr>\n",
       "\t<tr><th scope=row>CYP2C19</th><td>3.925999 </td><td> 4.095924</td><td> 5.325530</td><td> 5.623516</td><td> 6.491853</td><td> 5.768184</td><td> 6.626439</td><td> 7.422065</td><td> 5.569856</td><td> 5.274262</td><td>...      </td><td> 6.083213</td><td> 5.259272</td><td> 5.061776</td><td> 3.944858</td><td>5.504620 </td><td> 6.332708</td><td> 6.752213</td><td> 5.392317</td><td> 4.827819</td><td> 5.560715</td></tr>\n",
       "\t<tr><th scope=row>CXCR5</th><td>6.956521 </td><td> 6.723832</td><td> 7.938403</td><td> 7.517276</td><td> 8.561097</td><td> 7.196725</td><td> 6.542258</td><td> 7.976707</td><td> 7.815704</td><td> 7.086402</td><td>...      </td><td> 7.152792</td><td> 8.346957</td><td> 6.797013</td><td> 7.115824</td><td>5.958843 </td><td> 8.561097</td><td> 8.436712</td><td> 8.085340</td><td> 7.257388</td><td> 8.043301</td></tr>\n",
       "\t<tr><th scope=row>CXCR5</th><td>6.464342 </td><td> 5.381975</td><td> 7.589464</td><td> 7.884476</td><td> 8.610287</td><td> 8.008429</td><td> 8.193772</td><td> 8.747857</td><td> 6.274262</td><td> 8.223519</td><td>...      </td><td> 7.938991</td><td> 7.695576</td><td> 7.610287</td><td> 7.948367</td><td>7.074677 </td><td> 7.995485</td><td> 9.374822</td><td> 8.759222</td><td> 9.023200</td><td> 8.663202</td></tr>\n",
       "\t<tr><th scope=row>DUSP1</th><td>8.413205 </td><td> 9.500045</td><td> 7.931328</td><td>10.512444</td><td> 8.287251</td><td> 6.414474</td><td> 7.633722</td><td> 5.974988</td><td> 8.138016</td><td> 8.832574</td><td>...      </td><td> 9.782507</td><td> 9.184875</td><td> 8.653562</td><td> 8.108524</td><td>8.036723 </td><td> 8.312883</td><td> 9.395534</td><td> 9.086667</td><td> 8.839519</td><td> 9.802193</td></tr>\n",
       "</tbody>\n",
       "</table>\n"
      ],
      "text/latex": [
       "\\begin{tabular}{r|llllllllllllllllllllllllllllllllllllllllllllll}\n",
       "  & GSM79068 & GSM79069 & GSM79070 & GSM79071 & GSM79072 & GSM79073 & GSM79074 & GSM79075 & GSM79076 & GSM79077 & ... & GSM79104 & GSM79105 & GSM79106 & GSM79107 & GSM79108 & GSM79109 & GSM79110 & GSM79111 & GSM79112 & GSM79113\\\\\n",
       "\\hline\n",
       "\tMAPK3 & 9.612500  & 10.216503 & 10.505117 &  9.788392 & 10.634993 & 10.538868 & 10.435358 & 10.693922 & 10.645478 & 10.641600 & ...       & 10.369815 & 10.544482 & 10.257034 & 10.182891 & 9.819540  & 10.819061 & 10.748361 & 10.456662 & 10.873752 & 10.852686\\\\\n",
       "\tTIE1 & 5.620586  &  6.578939 &  6.671010 &  5.575917 &  8.211402 &  6.886306 &  7.108524 &  7.142618 &  7.179909 &  5.364572 & ...       &  6.963474 &  4.727920 &  7.075747 &  6.493455 & 6.076816  &  7.624247 &  8.080551 &  6.400879 &  7.778077 &  8.193279\\\\\n",
       "\tCYP2C19 & 3.925999  &  4.095924 &  5.325530 &  5.623516 &  6.491853 &  5.768184 &  6.626439 &  7.422065 &  5.569856 &  5.274262 & ...       &  6.083213 &  5.259272 &  5.061776 &  3.944858 & 5.504620  &  6.332708 &  6.752213 &  5.392317 &  4.827819 &  5.560715\\\\\n",
       "\tCXCR5 & 6.956521  &  6.723832 &  7.938403 &  7.517276 &  8.561097 &  7.196725 &  6.542258 &  7.976707 &  7.815704 &  7.086402 & ...       &  7.152792 &  8.346957 &  6.797013 &  7.115824 & 5.958843  &  8.561097 &  8.436712 &  8.085340 &  7.257388 &  8.043301\\\\\n",
       "\tCXCR5 & 6.464342  &  5.381975 &  7.589464 &  7.884476 &  8.610287 &  8.008429 &  8.193772 &  8.747857 &  6.274262 &  8.223519 & ...       &  7.938991 &  7.695576 &  7.610287 &  7.948367 & 7.074677  &  7.995485 &  9.374822 &  8.759222 &  9.023200 &  8.663202\\\\\n",
       "\tDUSP1 & 8.413205  &  9.500045 &  7.931328 & 10.512444 &  8.287251 &  6.414474 &  7.633722 &  5.974988 &  8.138016 &  8.832574 & ...       &  9.782507 &  9.184875 &  8.653562 &  8.108524 & 8.036723  &  8.312883 &  9.395534 &  9.086667 &  8.839519 &  9.802193\\\\\n",
       "\\end{tabular}\n"
      ],
      "text/markdown": [
       "\n",
       "| <!--/--> | GSM79068 | GSM79069 | GSM79070 | GSM79071 | GSM79072 | GSM79073 | GSM79074 | GSM79075 | GSM79076 | GSM79077 | ... | GSM79104 | GSM79105 | GSM79106 | GSM79107 | GSM79108 | GSM79109 | GSM79110 | GSM79111 | GSM79112 | GSM79113 | \n",
       "|---|---|---|---|---|---|\n",
       "| MAPK3 | 9.612500  | 10.216503 | 10.505117 |  9.788392 | 10.634993 | 10.538868 | 10.435358 | 10.693922 | 10.645478 | 10.641600 | ...       | 10.369815 | 10.544482 | 10.257034 | 10.182891 | 9.819540  | 10.819061 | 10.748361 | 10.456662 | 10.873752 | 10.852686 | \n",
       "| TIE1 | 5.620586  |  6.578939 |  6.671010 |  5.575917 |  8.211402 |  6.886306 |  7.108524 |  7.142618 |  7.179909 |  5.364572 | ...       |  6.963474 |  4.727920 |  7.075747 |  6.493455 | 6.076816  |  7.624247 |  8.080551 |  6.400879 |  7.778077 |  8.193279 | \n",
       "| CYP2C19 | 3.925999  |  4.095924 |  5.325530 |  5.623516 |  6.491853 |  5.768184 |  6.626439 |  7.422065 |  5.569856 |  5.274262 | ...       |  6.083213 |  5.259272 |  5.061776 |  3.944858 | 5.504620  |  6.332708 |  6.752213 |  5.392317 |  4.827819 |  5.560715 | \n",
       "| CXCR5 | 6.956521  |  6.723832 |  7.938403 |  7.517276 |  8.561097 |  7.196725 |  6.542258 |  7.976707 |  7.815704 |  7.086402 | ...       |  7.152792 |  8.346957 |  6.797013 |  7.115824 | 5.958843  |  8.561097 |  8.436712 |  8.085340 |  7.257388 |  8.043301 | \n",
       "| CXCR5 | 6.464342  |  5.381975 |  7.589464 |  7.884476 |  8.610287 |  8.008429 |  8.193772 |  8.747857 |  6.274262 |  8.223519 | ...       |  7.938991 |  7.695576 |  7.610287 |  7.948367 | 7.074677  |  7.995485 |  9.374822 |  8.759222 |  9.023200 |  8.663202 | \n",
       "| DUSP1 | 8.413205  |  9.500045 |  7.931328 | 10.512444 |  8.287251 |  6.414474 |  7.633722 |  5.974988 |  8.138016 |  8.832574 | ...       |  9.782507 |  9.184875 |  8.653562 |  8.108524 | 8.036723  |  8.312883 |  9.395534 |  9.086667 |  8.839519 |  9.802193 | \n",
       "\n",
       "\n"
      ],
      "text/plain": [
       "        GSM79068 GSM79069  GSM79070  GSM79071  GSM79072  GSM79073  GSM79074 \n",
       "MAPK3   9.612500 10.216503 10.505117  9.788392 10.634993 10.538868 10.435358\n",
       "TIE1    5.620586  6.578939  6.671010  5.575917  8.211402  6.886306  7.108524\n",
       "CYP2C19 3.925999  4.095924  5.325530  5.623516  6.491853  5.768184  6.626439\n",
       "CXCR5   6.956521  6.723832  7.938403  7.517276  8.561097  7.196725  6.542258\n",
       "CXCR5   6.464342  5.381975  7.589464  7.884476  8.610287  8.008429  8.193772\n",
       "DUSP1   8.413205  9.500045  7.931328 10.512444  8.287251  6.414474  7.633722\n",
       "        GSM79075  GSM79076  GSM79077  ... GSM79104  GSM79105  GSM79106 \n",
       "MAPK3   10.693922 10.645478 10.641600 ... 10.369815 10.544482 10.257034\n",
       "TIE1     7.142618  7.179909  5.364572 ...  6.963474  4.727920  7.075747\n",
       "CYP2C19  7.422065  5.569856  5.274262 ...  6.083213  5.259272  5.061776\n",
       "CXCR5    7.976707  7.815704  7.086402 ...  7.152792  8.346957  6.797013\n",
       "CXCR5    8.747857  6.274262  8.223519 ...  7.938991  7.695576  7.610287\n",
       "DUSP1    5.974988  8.138016  8.832574 ...  9.782507  9.184875  8.653562\n",
       "        GSM79107  GSM79108 GSM79109  GSM79110  GSM79111  GSM79112  GSM79113 \n",
       "MAPK3   10.182891 9.819540 10.819061 10.748361 10.456662 10.873752 10.852686\n",
       "TIE1     6.493455 6.076816  7.624247  8.080551  6.400879  7.778077  8.193279\n",
       "CYP2C19  3.944858 5.504620  6.332708  6.752213  5.392317  4.827819  5.560715\n",
       "CXCR5    7.115824 5.958843  8.561097  8.436712  8.085340  7.257388  8.043301\n",
       "CXCR5    7.948367 7.074677  7.995485  9.374822  8.759222  9.023200  8.663202\n",
       "DUSP1    8.108524 8.036723  8.312883  9.395534  9.086667  8.839519  9.802193"
      ]
     },
     "metadata": {},
     "output_type": "display_data"
    }
   ],
   "source": [
    "symbols <- fset[,\"Gene Symbol\"]   # 이후 해당 칼럼의 내부 데이터만을 symbols라는 변수로 지정해 주고,\n",
    "rownames(eset) <- symbols         # eset의 rownames를 symbols로 바꿔 줍니다.\n",
    "head(eset)                        # index가 유전자명으로 잘 바뀐 것을 확인할 수 있습니다."
   ]
  },
  {
   "cell_type": "code",
   "execution_count": 10,
   "metadata": {},
   "outputs": [
    {
     "data": {
      "text/html": [
       "<ol class=list-inline>\n",
       "\t<li>training-responder</li>\n",
       "\t<li>training-responder</li>\n",
       "\t<li>training-responder</li>\n",
       "\t<li>training-responder</li>\n",
       "\t<li>training-responder</li>\n",
       "\t<li>test-responder</li>\n",
       "</ol>\n",
       "\n",
       "<details>\n",
       "\t<summary style=display:list-item;cursor:pointer>\n",
       "\t\t<strong>Levels</strong>:\n",
       "\t</summary>\n",
       "\t<ol class=list-inline>\n",
       "\t\t<li>'test-non-responder'</li>\n",
       "\t\t<li>'test-responder'</li>\n",
       "\t\t<li>'training-non-responder'</li>\n",
       "\t\t<li>'training-responder'</li>\n",
       "\t</ol>\n",
       "</details>"
      ],
      "text/latex": [
       "\\begin{enumerate*}\n",
       "\\item training-responder\n",
       "\\item training-responder\n",
       "\\item training-responder\n",
       "\\item training-responder\n",
       "\\item training-responder\n",
       "\\item test-responder\n",
       "\\end{enumerate*}\n",
       "\n",
       "\\emph{Levels}: \\begin{enumerate*}\n",
       "\\item 'test-non-responder'\n",
       "\\item 'test-responder'\n",
       "\\item 'training-non-responder'\n",
       "\\item 'training-responder'\n",
       "\\end{enumerate*}\n"
      ],
      "text/markdown": [
       "1. training-responder\n",
       "2. training-responder\n",
       "3. training-responder\n",
       "4. training-responder\n",
       "5. training-responder\n",
       "6. test-responder\n",
       "\n",
       "\n",
       "\n",
       "**Levels**: 1. 'test-non-responder'\n",
       "2. 'test-responder'\n",
       "3. 'training-non-responder'\n",
       "4. 'training-responder'\n",
       "\n",
       "\n"
      ],
      "text/plain": [
       "[1] training-responder training-responder training-responder training-responder\n",
       "[5] training-responder test-responder    \n",
       "4 Levels: test-non-responder test-responder ... training-responder"
      ]
     },
     "metadata": {},
     "output_type": "display_data"
    }
   ],
   "source": [
    "# 이제 반응군/비반응군을 구분짓기 위해, '디자인 매트릭스' 라는 것을 만들어 줍니다.\n",
    "# 이는 limma에서 각 군을 나누는 기준을 인식하기 위한 표준으로써 필요한 과정입니다.\n",
    "# 우선 pset에서 반응군/비반응군이 적힌 'description'이라는 칼럼을 확인해 보겠습니다.\n",
    "head(pset$'description')"
   ]
  },
  {
   "cell_type": "code",
   "execution_count": 11,
   "metadata": {},
   "outputs": [],
   "source": [
    "# 여기에는 총 4개의 factor가 있습니다. 각각 training/test, responder/non-responder입니다.\n",
    "# 저희는 training과 test를 구분지을 필요는 없으니, non-responder와 responder만 구분짓겠습니다.\n",
    "# 우선 빈 46개의 리스트를 만들어 줍니다.\n",
    "\n",
    "response <- rep(1:46)\n",
    "\n",
    "# 그리고 grep이라는 명령어를 사용해, 'non'이라는 문자를 포함했는지 여부에 따라\n",
    "# 'non-res', 'res'라는 표지를 하여 해당 리스트에 순서에 맞춰 지정해 줍니다.\n",
    "# 이 리스트를 pset의 description에 새로 지정해 줍니다.\n",
    "\n",
    "response <- replace(response,grep('non',pset[['description']]),'non-res')\n",
    "response <- replace(response,c(1:46)[-grep('non',pset[['description']])],'res')\n",
    "pset$description <- response"
   ]
  },
  {
   "cell_type": "code",
   "execution_count": 12,
   "metadata": {},
   "outputs": [
    {
     "data": {
      "text/html": [
       "<ol class=list-inline>\n",
       "\t<li>12625</li>\n",
       "\t<li>46</li>\n",
       "</ol>\n"
      ],
      "text/latex": [
       "\\begin{enumerate*}\n",
       "\\item 12625\n",
       "\\item 46\n",
       "\\end{enumerate*}\n"
      ],
      "text/markdown": [
       "1. 12625\n",
       "2. 46\n",
       "\n",
       "\n"
      ],
      "text/plain": [
       "[1] 12625    46"
      ]
     },
     "metadata": {},
     "output_type": "display_data"
    },
    {
     "data": {
      "text/html": [
       "<ol class=list-inline>\n",
       "\t<li>46</li>\n",
       "\t<li>32</li>\n",
       "</ol>\n"
      ],
      "text/latex": [
       "\\begin{enumerate*}\n",
       "\\item 46\n",
       "\\item 32\n",
       "\\end{enumerate*}\n"
      ],
      "text/markdown": [
       "1. 46\n",
       "2. 32\n",
       "\n",
       "\n"
      ],
      "text/plain": [
       "[1] 46 32"
      ]
     },
     "metadata": {},
     "output_type": "display_data"
    }
   ],
   "source": [
    "# 이제 디자인 매트릭스를 만들 차례입니다.\n",
    "# eset의 샘플 수와 우리가 만든 pset의 description의 수가 같아야 하므로,\n",
    "# eset의 column count와 pset의 row count가 같은지 확인해 봅니다.\n",
    "# dim()은 matrix의 각 행,열의 길이를 알려 주는 명령어입니다.\n",
    "dim(eset)\n",
    "dim(pset)"
   ]
  },
  {
   "cell_type": "code",
   "execution_count": 13,
   "metadata": {},
   "outputs": [
    {
     "data": {
      "text/html": [
       "<table>\n",
       "<thead><tr><th></th><th scope=col>pset$descriptionnon-res</th><th scope=col>pset$descriptionres</th></tr></thead>\n",
       "<tbody>\n",
       "\t<tr><th scope=row>1</th><td>0</td><td>1</td></tr>\n",
       "\t<tr><th scope=row>2</th><td>0</td><td>1</td></tr>\n",
       "\t<tr><th scope=row>3</th><td>0</td><td>1</td></tr>\n",
       "\t<tr><th scope=row>4</th><td>0</td><td>1</td></tr>\n",
       "\t<tr><th scope=row>5</th><td>0</td><td>1</td></tr>\n",
       "\t<tr><th scope=row>6</th><td>0</td><td>1</td></tr>\n",
       "</tbody>\n",
       "</table>\n"
      ],
      "text/latex": [
       "\\begin{tabular}{r|ll}\n",
       "  & pset\\$descriptionnon-res & pset\\$descriptionres\\\\\n",
       "\\hline\n",
       "\t1 & 0 & 1\\\\\n",
       "\t2 & 0 & 1\\\\\n",
       "\t3 & 0 & 1\\\\\n",
       "\t4 & 0 & 1\\\\\n",
       "\t5 & 0 & 1\\\\\n",
       "\t6 & 0 & 1\\\\\n",
       "\\end{tabular}\n"
      ],
      "text/markdown": [
       "\n",
       "| <!--/--> | pset$descriptionnon-res | pset$descriptionres | \n",
       "|---|---|---|---|---|---|\n",
       "| 1 | 0 | 1 | \n",
       "| 2 | 0 | 1 | \n",
       "| 3 | 0 | 1 | \n",
       "| 4 | 0 | 1 | \n",
       "| 5 | 0 | 1 | \n",
       "| 6 | 0 | 1 | \n",
       "\n",
       "\n"
      ],
      "text/plain": [
       "  pset$descriptionnon-res pset$descriptionres\n",
       "1 0                       1                  \n",
       "2 0                       1                  \n",
       "3 0                       1                  \n",
       "4 0                       1                  \n",
       "5 0                       1                  \n",
       "6 0                       1                  "
      ]
     },
     "metadata": {},
     "output_type": "display_data"
    }
   ],
   "source": [
    "# model.matrix는 디자인 매트릭스를 만드는 명령어입니다.\n",
    "# 앞서 새로 지정한 pset의 description 데이터를 통해 디자인 매트릭스를 작성합니다.\n",
    "design <- model.matrix(~0+pset$description)\n",
    "head(design)"
   ]
  },
  {
   "cell_type": "code",
   "execution_count": 14,
   "metadata": {},
   "outputs": [
    {
     "data": {
      "text/html": [
       "<table>\n",
       "<thead><tr><th></th><th scope=col>non_res</th><th scope=col>res</th></tr></thead>\n",
       "<tbody>\n",
       "\t<tr><th scope=row>1</th><td>0</td><td>1</td></tr>\n",
       "\t<tr><th scope=row>2</th><td>0</td><td>1</td></tr>\n",
       "\t<tr><th scope=row>3</th><td>0</td><td>1</td></tr>\n",
       "\t<tr><th scope=row>4</th><td>0</td><td>1</td></tr>\n",
       "\t<tr><th scope=row>5</th><td>0</td><td>1</td></tr>\n",
       "\t<tr><th scope=row>6</th><td>0</td><td>1</td></tr>\n",
       "</tbody>\n",
       "</table>\n"
      ],
      "text/latex": [
       "\\begin{tabular}{r|ll}\n",
       "  & non\\_res & res\\\\\n",
       "\\hline\n",
       "\t1 & 0 & 1\\\\\n",
       "\t2 & 0 & 1\\\\\n",
       "\t3 & 0 & 1\\\\\n",
       "\t4 & 0 & 1\\\\\n",
       "\t5 & 0 & 1\\\\\n",
       "\t6 & 0 & 1\\\\\n",
       "\\end{tabular}\n"
      ],
      "text/markdown": [
       "\n",
       "| <!--/--> | non_res | res | \n",
       "|---|---|---|---|---|---|\n",
       "| 1 | 0 | 1 | \n",
       "| 2 | 0 | 1 | \n",
       "| 3 | 0 | 1 | \n",
       "| 4 | 0 | 1 | \n",
       "| 5 | 0 | 1 | \n",
       "| 6 | 0 | 1 | \n",
       "\n",
       "\n"
      ],
      "text/plain": [
       "  non_res res\n",
       "1 0       1  \n",
       "2 0       1  \n",
       "3 0       1  \n",
       "4 0       1  \n",
       "5 0       1  \n",
       "6 0       1  "
      ]
     },
     "metadata": {},
     "output_type": "display_data"
    }
   ],
   "source": [
    "# 칼럼명이 지저분하니, 알아보기 쉽게 지정해 줍시다.\n",
    "colnames(design) <- c('non_res','res')\n",
    "head(design)"
   ]
  },
  {
   "cell_type": "code",
   "execution_count": 15,
   "metadata": {},
   "outputs": [
    {
     "data": {
      "text/html": [
       "<table>\n",
       "<thead><tr><th></th><th scope=col>ID</th><th scope=col>logFC</th><th scope=col>AveExpr</th><th scope=col>t</th><th scope=col>P.Value</th><th scope=col>adj.P.Val</th><th scope=col>B</th></tr></thead>\n",
       "<tbody>\n",
       "\t<tr><th scope=row>4106</th><td>SSX1               </td><td>-0.8444656         </td><td>6.499623           </td><td>-4.481892          </td><td>4.513502e-05       </td><td>0.2929913          </td><td>-3.441906          </td></tr>\n",
       "\t<tr><th scope=row>3028</th><td>HAVCR1             </td><td> 1.6524184         </td><td>3.895036           </td><td> 4.473445          </td><td>4.641446e-05       </td><td>0.2929913          </td><td>-3.445310          </td></tr>\n",
       "\t<tr><th scope=row>5930</th><td>PAFAH2             </td><td>-0.7030902         </td><td>6.910766           </td><td>-3.654879          </td><td>6.311869e-04       </td><td>0.9995301          </td><td>-3.775036          </td></tr>\n",
       "\t<tr><th scope=row>3215</th><td>WHAMMP2 /// WHAMMP3</td><td>-1.3404127         </td><td>5.931969           </td><td>-3.509801          </td><td>9.785414e-04       </td><td>0.9995301          </td><td>-3.832606          </td></tr>\n",
       "\t<tr><th scope=row>3639</th><td>NKX2-2             </td><td> 0.8137630         </td><td>4.853347           </td><td> 3.327915          </td><td>1.675017e-03       </td><td>0.9995301          </td><td>-3.903942          </td></tr>\n",
       "\t<tr><th scope=row>8632</th><td>L1CAM              </td><td> 0.9431848         </td><td>6.066182           </td><td> 3.303597          </td><td>1.797884e-03       </td><td>0.9995301          </td><td>-3.913395          </td></tr>\n",
       "</tbody>\n",
       "</table>\n"
      ],
      "text/latex": [
       "\\begin{tabular}{r|lllllll}\n",
       "  & ID & logFC & AveExpr & t & P.Value & adj.P.Val & B\\\\\n",
       "\\hline\n",
       "\t4106 & SSX1                & -0.8444656          & 6.499623            & -4.481892           & 4.513502e-05        & 0.2929913           & -3.441906          \\\\\n",
       "\t3028 & HAVCR1              &  1.6524184          & 3.895036            &  4.473445           & 4.641446e-05        & 0.2929913           & -3.445310          \\\\\n",
       "\t5930 & PAFAH2              & -0.7030902          & 6.910766            & -3.654879           & 6.311869e-04        & 0.9995301           & -3.775036          \\\\\n",
       "\t3215 & WHAMMP2 /// WHAMMP3 & -1.3404127          & 5.931969            & -3.509801           & 9.785414e-04        & 0.9995301           & -3.832606          \\\\\n",
       "\t3639 & NKX2-2              &  0.8137630          & 4.853347            &  3.327915           & 1.675017e-03        & 0.9995301           & -3.903942          \\\\\n",
       "\t8632 & L1CAM               &  0.9431848          & 6.066182            &  3.303597           & 1.797884e-03        & 0.9995301           & -3.913395          \\\\\n",
       "\\end{tabular}\n"
      ],
      "text/markdown": [
       "\n",
       "| <!--/--> | ID | logFC | AveExpr | t | P.Value | adj.P.Val | B | \n",
       "|---|---|---|---|---|---|\n",
       "| 4106 | SSX1                | -0.8444656          | 6.499623            | -4.481892           | 4.513502e-05        | 0.2929913           | -3.441906           | \n",
       "| 3028 | HAVCR1              |  1.6524184          | 3.895036            |  4.473445           | 4.641446e-05        | 0.2929913           | -3.445310           | \n",
       "| 5930 | PAFAH2              | -0.7030902          | 6.910766            | -3.654879           | 6.311869e-04        | 0.9995301           | -3.775036           | \n",
       "| 3215 | WHAMMP2 /// WHAMMP3 | -1.3404127          | 5.931969            | -3.509801           | 9.785414e-04        | 0.9995301           | -3.832606           | \n",
       "| 3639 | NKX2-2              |  0.8137630          | 4.853347            |  3.327915           | 1.675017e-03        | 0.9995301           | -3.903942           | \n",
       "| 8632 | L1CAM               |  0.9431848          | 6.066182            |  3.303597           | 1.797884e-03        | 0.9995301           | -3.913395           | \n",
       "\n",
       "\n"
      ],
      "text/plain": [
       "     ID                  logFC      AveExpr  t         P.Value      adj.P.Val\n",
       "4106 SSX1                -0.8444656 6.499623 -4.481892 4.513502e-05 0.2929913\n",
       "3028 HAVCR1               1.6524184 3.895036  4.473445 4.641446e-05 0.2929913\n",
       "5930 PAFAH2              -0.7030902 6.910766 -3.654879 6.311869e-04 0.9995301\n",
       "3215 WHAMMP2 /// WHAMMP3 -1.3404127 5.931969 -3.509801 9.785414e-04 0.9995301\n",
       "3639 NKX2-2               0.8137630 4.853347  3.327915 1.675017e-03 0.9995301\n",
       "8632 L1CAM                0.9431848 6.066182  3.303597 1.797884e-03 0.9995301\n",
       "     B        \n",
       "4106 -3.441906\n",
       "3028 -3.445310\n",
       "5930 -3.775036\n",
       "3215 -3.832606\n",
       "3639 -3.903942\n",
       "8632 -3.913395"
      ]
     },
     "metadata": {},
     "output_type": "display_data"
    }
   ],
   "source": [
    "# 이제 본격적인 DEG 분석의 시작입니다. 매우 간단합니다.\n",
    "# 우선 eset과 아까 만들었던 디자인 매트릭스로 linear model fit을 만들어 줍니다.\n",
    "fit = lmFit(eset,design)\n",
    "\n",
    "# 이후 makeContrasts() 명령어로 어떤 집단이 대조군인지 설정해 줍니다.\n",
    "# diff=(2그룹)-(1그룹)으로 설정하면, 1그룹에 대한 2그룹의 차이를 나타내 줍니다.\n",
    "# 즉 2그룹이 1그룹보다 2배 발현량이 높다면 결과값으로 logFC = 1 을 출력하고,\n",
    "# 0.5배로 낮다면 logFC = -1 을 출력하겠죠?\n",
    "# control 그룹을 1그룹으로 두는 것을 추천합니다.\n",
    "cont <- makeContrasts(diff=res-non_res,levels=design)\n",
    "\n",
    "# contrasts.fit() 명령어로 linear model fit과 contrasts matrix를 넣어 분석합니다.\n",
    "# 이 명령어는 상관계수와 표준오차를 계산해 줍니다.\n",
    "fit.cont <- contrasts.fit(fit,cont)\n",
    "\n",
    "# 이후 Bayes statistics를 이용해 DEG 분석을 시행합니다.\n",
    "fit.cont <- eBayes(fit.cont)\n",
    "\n",
    "# topTable이라는 명령어를 이용해 알기 쉬운 table 형식의 데이터로 결과를 정리합니다.\n",
    "res <- topTable(fit.cont,number=Inf)\n",
    "\n",
    "# 결과를 확인하고, 원하는 파일명으로 저장해 줍니다.\n",
    "head(res)\n",
    "write.table(res,file='GSE3493_DEG.txt',sep='\\t',quote = FALSE,row.names = FALSE)"
   ]
  },
  {
   "cell_type": "code",
   "execution_count": null,
   "metadata": {},
   "outputs": [],
   "source": []
  }
 ],
 "metadata": {
  "kernelspec": {
   "display_name": "R",
   "language": "R",
   "name": "ir"
  },
  "language_info": {
   "codemirror_mode": "r",
   "file_extension": ".r",
   "mimetype": "text/x-r-source",
   "name": "R",
   "pygments_lexer": "r",
   "version": "3.5.1"
  }
 },
 "nbformat": 4,
 "nbformat_minor": 2
}
