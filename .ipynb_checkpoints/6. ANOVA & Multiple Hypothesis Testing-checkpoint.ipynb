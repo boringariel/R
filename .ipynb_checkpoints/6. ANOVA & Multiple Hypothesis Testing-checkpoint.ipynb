{
 "cells": [
  {
   "cell_type": "markdown",
   "metadata": {},
   "source": [
    "## ANOVA & Multiple Hypothesis Testing\n",
    "---\n",
    "#### - Binary data: comparing multiple proportions\n",
    "#### - Categorical data: comparing multiple sets of categorical\n",
    "#### - continuous data: comparing multiple means\n",
    "* ANOVA\n",
    "\n",
    "---\n",
    "\n",
    "### ANOVA\n",
    "* One-way ANOVA\n",
    "> ex) smoking status\n",
    "* Two-way ANOVA\n",
    "> ex) gender and smoking status\n",
    "* Three-way ANOVA\n",
    "> ex) gender, smoking and beer consumption\n",
    "\n",
    "#### Hypothesis testing with ANOVA\n",
    "* is there truly a difference in means `across gropus`?\n",
    "\n",
    "| H0 | all of means are same |\n",
    "|----|-----------------------|\n",
    "| Ha | at least one of the means is different |\n",
    "\n",
    "---\n",
    "\n",
    "### Multiple Hypothesis testing\n",
    "* a = 0.05인 경우, 1회 수행시 5% 수준의 Type I error (False positive) 가 발생할 가능성이 있음\n",
    "* 단독시행 시에는 무시할 수 있는 값이지만, 여러 번 반복시행할 경우 이 확률은 비약적으로 늘어날 수 있음\n",
    "> ex) 10 000개의 유전자를 이용해 테스트할 경우, p-value = .05 인 경우 1500개 상당의 error가 발생할 가능성이 있음<br>\n",
    "> `따라서, Bonferroni correction, FDR, FWER 등을 이용해 보정할 필요가 있음`\n",
    "\n",
    "#### Bonferroni correction\n",
    "* A possible correction for multiple comparisons\n",
    "* Test each hypoyhesis at level a* = (a/n): 반복시행할 수만큼 p-value를 나눈 값으로 cutoff할 수 있음\n",
    "* Adjustment ensures overall Type I error rate does not exceed a = .05\n",
    "* But, too conservative\n",
    "\n",
    "#### FDR: q-value를 함께 고려함"
   ]
  },
  {
   "cell_type": "code",
   "execution_count": null,
   "metadata": {},
   "outputs": [],
   "source": []
  }
 ],
 "metadata": {
  "kernelspec": {
   "display_name": "R",
   "language": "R",
   "name": "ir"
  },
  "language_info": {
   "codemirror_mode": "r",
   "file_extension": ".r",
   "mimetype": "text/x-r-source",
   "name": "R",
   "pygments_lexer": "r",
   "version": "3.5.1"
  }
 },
 "nbformat": 4,
 "nbformat_minor": 2
}
