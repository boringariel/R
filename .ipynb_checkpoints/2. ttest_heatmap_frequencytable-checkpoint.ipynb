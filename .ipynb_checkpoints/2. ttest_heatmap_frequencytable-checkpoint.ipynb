{
 "cells": [
  {
   "cell_type": "markdown",
   "metadata": {},
   "source": [
    "### ttest"
   ]
  },
  {
   "cell_type": "code",
   "execution_count": 6,
   "metadata": {},
   "outputs": [],
   "source": [
    "library(\"MASS\")"
   ]
  },
  {
   "cell_type": "code",
   "execution_count": 7,
   "metadata": {},
   "outputs": [
    {
     "data": {
      "text/html": [
       "<table>\n",
       "<thead><tr><th></th><th scope=col>npreg</th><th scope=col>glu</th><th scope=col>bp</th><th scope=col>skin</th><th scope=col>bmi</th><th scope=col>ped</th><th scope=col>age</th><th scope=col>type</th></tr></thead>\n",
       "<tbody>\n",
       "\t<tr><th scope=row>1</th><td>5    </td><td> 86  </td><td>68   </td><td>28   </td><td>30.2 </td><td>0.364</td><td>24   </td><td>No   </td></tr>\n",
       "\t<tr><th scope=row>3</th><td>5    </td><td> 77  </td><td>82   </td><td>41   </td><td>35.8 </td><td>0.156</td><td>35   </td><td>No   </td></tr>\n",
       "\t<tr><th scope=row>4</th><td>0    </td><td>165  </td><td>76   </td><td>43   </td><td>47.9 </td><td>0.259</td><td>26   </td><td>No   </td></tr>\n",
       "\t<tr><th scope=row>5</th><td>0    </td><td>107  </td><td>60   </td><td>25   </td><td>26.4 </td><td>0.133</td><td>23   </td><td>No   </td></tr>\n",
       "\t<tr><th scope=row>7</th><td>3    </td><td> 83  </td><td>58   </td><td>31   </td><td>34.3 </td><td>0.336</td><td>25   </td><td>No   </td></tr>\n",
       "\t<tr><th scope=row>8</th><td>1    </td><td>193  </td><td>50   </td><td>16   </td><td>25.9 </td><td>0.655</td><td>24   </td><td>No   </td></tr>\n",
       "</tbody>\n",
       "</table>\n"
      ],
      "text/latex": [
       "\\begin{tabular}{r|llllllll}\n",
       "  & npreg & glu & bp & skin & bmi & ped & age & type\\\\\n",
       "\\hline\n",
       "\t1 & 5     &  86   & 68    & 28    & 30.2  & 0.364 & 24    & No   \\\\\n",
       "\t3 & 5     &  77   & 82    & 41    & 35.8  & 0.156 & 35    & No   \\\\\n",
       "\t4 & 0     & 165   & 76    & 43    & 47.9  & 0.259 & 26    & No   \\\\\n",
       "\t5 & 0     & 107   & 60    & 25    & 26.4  & 0.133 & 23    & No   \\\\\n",
       "\t7 & 3     &  83   & 58    & 31    & 34.3  & 0.336 & 25    & No   \\\\\n",
       "\t8 & 1     & 193   & 50    & 16    & 25.9  & 0.655 & 24    & No   \\\\\n",
       "\\end{tabular}\n"
      ],
      "text/markdown": [
       "\n",
       "| <!--/--> | npreg | glu | bp | skin | bmi | ped | age | type | \n",
       "|---|---|---|---|---|---|\n",
       "| 1 | 5     |  86   | 68    | 28    | 30.2  | 0.364 | 24    | No    | \n",
       "| 3 | 5     |  77   | 82    | 41    | 35.8  | 0.156 | 35    | No    | \n",
       "| 4 | 0     | 165   | 76    | 43    | 47.9  | 0.259 | 26    | No    | \n",
       "| 5 | 0     | 107   | 60    | 25    | 26.4  | 0.133 | 23    | No    | \n",
       "| 7 | 3     |  83   | 58    | 31    | 34.3  | 0.336 | 25    | No    | \n",
       "| 8 | 1     | 193   | 50    | 16    | 25.9  | 0.655 | 24    | No    | \n",
       "\n",
       "\n"
      ],
      "text/plain": [
       "  npreg glu bp skin bmi  ped   age type\n",
       "1 5      86 68 28   30.2 0.364 24  No  \n",
       "3 5      77 82 41   35.8 0.156 35  No  \n",
       "4 0     165 76 43   47.9 0.259 26  No  \n",
       "5 0     107 60 25   26.4 0.133 23  No  \n",
       "7 3      83 58 31   34.3 0.336 25  No  \n",
       "8 1     193 50 16   25.9 0.655 24  No  "
      ]
     },
     "metadata": {},
     "output_type": "display_data"
    }
   ],
   "source": [
    "head(Pima.tr[Pima.tr$type==\"No\",])"
   ]
  },
  {
   "cell_type": "code",
   "execution_count": 8,
   "metadata": {},
   "outputs": [
    {
     "data": {
      "text/plain": [
       "\n",
       "\tWelch Two Sample t-test\n",
       "\n",
       "data:  Pima.tr[Pima.tr$type == \"No\", 5] and Pima.tr[Pima.tr$type == \"Yes\", 5]\n",
       "t = -4.512, df = 171.46, p-value = 1.188e-05\n",
       "alternative hypothesis: true difference in means is not equal to 0\n",
       "95 percent confidence interval:\n",
       " -5.224615 -2.044547\n",
       "sample estimates:\n",
       "mean of x mean of y \n",
       " 31.07424  34.70882 \n"
      ]
     },
     "metadata": {},
     "output_type": "display_data"
    }
   ],
   "source": [
    "t.test(Pima.tr[Pima.tr$type==\"No\",5], Pima.tr[Pima.tr$type==\"Yes\",5])"
   ]
  },
  {
   "cell_type": "code",
   "execution_count": 10,
   "metadata": {},
   "outputs": [],
   "source": [
    "ttest_res = t.test(Pima.tr[Pima.tr$type==\"No\",5], Pima.tr[Pima.tr$type==\"Yes\",5])"
   ]
  },
  {
   "cell_type": "code",
   "execution_count": 11,
   "metadata": {},
   "outputs": [
    {
     "data": {
      "text/plain": [
       "\n",
       "\tWelch Two Sample t-test\n",
       "\n",
       "data:  Pima.tr[Pima.tr$type == \"No\", 5] and Pima.tr[Pima.tr$type == \"Yes\", 5]\n",
       "t = -4.512, df = 171.46, p-value = 1.188e-05\n",
       "alternative hypothesis: true difference in means is not equal to 0\n",
       "95 percent confidence interval:\n",
       " -5.224615 -2.044547\n",
       "sample estimates:\n",
       "mean of x mean of y \n",
       " 31.07424  34.70882 \n"
      ]
     },
     "metadata": {},
     "output_type": "display_data"
    }
   ],
   "source": [
    "ttest_res"
   ]
  },
  {
   "cell_type": "markdown",
   "metadata": {},
   "source": [
    "---\n",
    "### random gene expression data"
   ]
  },
  {
   "cell_type": "code",
   "execution_count": 13,
   "metadata": {},
   "outputs": [
    {
     "data": {
      "text/html": [
       "<table>\n",
       "<tbody>\n",
       "\t<tr><td>165</td><td>109</td><td> 42</td><td>67 </td></tr>\n",
       "\t<tr><td> 35</td><td>152</td><td>123</td><td>91 </td></tr>\n",
       "\t<tr><td>169</td><td>-19</td><td> 59</td><td>73 </td></tr>\n",
       "\t<tr><td>115</td><td> 21</td><td> 52</td><td>38 </td></tr>\n",
       "\t<tr><td> 69</td><td> 65</td><td>123</td><td>58 </td></tr>\n",
       "</tbody>\n",
       "</table>\n"
      ],
      "text/latex": [
       "\\begin{tabular}{llll}\n",
       "\t 165 & 109 &  42 & 67 \\\\\n",
       "\t  35 & 152 & 123 & 91 \\\\\n",
       "\t 169 & -19 &  59 & 73 \\\\\n",
       "\t 115 &  21 &  52 & 38 \\\\\n",
       "\t  69 &  65 & 123 & 58 \\\\\n",
       "\\end{tabular}\n"
      ],
      "text/markdown": [
       "\n",
       "| 165 | 109 |  42 | 67  | \n",
       "|  35 | 152 | 123 | 91  | \n",
       "| 169 | -19 |  59 | 73  | \n",
       "| 115 |  21 |  52 | 38  | \n",
       "|  69 |  65 | 123 | 58  | \n",
       "\n",
       "\n"
      ],
      "text/plain": [
       "     [,1] [,2] [,3] [,4]\n",
       "[1,] 165  109   42  67  \n",
       "[2,]  35  152  123  91  \n",
       "[3,] 169  -19   59  73  \n",
       "[4,] 115   21   52  38  \n",
       "[5,]  69   65  123  58  "
      ]
     },
     "metadata": {},
     "output_type": "display_data"
    }
   ],
   "source": [
    "#random matrix 만들기\n",
    "rand_matrix <- matrix(ceiling(rnorm(20, mean=100, sd=50)), nrow=5, ncol=4)\n",
    "rand_matrix"
   ]
  },
  {
   "cell_type": "code",
   "execution_count": 14,
   "metadata": {},
   "outputs": [
    {
     "data": {
      "text/html": [
       "<table>\n",
       "<thead><tr><th></th><th scope=col>Micheal</th><th scope=col>Paul</th><th scope=col>John</th><th scope=col>Smith</th></tr></thead>\n",
       "<tbody>\n",
       "\t<tr><th scope=row>Gene1</th><td>165</td><td>109</td><td> 42</td><td>67 </td></tr>\n",
       "\t<tr><th scope=row>Gene2</th><td> 35</td><td>152</td><td>123</td><td>91 </td></tr>\n",
       "\t<tr><th scope=row>Gene3</th><td>169</td><td>-19</td><td> 59</td><td>73 </td></tr>\n",
       "\t<tr><th scope=row>Gene4</th><td>115</td><td> 21</td><td> 52</td><td>38 </td></tr>\n",
       "\t<tr><th scope=row>Gene5</th><td> 69</td><td> 65</td><td>123</td><td>58 </td></tr>\n",
       "</tbody>\n",
       "</table>\n"
      ],
      "text/latex": [
       "\\begin{tabular}{r|llll}\n",
       "  & Micheal & Paul & John & Smith\\\\\n",
       "\\hline\n",
       "\tGene1 & 165 & 109 &  42 & 67 \\\\\n",
       "\tGene2 &  35 & 152 & 123 & 91 \\\\\n",
       "\tGene3 & 169 & -19 &  59 & 73 \\\\\n",
       "\tGene4 & 115 &  21 &  52 & 38 \\\\\n",
       "\tGene5 &  69 &  65 & 123 & 58 \\\\\n",
       "\\end{tabular}\n"
      ],
      "text/markdown": [
       "\n",
       "| <!--/--> | Micheal | Paul | John | Smith | \n",
       "|---|---|---|---|---|\n",
       "| Gene1 | 165 | 109 |  42 | 67  | \n",
       "| Gene2 |  35 | 152 | 123 | 91  | \n",
       "| Gene3 | 169 | -19 |  59 | 73  | \n",
       "| Gene4 | 115 |  21 |  52 | 38  | \n",
       "| Gene5 |  69 |  65 | 123 | 58  | \n",
       "\n",
       "\n"
      ],
      "text/plain": [
       "      Micheal Paul John Smith\n",
       "Gene1 165     109   42  67   \n",
       "Gene2  35     152  123  91   \n",
       "Gene3 169     -19   59  73   \n",
       "Gene4 115      21   52  38   \n",
       "Gene5  69      65  123  58   "
      ]
     },
     "metadata": {},
     "output_type": "display_data"
    }
   ],
   "source": [
    "rownames(rand_matrix) <- c(\"Gene1\", \"Gene2\", \"Gene3\", \"Gene4\", \"Gene5\")\n",
    "colnames(rand_matrix) <- c(\"Micheal\", \"Paul\", \"John\", \"Smith\")\n",
    "\n",
    "rand_matrix"
   ]
  },
  {
   "cell_type": "markdown",
   "metadata": {},
   "source": [
    "---\n",
    "#### heatmap"
   ]
  },
  {
   "cell_type": "code",
   "execution_count": 16,
   "metadata": {},
   "outputs": [
    {
     "data": {
      "image/png": "[encoded data removed]",
      "text/plain": [
       "plot without title"
      ]
     },
     "metadata": {},
     "output_type": "display_data"
    }
   ],
   "source": [
    "heatmap(rand_matrix)"
   ]
  },
  {
   "cell_type": "markdown",
   "metadata": {},
   "source": [
    "---\n",
    "### Frequency Table (도수분포표)"
   ]
  },
  {
   "cell_type": "code",
   "execution_count": 17,
   "metadata": {},
   "outputs": [
    {
     "data": {
      "text/html": [
       "<table>\n",
       "<thead><tr><th scope=col>len</th><th scope=col>supp</th><th scope=col>dose</th></tr></thead>\n",
       "<tbody>\n",
       "\t<tr><td> 4.2</td><td>VC  </td><td>0.5 </td></tr>\n",
       "\t<tr><td>11.5</td><td>VC  </td><td>0.5 </td></tr>\n",
       "\t<tr><td> 7.3</td><td>VC  </td><td>0.5 </td></tr>\n",
       "\t<tr><td> 5.8</td><td>VC  </td><td>0.5 </td></tr>\n",
       "\t<tr><td> 6.4</td><td>VC  </td><td>0.5 </td></tr>\n",
       "\t<tr><td>10.0</td><td>VC  </td><td>0.5 </td></tr>\n",
       "</tbody>\n",
       "</table>\n"
      ],
      "text/latex": [
       "\\begin{tabular}{r|lll}\n",
       " len & supp & dose\\\\\n",
       "\\hline\n",
       "\t  4.2 & VC   & 0.5 \\\\\n",
       "\t 11.5 & VC   & 0.5 \\\\\n",
       "\t  7.3 & VC   & 0.5 \\\\\n",
       "\t  5.8 & VC   & 0.5 \\\\\n",
       "\t  6.4 & VC   & 0.5 \\\\\n",
       "\t 10.0 & VC   & 0.5 \\\\\n",
       "\\end{tabular}\n"
      ],
      "text/markdown": [
       "\n",
       "len | supp | dose | \n",
       "|---|---|---|---|---|---|\n",
       "|  4.2 | VC   | 0.5  | \n",
       "| 11.5 | VC   | 0.5  | \n",
       "|  7.3 | VC   | 0.5  | \n",
       "|  5.8 | VC   | 0.5  | \n",
       "|  6.4 | VC   | 0.5  | \n",
       "| 10.0 | VC   | 0.5  | \n",
       "\n",
       "\n"
      ],
      "text/plain": [
       "  len  supp dose\n",
       "1  4.2 VC   0.5 \n",
       "2 11.5 VC   0.5 \n",
       "3  7.3 VC   0.5 \n",
       "4  5.8 VC   0.5 \n",
       "5  6.4 VC   0.5 \n",
       "6 10.0 VC   0.5 "
      ]
     },
     "metadata": {},
     "output_type": "display_data"
    }
   ],
   "source": [
    "head(ToothGrowth)\n",
    "#r 내장 dataframe. vitC 등을 투여했을 때 이빨의 길이 변화를 확인한 data"
   ]
  },
  {
   "cell_type": "code",
   "execution_count": 18,
   "metadata": {},
   "outputs": [
    {
     "data": {
      "text/html": [
       "<ol class=list-inline>\n",
       "\t<li>4.2</li>\n",
       "\t<li>11.5</li>\n",
       "\t<li>7.3</li>\n",
       "\t<li>5.8</li>\n",
       "\t<li>6.4</li>\n",
       "\t<li>10</li>\n",
       "\t<li>11.2</li>\n",
       "\t<li>11.2</li>\n",
       "\t<li>5.2</li>\n",
       "\t<li>7</li>\n",
       "\t<li>16.5</li>\n",
       "\t<li>16.5</li>\n",
       "\t<li>15.2</li>\n",
       "\t<li>17.3</li>\n",
       "\t<li>22.5</li>\n",
       "\t<li>17.3</li>\n",
       "\t<li>13.6</li>\n",
       "\t<li>14.5</li>\n",
       "\t<li>18.8</li>\n",
       "\t<li>15.5</li>\n",
       "\t<li>23.6</li>\n",
       "\t<li>18.5</li>\n",
       "\t<li>33.9</li>\n",
       "\t<li>25.5</li>\n",
       "\t<li>26.4</li>\n",
       "\t<li>32.5</li>\n",
       "\t<li>26.7</li>\n",
       "\t<li>21.5</li>\n",
       "\t<li>23.3</li>\n",
       "\t<li>29.5</li>\n",
       "</ol>\n"
      ],
      "text/latex": [
       "\\begin{enumerate*}\n",
       "\\item 4.2\n",
       "\\item 11.5\n",
       "\\item 7.3\n",
       "\\item 5.8\n",
       "\\item 6.4\n",
       "\\item 10\n",
       "\\item 11.2\n",
       "\\item 11.2\n",
       "\\item 5.2\n",
       "\\item 7\n",
       "\\item 16.5\n",
       "\\item 16.5\n",
       "\\item 15.2\n",
       "\\item 17.3\n",
       "\\item 22.5\n",
       "\\item 17.3\n",
       "\\item 13.6\n",
       "\\item 14.5\n",
       "\\item 18.8\n",
       "\\item 15.5\n",
       "\\item 23.6\n",
       "\\item 18.5\n",
       "\\item 33.9\n",
       "\\item 25.5\n",
       "\\item 26.4\n",
       "\\item 32.5\n",
       "\\item 26.7\n",
       "\\item 21.5\n",
       "\\item 23.3\n",
       "\\item 29.5\n",
       "\\end{enumerate*}\n"
      ],
      "text/markdown": [
       "1. 4.2\n",
       "2. 11.5\n",
       "3. 7.3\n",
       "4. 5.8\n",
       "5. 6.4\n",
       "6. 10\n",
       "7. 11.2\n",
       "8. 11.2\n",
       "9. 5.2\n",
       "10. 7\n",
       "11. 16.5\n",
       "12. 16.5\n",
       "13. 15.2\n",
       "14. 17.3\n",
       "15. 22.5\n",
       "16. 17.3\n",
       "17. 13.6\n",
       "18. 14.5\n",
       "19. 18.8\n",
       "20. 15.5\n",
       "21. 23.6\n",
       "22. 18.5\n",
       "23. 33.9\n",
       "24. 25.5\n",
       "25. 26.4\n",
       "26. 32.5\n",
       "27. 26.7\n",
       "28. 21.5\n",
       "29. 23.3\n",
       "30. 29.5\n",
       "\n",
       "\n"
      ],
      "text/plain": [
       " [1]  4.2 11.5  7.3  5.8  6.4 10.0 11.2 11.2  5.2  7.0 16.5 16.5 15.2 17.3 22.5\n",
       "[16] 17.3 13.6 14.5 18.8 15.5 23.6 18.5 33.9 25.5 26.4 32.5 26.7 21.5 23.3 29.5"
      ]
     },
     "metadata": {},
     "output_type": "display_data"
    }
   ],
   "source": [
    "ToothGrowth[ToothGrowth$supp==\"VC\",]$len\n",
    "#VC supp 중 len 값만"
   ]
  },
  {
   "cell_type": "code",
   "execution_count": 19,
   "metadata": {},
   "outputs": [],
   "source": [
    "vctooth <- (ToothGrowth[ToothGrowth$supp==\"VC\",])\n",
    "#VC supp data만 분리"
   ]
  },
  {
   "cell_type": "code",
   "execution_count": 22,
   "metadata": {},
   "outputs": [
    {
     "data": {
      "text/html": [
       "<table>\n",
       "<thead><tr><th scope=col>len</th><th scope=col>supp</th><th scope=col>dose</th></tr></thead>\n",
       "<tbody>\n",
       "\t<tr><td> 4.2</td><td>VC  </td><td>0.5 </td></tr>\n",
       "\t<tr><td>11.5</td><td>VC  </td><td>0.5 </td></tr>\n",
       "\t<tr><td> 7.3</td><td>VC  </td><td>0.5 </td></tr>\n",
       "\t<tr><td> 5.8</td><td>VC  </td><td>0.5 </td></tr>\n",
       "\t<tr><td> 6.4</td><td>VC  </td><td>0.5 </td></tr>\n",
       "\t<tr><td>10.0</td><td>VC  </td><td>0.5 </td></tr>\n",
       "</tbody>\n",
       "</table>\n"
      ],
      "text/latex": [
       "\\begin{tabular}{r|lll}\n",
       " len & supp & dose\\\\\n",
       "\\hline\n",
       "\t  4.2 & VC   & 0.5 \\\\\n",
       "\t 11.5 & VC   & 0.5 \\\\\n",
       "\t  7.3 & VC   & 0.5 \\\\\n",
       "\t  5.8 & VC   & 0.5 \\\\\n",
       "\t  6.4 & VC   & 0.5 \\\\\n",
       "\t 10.0 & VC   & 0.5 \\\\\n",
       "\\end{tabular}\n"
      ],
      "text/markdown": [
       "\n",
       "len | supp | dose | \n",
       "|---|---|---|---|---|---|\n",
       "|  4.2 | VC   | 0.5  | \n",
       "| 11.5 | VC   | 0.5  | \n",
       "|  7.3 | VC   | 0.5  | \n",
       "|  5.8 | VC   | 0.5  | \n",
       "|  6.4 | VC   | 0.5  | \n",
       "| 10.0 | VC   | 0.5  | \n",
       "\n",
       "\n"
      ],
      "text/plain": [
       "  len  supp dose\n",
       "1  4.2 VC   0.5 \n",
       "2 11.5 VC   0.5 \n",
       "3  7.3 VC   0.5 \n",
       "4  5.8 VC   0.5 \n",
       "5  6.4 VC   0.5 \n",
       "6 10.0 VC   0.5 "
      ]
     },
     "metadata": {},
     "output_type": "display_data"
    }
   ],
   "source": [
    "head(vctooth)"
   ]
  },
  {
   "cell_type": "code",
   "execution_count": 23,
   "metadata": {},
   "outputs": [
    {
     "data": {
      "image/png": "[encoded data removed]",
      "text/plain": [
       "Plot with title \"Histogram of vctooth$len\""
      ]
     },
     "metadata": {},
     "output_type": "display_data"
    }
   ],
   "source": [
    "hist(vctooth$len)"
   ]
  },
  {
   "cell_type": "markdown",
   "metadata": {},
   "source": [
    "---\n",
    "### stem and leaf plot(줄기와 잎 도표)"
   ]
  },
  {
   "cell_type": "code",
   "execution_count": 24,
   "metadata": {},
   "outputs": [
    {
     "name": "stdout",
     "output_type": "stream",
     "text": [
      "\n",
      "  The decimal point is 1 digit(s) to the right of the |\n",
      "\n",
      "  0 | 456677\n",
      "  1 | 01124556777799\n",
      "  2 | 2334667\n",
      "  3 | 034\n",
      "\n"
     ]
    }
   ],
   "source": [
    "stem(vctooth$len, scale = 0.5)\n",
    "#도표 그리기. 소수점 아래는 반올림해 일의 자리 기준으로 분리"
   ]
  },
  {
   "cell_type": "code",
   "execution_count": 25,
   "metadata": {
    "scrolled": false
   },
   "outputs": [
    {
     "name": "stdout",
     "output_type": "stream",
     "text": [
      "\n",
      "  The decimal point is at the |\n",
      "\n",
      "   4 | 228\n",
      "   6 | 403\n",
      "   8 | \n",
      "  10 | 0225\n",
      "  12 | 6\n",
      "  14 | 525\n",
      "  16 | 5533\n",
      "  18 | 58\n",
      "  20 | 5\n",
      "  22 | 536\n",
      "  24 | 5\n",
      "  26 | 47\n",
      "  28 | 5\n",
      "  30 | \n",
      "  32 | 59\n",
      "\n"
     ]
    }
   ],
   "source": [
    "stem(vctooth$len, scale = 2)\n",
    "#소수점을 기준으로 분리"
   ]
  },
  {
   "cell_type": "markdown",
   "metadata": {},
   "source": [
    "---\n",
    "### ggplot"
   ]
  },
  {
   "cell_type": "code",
   "execution_count": 32,
   "metadata": {},
   "outputs": [
    {
     "name": "stderr",
     "output_type": "stream",
     "text": [
      "Installing package into 'C:/Users/Ariel/Documents/R/win-library/3.5'\n",
      "(as 'lib' is unspecified)\n",
      "Warning message:\n",
      "\"unable to access index for repository http://www.stats.ox.ac.uk/pub/RWin/bin/windows/contrib/3.5:\n",
      "  URL 'http://www.stats.ox.ac.uk/pub/RWin/bin/windows/contrib/3.5/PACKAGES'를 열 수 없습니다\""
     ]
    },
    {
     "name": "stdout",
     "output_type": "stream",
     "text": [
      "package 'ggplot2' successfully unpacked and MD5 sums checked\n",
      "\n",
      "The downloaded binary packages are in\n",
      "\tC:\\Users\\Ariel\\AppData\\Local\\Temp\\RtmpwjLLbJ\\downloaded_packages\n"
     ]
    }
   ],
   "source": [
    "install.packages(\"ggplot2\")\n",
    "##ggplot 설치"
   ]
  },
  {
   "cell_type": "code",
   "execution_count": 33,
   "metadata": {},
   "outputs": [],
   "source": [
    "library(\"ggplot2\")"
   ]
  },
  {
   "cell_type": "code",
   "execution_count": 34,
   "metadata": {},
   "outputs": [
    {
     "data": {},
     "metadata": {},
     "output_type": "display_data"
    },
    {
     "data": {
      "image/png": "[encoded data removed]",
      "text/plain": [
       "plot without title"
      ]
     },
     "metadata": {},
     "output_type": "display_data"
    }
   ],
   "source": [
    "ggplot(aes(x=factor(dose), y=len), data=vctooth)+geom_boxplot(aes(fill=factor(dose)))"
   ]
  }
 ],
 "metadata": {
  "kernelspec": {
   "display_name": "R",
   "language": "R",
   "name": "ir"
  },
  "language_info": {
   "codemirror_mode": "r",
   "file_extension": ".r",
   "mimetype": "text/x-r-source",
   "name": "R",
   "pygments_lexer": "r",
   "version": "3.5.1"
  }
 },
 "nbformat": 4,
 "nbformat_minor": 2
}
