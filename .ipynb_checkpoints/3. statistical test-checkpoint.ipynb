{
 "cells": [
  {
   "cell_type": "markdown",
   "metadata": {},
   "source": [
    "### 통계와 검정\n",
    "* control과 비교했을 때 의미있는 변화가 일어났는지를 알아보기 위해 이용\n",
    "---\n",
    "#### 1. 동전던지기에서 앞뒷면이 나올 확률이 정말로 50%씩인가?\n",
    "* 10번 동전을 던졌을 때, 앞뒷면의 비율이 8:2일 때 동전의 문제가 있는가?<p>\n",
    "\n",
    "#### 귀무가설: H0\n",
    "* 동전에는 문제가 없다\n",
    "\n",
    "#### 대립가설: H1 (or Ha)\n",
    "* 귀무가설과 반대. 즉, 동전에 문제가 있다\n",
    "<br>\n",
    "* 귀무가설을 검정하여, 귀무가설을 수용할 것인지 기각할 것인지를 결정한다\n",
    "<br>\n",
    "\n",
    "#### 양측검점\n",
    "> 표본평균이 크거나 작게 나오면 귀무가설을 기각\n",
    "#### 단측검정\n",
    "> ex1) 표본평균이 크게 나오면 귀무가설을 기각<br>\n",
    "> ex2) 표본평균이 작게 나오면 귀무가설을 기각\n",
    "\n",
    "---\n",
    "### 오류\n",
    "\n",
    "#### Type I/II error\n",
    "\n",
    "\n",
    "|           | H0==T       | H1==T        |\n",
    "|-----------|-------------|--------------|\n",
    "| accept H0 |             | Type II err. |\n",
    "| accept H1 | Type I err. |              |"
   ]
  },
  {
   "cell_type": "code",
   "execution_count": 1,
   "metadata": {},
   "outputs": [
    {
     "data": {
      "text/plain": [
       "\n",
       "\tExact binomial test\n",
       "\n",
       "data:  8 and 10\n",
       "number of successes = 8, number of trials = 10, p-value = 0.1094\n",
       "alternative hypothesis: true probability of success is not equal to 0.5\n",
       "95 percent confidence interval:\n",
       " 0.4439045 0.9747893\n",
       "sample estimates:\n",
       "probability of success \n",
       "                   0.8 \n"
      ]
     },
     "metadata": {},
     "output_type": "display_data"
    }
   ],
   "source": [
    "#이항 검정: 앞서 언급된 동전던지기에서\n",
    "# in case of 8 of 10, is it 50%?\n",
    "binom.test(8,10,p=0.5)"
   ]
  },
  {
   "cell_type": "code",
   "execution_count": 2,
   "metadata": {},
   "outputs": [
    {
     "data": {
      "text/plain": [
       "\n",
       "\tExact binomial test\n",
       "\n",
       "data:  80 and 100\n",
       "number of successes = 80, number of trials = 100, p-value = 1.116e-09\n",
       "alternative hypothesis: true probability of success is not equal to 0.5\n",
       "95 percent confidence interval:\n",
       " 0.7081573 0.8733444\n",
       "sample estimates:\n",
       "probability of success \n",
       "                   0.8 \n"
      ]
     },
     "metadata": {},
     "output_type": "display_data"
    }
   ],
   "source": [
    "#이항 검정: 앞서 언급된 동전던지기에서\n",
    "# in case of 80 of 100, is it 50%?\n",
    "# 같은 비율이지만 앞서 진행한 이항 검정에 비해 p-value가 크게 감소한다\n",
    "binom.test(80,100,p=0.5)"
   ]
  },
  {
   "cell_type": "code",
   "execution_count": null,
   "metadata": {},
   "outputs": [],
   "source": []
  }
 ],
 "metadata": {
  "kernelspec": {
   "display_name": "R",
   "language": "R",
   "name": "ir"
  },
  "language_info": {
   "codemirror_mode": "r",
   "file_extension": ".r",
   "mimetype": "text/x-r-source",
   "name": "R",
   "pygments_lexer": "r",
   "version": "3.5.1"
  }
 },
 "nbformat": 4,
 "nbformat_minor": 2
}
