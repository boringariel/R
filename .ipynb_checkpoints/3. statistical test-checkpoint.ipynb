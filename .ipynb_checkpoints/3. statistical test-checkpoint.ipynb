{
 "cells": [
  {
   "cell_type": "markdown",
   "metadata": {},
   "source": [
    "### 통계와 검정\n",
    "* control과 비교했을 때 의미있는 변화가 일어났는지를 알아보기 위해 이용\n",
    "---\n",
    "#### 1. 동전던지기에서 앞뒷면이 나올 확률이 정말로 50%씩인가?\n",
    "* 10번 동전을 던졌을 때, 앞뒷면의 비율이 8:2일 때 동전의 문제가 있는가?<p>\n",
    "\n",
    "#### 귀무가설: H0\n",
    "* 동전에는 문제가 없다\n",
    "\n",
    "#### 대립가설: H1 (or Ha)\n",
    "* 귀무가설과 반대. 즉, 동전에 문제가 있다\n",
    "<br>\n",
    "* 귀무가설을 검정하여, 귀무가설을 수용할 것인지 기각할 것인지를 결정한다\n",
    "<br>\n",
    "\n",
    "#### 양측검점\n",
    "> `표본평균이 크거나 작게 나오면 귀무가설을 기각`<br>\n",
    "> 같다/다르다에 대한 검정에 적합함\n",
    "#### 단측검정\n",
    "> `ex1) 표본평균이 크게 나오면 귀무가설을 기각`<br>\n",
    "> `ex2) 표본평균이 작게 나오면 귀무가설을 기각`<br>\n",
    "> 특정 방향성을 가진 가설인 경우\n",
    "\n",
    "---\n",
    "### 오류\n",
    "\n",
    "* Type I/II error\n",
    "\n",
    "|   &nbsp;  | H0==T        | H1==T         |\n",
    "| --------- | -----------  | ------------  |\n",
    "| accept H0 |    &nbsp;    | Type II error |\n",
    "| accept H1 | Type I error |  &nbsp;       |\n",
    "\n",
    "---\n",
    "\n",
    "### 표본\n",
    " * 모집단을 검정하는 것이 시간과 비용 등의 문제로 인해 어려운 경우 모집단을 대표할 수 있는 표본을 이용해 검정함\n",
    " \n",
    "---\n",
    "\n",
    "#### 2. 상자 안에 흰 공과 검은 공의 비율이 같은가? (상자 안의 공은 20개 이상이라 가정함)\n",
    "> `H0: p = 0.5`<br>\n",
    "> `H1: p != 0.5`<br>\n",
    "> 양측검정을 사용하며, 모든 공을 뽑기 어려운 경우 일부 공만 추출해 검정함\n",
    "    * 공을 10회 추출할 경우, 흰 공의 개수는 0~10이 가능하다\n",
    "    * 흰 공의 비율을 x/10이라 하면, 1/2를 기준으로 어느 정도의 거리에 위치하는지에 따라 귀무가설을 기각할 수도 있음"
   ]
  },
  {
   "cell_type": "code",
   "execution_count": 1,
   "metadata": {},
   "outputs": [
    {
     "data": {
      "text/plain": [
       "\n",
       "\tExact binomial test\n",
       "\n",
       "data:  8 and 10\n",
       "number of successes = 8, number of trials = 10, p-value = 0.1094\n",
       "alternative hypothesis: true probability of success is not equal to 0.5\n",
       "95 percent confidence interval:\n",
       " 0.4439045 0.9747893\n",
       "sample estimates:\n",
       "probability of success \n",
       "                   0.8 \n"
      ]
     },
     "metadata": {},
     "output_type": "display_data"
    }
   ],
   "source": [
    "#이항 검정: 앞서 언급된 동전던지기에서\n",
    "# in case of 8 of 10, is it 50%?\n",
    "binom.test(8,10,p=0.5)"
   ]
  },
  {
   "cell_type": "code",
   "execution_count": 2,
   "metadata": {},
   "outputs": [
    {
     "data": {
      "text/plain": [
       "\n",
       "\tExact binomial test\n",
       "\n",
       "data:  80 and 100\n",
       "number of successes = 80, number of trials = 100, p-value = 1.116e-09\n",
       "alternative hypothesis: true probability of success is not equal to 0.5\n",
       "95 percent confidence interval:\n",
       " 0.7081573 0.8733444\n",
       "sample estimates:\n",
       "probability of success \n",
       "                   0.8 \n"
      ]
     },
     "metadata": {},
     "output_type": "display_data"
    }
   ],
   "source": [
    "#이항 검정: 앞서 언급된 동전던지기에서\n",
    "# in case of 80 of 100, is it 50%?\n",
    "# 같은 비율이지만 앞서 진행한 이항 검정에 비해 p-value가 크게 감소한다\n",
    "binom.test(80,100,p=0.5)"
   ]
  },
  {
   "cell_type": "markdown",
   "metadata": {},
   "source": [
    "### 다항 검정\n",
    "* Fisher's exact test: 두 개의 숫자 sample일 때\n",
    "* 큰 group일 때는 Chi-squared test 등을 주로 이용\n",
    "---\n",
    "#### 3. 두 개의 동전을 던졌을 때, 각각의 앞뒷면이 나올 확률?\n",
    "> 귀무가설: 동전 A/B의 앞뒷면이 나오는 확률이 서로 같다<br>\n",
    "> 대립가설: 동전 A/B의 앞뒷면이 나오는 확률은 서로 다르다"
   ]
  },
  {
   "cell_type": "code",
   "execution_count": 1,
   "metadata": {},
   "outputs": [
    {
     "data": {
      "text/html": [
       "<table>\n",
       "<tbody>\n",
       "\t<tr><td>8</td><td>4</td></tr>\n",
       "\t<tr><td>2</td><td>7</td></tr>\n",
       "</tbody>\n",
       "</table>\n"
      ],
      "text/latex": [
       "\\begin{tabular}{ll}\n",
       "\t 8 & 4\\\\\n",
       "\t 2 & 7\\\\\n",
       "\\end{tabular}\n"
      ],
      "text/markdown": [
       "\n",
       "| 8 | 4 | \n",
       "| 2 | 7 | \n",
       "\n",
       "\n"
      ],
      "text/plain": [
       "     [,1] [,2]\n",
       "[1,] 8    4   \n",
       "[2,] 2    7   "
      ]
     },
     "metadata": {},
     "output_type": "display_data"
    }
   ],
   "source": [
    "counts = matrix(c(8,2,4,7),2)\n",
    "counts"
   ]
  },
  {
   "cell_type": "code",
   "execution_count": 2,
   "metadata": {},
   "outputs": [
    {
     "data": {
      "text/plain": [
       "\n",
       "\tFisher's Exact Test for Count Data\n",
       "\n",
       "data:  counts\n",
       "p-value = 0.0805\n",
       "alternative hypothesis: true odds ratio is not equal to 1\n",
       "95 percent confidence interval:\n",
       "  0.7306872 91.0288231\n",
       "sample estimates:\n",
       "odds ratio \n",
       "  6.302622 \n"
      ]
     },
     "metadata": {},
     "output_type": "display_data"
    }
   ],
   "source": [
    "#Fisher's exact test. col/row의 구성에 의존하지는 않음. 단순한 data에 선호됨\n",
    "fisher.test(counts)"
   ]
  },
  {
   "cell_type": "code",
   "execution_count": 3,
   "metadata": {},
   "outputs": [
    {
     "name": "stderr",
     "output_type": "stream",
     "text": [
      "Warning message in chisq.test(counts):\n",
      "\"Chi-squared approximation may be incorrect\""
     ]
    },
    {
     "data": {
      "text/plain": [
       "\n",
       "\tPearson's Chi-squared test with Yates' continuity correction\n",
       "\n",
       "data:  counts\n",
       "X-squared = 2.4858, df = 1, p-value = 0.1149\n"
      ]
     },
     "metadata": {},
     "output_type": "display_data"
    }
   ],
   "source": [
    "#Chi-squared test. 복잡한 data에 선호됨\n",
    "chisq.test(counts)"
   ]
  },
  {
   "cell_type": "markdown",
   "metadata": {},
   "source": [
    "### Parametric/non-parametric test\n",
    "* Parametric(모수) test: data가 특정 분포(주로 정규분포)를 따른다고 가정\n",
    "* non-parametric(비모수) test: data가 특정 분포를 따르지 않는다고 가정\n",
    "\n",
    "---\n",
    "### T-test\n",
    "#### One sample t-test\n",
    "* Parametric test: 정규분포를 따른다 가정\n",
    "* 실수 값의 데이터를 이용\n",
    "* ex)모집단을 sampling >> 모집단의 평균 등을 검증\n",
    "\n",
    "#### Two sample t-test\n",
    "* 두 group의 데이터를 이용\n",
    "* ex)실험군과 대조군의 차이 검증\n",
    "\n",
    "#### Paired t-test\n",
    "* ex)특정 환자에서의 치료 전후 차이 검증 등"
   ]
  },
  {
   "cell_type": "markdown",
   "metadata": {},
   "source": [
    "---\n",
    "### Pima indian data를 이용한 one sample t-test"
   ]
  },
  {
   "cell_type": "code",
   "execution_count": 1,
   "metadata": {},
   "outputs": [],
   "source": [
    "library(MASS)"
   ]
  },
  {
   "cell_type": "code",
   "execution_count": 2,
   "metadata": {},
   "outputs": [
    {
     "data": {
      "text/html": [
       "<table>\n",
       "<thead><tr><th scope=col>npreg</th><th scope=col>glu</th><th scope=col>bp</th><th scope=col>skin</th><th scope=col>bmi</th><th scope=col>ped</th><th scope=col>age</th><th scope=col>type</th></tr></thead>\n",
       "<tbody>\n",
       "\t<tr><td>5    </td><td> 86  </td><td>68   </td><td>28   </td><td>30.2 </td><td>0.364</td><td>24   </td><td>No   </td></tr>\n",
       "\t<tr><td>7    </td><td>195  </td><td>70   </td><td>33   </td><td>25.1 </td><td>0.163</td><td>55   </td><td>Yes  </td></tr>\n",
       "\t<tr><td>5    </td><td> 77  </td><td>82   </td><td>41   </td><td>35.8 </td><td>0.156</td><td>35   </td><td>No   </td></tr>\n",
       "\t<tr><td>0    </td><td>165  </td><td>76   </td><td>43   </td><td>47.9 </td><td>0.259</td><td>26   </td><td>No   </td></tr>\n",
       "\t<tr><td>0    </td><td>107  </td><td>60   </td><td>25   </td><td>26.4 </td><td>0.133</td><td>23   </td><td>No   </td></tr>\n",
       "\t<tr><td>5    </td><td> 97  </td><td>76   </td><td>27   </td><td>35.6 </td><td>0.378</td><td>52   </td><td>Yes  </td></tr>\n",
       "</tbody>\n",
       "</table>\n"
      ],
      "text/latex": [
       "\\begin{tabular}{r|llllllll}\n",
       " npreg & glu & bp & skin & bmi & ped & age & type\\\\\n",
       "\\hline\n",
       "\t 5     &  86   & 68    & 28    & 30.2  & 0.364 & 24    & No   \\\\\n",
       "\t 7     & 195   & 70    & 33    & 25.1  & 0.163 & 55    & Yes  \\\\\n",
       "\t 5     &  77   & 82    & 41    & 35.8  & 0.156 & 35    & No   \\\\\n",
       "\t 0     & 165   & 76    & 43    & 47.9  & 0.259 & 26    & No   \\\\\n",
       "\t 0     & 107   & 60    & 25    & 26.4  & 0.133 & 23    & No   \\\\\n",
       "\t 5     &  97   & 76    & 27    & 35.6  & 0.378 & 52    & Yes  \\\\\n",
       "\\end{tabular}\n"
      ],
      "text/markdown": [
       "\n",
       "npreg | glu | bp | skin | bmi | ped | age | type | \n",
       "|---|---|---|---|---|---|\n",
       "| 5     |  86   | 68    | 28    | 30.2  | 0.364 | 24    | No    | \n",
       "| 7     | 195   | 70    | 33    | 25.1  | 0.163 | 55    | Yes   | \n",
       "| 5     |  77   | 82    | 41    | 35.8  | 0.156 | 35    | No    | \n",
       "| 0     | 165   | 76    | 43    | 47.9  | 0.259 | 26    | No    | \n",
       "| 0     | 107   | 60    | 25    | 26.4  | 0.133 | 23    | No    | \n",
       "| 5     |  97   | 76    | 27    | 35.6  | 0.378 | 52    | Yes   | \n",
       "\n",
       "\n"
      ],
      "text/plain": [
       "  npreg glu bp skin bmi  ped   age type\n",
       "1 5      86 68 28   30.2 0.364 24  No  \n",
       "2 7     195 70 33   25.1 0.163 55  Yes \n",
       "3 5      77 82 41   35.8 0.156 35  No  \n",
       "4 0     165 76 43   47.9 0.259 26  No  \n",
       "5 0     107 60 25   26.4 0.133 23  No  \n",
       "6 5      97 76 27   35.6 0.378 52  Yes "
      ]
     },
     "metadata": {},
     "output_type": "display_data"
    }
   ],
   "source": [
    "head(Pima.tr)"
   ]
  },
  {
   "cell_type": "code",
   "execution_count": 3,
   "metadata": {
    "scrolled": true
   },
   "outputs": [
    {
     "data": {
      "text/plain": [
       "\n",
       "\tOne Sample t-test\n",
       "\n",
       "data:  Pima.tr$glu\n",
       "t = 10.705, df = 199, p-value < 2.2e-16\n",
       "alternative hypothesis: true mean is not equal to 100\n",
       "95 percent confidence interval:\n",
       " 119.5544 128.3856\n",
       "sample estimates:\n",
       "mean of x \n",
       "   123.97 \n"
      ]
     },
     "metadata": {},
     "output_type": "display_data"
    }
   ],
   "source": [
    "t.test(Pima.tr$glu, mu=100) #glucose 농도가 평균 100임을 가정함. p-value가 아주 낮으므로 평균이 100이라는 귀무가설은 기각됨"
   ]
  },
  {
   "cell_type": "markdown",
   "metadata": {},
   "source": [
    "---\n",
    "### Wilcox signed rank test\n",
    "* non-parametric test이며, data의 순위에 의존함"
   ]
  },
  {
   "cell_type": "code",
   "execution_count": 4,
   "metadata": {},
   "outputs": [
    {
     "data": {
      "text/plain": [
       "\n",
       "\tWilcoxon signed rank test with continuity correction\n",
       "\n",
       "data:  Pima.tr$age\n",
       "V = 3274, p-value = 1.663e-15\n",
       "alternative hypothesis: true location is not equal to 40\n"
      ]
     },
     "metadata": {},
     "output_type": "display_data"
    }
   ],
   "source": [
    "wilcox.test(Pima.tr$age, mu=40) #평균 연령이 40세임을 가정함"
   ]
  },
  {
   "cell_type": "code",
   "execution_count": 5,
   "metadata": {},
   "outputs": [
    {
     "data": {
      "text/plain": [
       "\n",
       "\tOne Sample t-test\n",
       "\n",
       "data:  Pima.tr$age\n",
       "t = -10.166, df = 199, p-value < 2.2e-16\n",
       "alternative hypothesis: true mean is not equal to 40\n",
       "95 percent confidence interval:\n",
       " 30.5796 33.6404\n",
       "sample estimates:\n",
       "mean of x \n",
       "    32.11 \n"
      ]
     },
     "metadata": {},
     "output_type": "display_data"
    }
   ],
   "source": [
    "t.test(Pima.tr$age, mu=40) #동일 test를 t-test로 진행해 비교"
   ]
  },
  {
   "cell_type": "markdown",
   "metadata": {},
   "source": [
    "---\n",
    "### Two-sample t-test\n",
    "* data의 순서에는 의존하지 않음"
   ]
  },
  {
   "cell_type": "code",
   "execution_count": 6,
   "metadata": {},
   "outputs": [
    {
     "data": {
      "text/plain": [
       "\n",
       "\tWelch Two Sample t-test\n",
       "\n",
       "data:  age by type\n",
       "t = -5.2162, df = 115.7, p-value = 8.106e-07\n",
       "alternative hypothesis: true difference in means is not equal to 0\n",
       "95 percent confidence interval:\n",
       " -11.667372  -5.245284\n",
       "sample estimates:\n",
       " mean in group No mean in group Yes \n",
       "         29.23485          37.69118 \n"
      ]
     },
     "metadata": {},
     "output_type": "display_data"
    }
   ],
   "source": [
    "t.test(age~type, data = Pima.tr) #당뇨병 발병 유무가 나이와 유의한 차이가 없다고 가정. p-value가 아주 낮아 귀무가설 기각"
   ]
  },
  {
   "cell_type": "markdown",
   "metadata": {},
   "source": [
    "---\n",
    "### Paired t-test\n",
    "* data 순서에 의존하여 사전/사후 값 비교에 주로 이용\n",
    "* ex) 특정 치료 후 예후 비교"
   ]
  },
  {
   "cell_type": "code",
   "execution_count": 8,
   "metadata": {},
   "outputs": [
    {
     "data": {
      "text/html": [
       "<table>\n",
       "<thead><tr><th scope=col>before</th><th scope=col>after</th></tr></thead>\n",
       "<tbody>\n",
       "\t<tr><td>200.1</td><td>392.9</td></tr>\n",
       "\t<tr><td>190.9</td><td>393.2</td></tr>\n",
       "\t<tr><td>192.7</td><td>345.1</td></tr>\n",
       "\t<tr><td>213.0</td><td>393.0</td></tr>\n",
       "\t<tr><td>241.4</td><td>434.0</td></tr>\n",
       "\t<tr><td>196.7</td><td>427.9</td></tr>\n",
       "</tbody>\n",
       "</table>\n"
      ],
      "text/latex": [
       "\\begin{tabular}{ll}\n",
       " before & after\\\\\n",
       "\\hline\n",
       "\t 200.1 & 392.9\\\\\n",
       "\t 190.9 & 393.2\\\\\n",
       "\t 192.7 & 345.1\\\\\n",
       "\t 213.0 & 393.0\\\\\n",
       "\t 241.4 & 434.0\\\\\n",
       "\t 196.7 & 427.9\\\\\n",
       "\\end{tabular}\n"
      ],
      "text/markdown": [
       "\n",
       "before | after | \n",
       "|---|---|---|---|---|---|\n",
       "| 200.1 | 392.9 | \n",
       "| 190.9 | 393.2 | \n",
       "| 192.7 | 345.1 | \n",
       "| 213.0 | 393.0 | \n",
       "| 241.4 | 434.0 | \n",
       "| 196.7 | 427.9 | \n",
       "\n",
       "\n"
      ],
      "text/plain": [
       "     before after\n",
       "[1,] 200.1  392.9\n",
       "[2,] 190.9  393.2\n",
       "[3,] 192.7  345.1\n",
       "[4,] 213.0  393.0\n",
       "[5,] 241.4  434.0\n",
       "[6,] 196.7  427.9"
      ]
     },
     "metadata": {},
     "output_type": "display_data"
    }
   ],
   "source": [
    "before <- c(200.1,190.9,192.7,213,241.4,196.7,172.2,185.5,205.2,193.7)\n",
    "after <- c(392.9,393.2,345.1,393,434,427.9,422,383.9,392.3,352.2)\n",
    "mydata <- cbind(before, after)\n",
    "head(mydata)"
   ]
  },
  {
   "cell_type": "code",
   "execution_count": 9,
   "metadata": {},
   "outputs": [
    {
     "data": {
      "text/plain": [
       "\n",
       "\tPaired t-test\n",
       "\n",
       "data:  before and after\n",
       "t = -20.866, df = 9, p-value = 6.246e-09\n",
       "alternative hypothesis: true difference in means is not equal to 0\n",
       "95 percent confidence interval:\n",
       " -215.5978 -173.4222\n",
       "sample estimates:\n",
       "mean of the differences \n",
       "                -194.51 \n"
      ]
     },
     "metadata": {},
     "output_type": "display_data"
    }
   ],
   "source": [
    "t.test(before,after,paired = TRUE)"
   ]
  },
  {
   "cell_type": "markdown",
   "metadata": {},
   "source": [
    "---\n",
    "### One-tailed t-test\n",
    "* 방향성을 가진 가설을 설정할 수 있다\n",
    "* 기존 `t.test()` 구문에 방향성을 추가하는 방식으로 사용"
   ]
  },
  {
   "cell_type": "code",
   "execution_count": 13,
   "metadata": {},
   "outputs": [
    {
     "data": {
      "text/plain": [
       "\n",
       "\tWelch Two Sample t-test\n",
       "\n",
       "data:  before and after\n",
       "t = -17.715, df = 15.15, p-value = 1\n",
       "alternative hypothesis: true difference in means is greater than 0\n",
       "95 percent confidence interval:\n",
       " -213.7461       Inf\n",
       "sample estimates:\n",
       "mean of x mean of y \n",
       "   199.14    393.65 \n"
      ]
     },
     "metadata": {},
     "output_type": "display_data"
    }
   ],
   "source": [
    "t.test(before, after, \"greater\") #before에 비해 after가 더 커짐을 가정. 또는 less로 설정할 수도 있음. p-value가 1이라 가설이 지지됨"
   ]
  }
 ],
 "metadata": {
  "kernelspec": {
   "display_name": "R",
   "language": "R",
   "name": "ir"
  },
  "language_info": {
   "codemirror_mode": "r",
   "file_extension": ".r",
   "mimetype": "text/x-r-source",
   "name": "R",
   "pygments_lexer": "r",
   "version": "3.5.1"
  }
 },
 "nbformat": 4,
 "nbformat_minor": 2
}
