{
 "cells": [
  {
   "cell_type": "markdown",
   "metadata": {},
   "source": [
    "## Statistical Inference\n",
    "---\n",
    "### Population vs. Sample\n",
    "* 모집단 모두를 조사하는 것은 현실적으로 불가능하므로, 표본을 채취해서 조사하는 것이 중요\n",
    "* Population Mean != Sample Mean\n",
    "\n",
    "<p>\n",
    "\n",
    "### Statistical Inference\n",
    "* Sample을 이용해 Population을 추측하는 것\n",
    "<p>\n",
    "    \n",
    "#### Estimation\n",
    "* Point Estimation: 점 추정\n",
    "> 점 표본을 이용해서 모집단을 추정<br>\n",
    "표본 수집 상황에 따라 모집단 추정이 달라질 수 있으므로 완벽히 반영할 수 없음\n",
    "\n",
    "* Interval Estimation: 구간 추정\n",
    "> Point estimation을 보완하기 위해 이용함<br>\n",
    "신뢰 구간을 이용해 보정하며, 신뢰 구간은 아래와 같다<br>\n",
    "신뢰 구간 = point estimate +- margin of error\n",
    "\n",
    "<p>\n",
    "\n",
    "* t 분포\n",
    ">Sample size가 작을 때는 정규분포를 따른다 가정할 경우 문제가 있다<br>\n",
    "따라서, 이럴 때는 t 분포를 이용하는 것이 바람직함\n",
    "\n",
    "---"
   ]
  },
  {
   "cell_type": "markdown",
   "metadata": {},
   "source": [
    "## Regression: 회귀분석\n",
    "* Data의 분포가 경향성을 가지는지 확인\n",
    "* ex) x-y 분포에서 x에 따른 y의 변화(x-y 함수의 기울기)를 확인\n",
    "* correlation analysis와 달리, 다수의 sample에 대한 관계를 분석할 수 있다\n",
    "---\n",
    "### Linear Regression\n",
    "* 실수 값으로 표현된 data에 대해 선형적인 관계를 확인한다\n",
    "* data의 scatterplot을 그린 뒤, 모든 점과의 거리가 최소인 선을 긋는 방식으로 표현\n",
    "\n",
    "### Logistic Regression\n",
    "* y 값이 실수가 아니며 categorical variable(y/n, binary...)인 경우 이용함\n",
    "* ex) 나이나 성별이 몸무게에 영향을 끼치는가?\n",
    "\n",
    "### Cox proportional hazard regression: a type of survival analysis\n",
    "* 생존 분석에 주로 이용됨"
   ]
  },
  {
   "cell_type": "code",
   "execution_count": 1,
   "metadata": {},
   "outputs": [
    {
     "data": {
      "text/html": [
       "<table>\n",
       "<thead><tr><th scope=col>Sepal.Length</th><th scope=col>Sepal.Width</th><th scope=col>Petal.Length</th><th scope=col>Petal.Width</th><th scope=col>Species</th></tr></thead>\n",
       "<tbody>\n",
       "\t<tr><td>5.1   </td><td>3.5   </td><td>1.4   </td><td>0.2   </td><td>setosa</td></tr>\n",
       "\t<tr><td>4.9   </td><td>3.0   </td><td>1.4   </td><td>0.2   </td><td>setosa</td></tr>\n",
       "\t<tr><td>4.7   </td><td>3.2   </td><td>1.3   </td><td>0.2   </td><td>setosa</td></tr>\n",
       "\t<tr><td>4.6   </td><td>3.1   </td><td>1.5   </td><td>0.2   </td><td>setosa</td></tr>\n",
       "\t<tr><td>5.0   </td><td>3.6   </td><td>1.4   </td><td>0.2   </td><td>setosa</td></tr>\n",
       "\t<tr><td>5.4   </td><td>3.9   </td><td>1.7   </td><td>0.4   </td><td>setosa</td></tr>\n",
       "</tbody>\n",
       "</table>\n"
      ],
      "text/latex": [
       "\\begin{tabular}{r|lllll}\n",
       " Sepal.Length & Sepal.Width & Petal.Length & Petal.Width & Species\\\\\n",
       "\\hline\n",
       "\t 5.1    & 3.5    & 1.4    & 0.2    & setosa\\\\\n",
       "\t 4.9    & 3.0    & 1.4    & 0.2    & setosa\\\\\n",
       "\t 4.7    & 3.2    & 1.3    & 0.2    & setosa\\\\\n",
       "\t 4.6    & 3.1    & 1.5    & 0.2    & setosa\\\\\n",
       "\t 5.0    & 3.6    & 1.4    & 0.2    & setosa\\\\\n",
       "\t 5.4    & 3.9    & 1.7    & 0.4    & setosa\\\\\n",
       "\\end{tabular}\n"
      ],
      "text/markdown": [
       "\n",
       "Sepal.Length | Sepal.Width | Petal.Length | Petal.Width | Species | \n",
       "|---|---|---|---|---|---|\n",
       "| 5.1    | 3.5    | 1.4    | 0.2    | setosa | \n",
       "| 4.9    | 3.0    | 1.4    | 0.2    | setosa | \n",
       "| 4.7    | 3.2    | 1.3    | 0.2    | setosa | \n",
       "| 4.6    | 3.1    | 1.5    | 0.2    | setosa | \n",
       "| 5.0    | 3.6    | 1.4    | 0.2    | setosa | \n",
       "| 5.4    | 3.9    | 1.7    | 0.4    | setosa | \n",
       "\n",
       "\n"
      ],
      "text/plain": [
       "  Sepal.Length Sepal.Width Petal.Length Petal.Width Species\n",
       "1 5.1          3.5         1.4          0.2         setosa \n",
       "2 4.9          3.0         1.4          0.2         setosa \n",
       "3 4.7          3.2         1.3          0.2         setosa \n",
       "4 4.6          3.1         1.5          0.2         setosa \n",
       "5 5.0          3.6         1.4          0.2         setosa \n",
       "6 5.4          3.9         1.7          0.4         setosa "
      ]
     },
     "metadata": {},
     "output_type": "display_data"
    }
   ],
   "source": [
    "#iris data를 이용한 regression\n",
    "head(iris)"
   ]
  },
  {
   "cell_type": "code",
   "execution_count": 5,
   "metadata": {},
   "outputs": [
    {
     "data": {
      "text/plain": [
       "\n",
       "Call:\n",
       "lm(formula = Sepal.Length ~ Petal.Length, data = iris)\n",
       "\n",
       "Residuals:\n",
       "     Min       1Q   Median       3Q      Max \n",
       "-1.24675 -0.29657 -0.01515  0.27676  1.00269 \n",
       "\n",
       "Coefficients:\n",
       "             Estimate Std. Error t value Pr(>|t|)    \n",
       "(Intercept)   4.30660    0.07839   54.94   <2e-16 ***\n",
       "Petal.Length  0.40892    0.01889   21.65   <2e-16 ***\n",
       "---\n",
       "Signif. codes:  0 '***' 0.001 '**' 0.01 '*' 0.05 '.' 0.1 ' ' 1\n",
       "\n",
       "Residual standard error: 0.4071 on 148 degrees of freedom\n",
       "Multiple R-squared:   0.76,\tAdjusted R-squared:  0.7583 \n",
       "F-statistic: 468.6 on 1 and 148 DF,  p-value: < 2.2e-16\n"
      ]
     },
     "metadata": {},
     "output_type": "display_data"
    }
   ],
   "source": [
    "# Linear regression\n",
    "fit <- lm(Sepal.Length ~ Petal.Length, data=iris)\n",
    "summary(fit)"
   ]
  },
  {
   "cell_type": "markdown",
   "metadata": {},
   "source": [
    "* linear regression 결과, p-value가 낮아 각 column이 연관성 있는 것으로 보인다"
   ]
  },
  {
   "cell_type": "code",
   "execution_count": 11,
   "metadata": {},
   "outputs": [
    {
     "ename": "ERROR",
     "evalue": "Error in png(tf, width, height, \"in\", pointsize, bg, res, antialias = antialias): png() 장치를 시작할 수 없습니다\n",
     "output_type": "error",
     "traceback": [
      "Error in png(tf, width, height, \"in\", pointsize, bg, res, antialias = antialias): png() 장치를 시작할 수 없습니다\nTraceback:\n"
     ]
    },
    {
     "data": {
      "text/plain": [
       "plot without title"
      ]
     },
     "metadata": {},
     "output_type": "display_data"
    }
   ],
   "source": [
    "plot(iris$Petal.Length, iris$Sepal.Length, main=\"Regression\")"
   ]
  },
  {
   "cell_type": "code",
   "execution_count": null,
   "metadata": {},
   "outputs": [],
   "source": []
  }
 ],
 "metadata": {
  "kernelspec": {
   "display_name": "R",
   "language": "R",
   "name": "ir"
  },
  "language_info": {
   "codemirror_mode": "r",
   "file_extension": ".r",
   "mimetype": "text/x-r-source",
   "name": "R",
   "pygments_lexer": "r",
   "version": "3.5.1"
  }
 },
 "nbformat": 4,
 "nbformat_minor": 2
}
