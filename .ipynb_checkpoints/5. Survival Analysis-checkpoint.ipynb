{
 "cells": [
  {
   "cell_type": "markdown",
   "metadata": {},
   "source": [
    "## Survival Analysis\n",
    "---\n",
    "\n",
    "### Survival Analysis의 필요성\n",
    "* 시간과 치료 여부를 이용해 t-test를 할 수 있으나, 시간/금전적 문제로 인해 현실적으로 어렵다\n",
    "* 실제 환자를 대상으로 실험 진행시, 모든 환잘르 사망시까지 추적관찰하는 것이 사실상 불가능하다\n",
    "* 특정 시점에서의 생존 여부(0/1)를 중심으로 분석한 경우, 시간의 흐름을 무시한다는 한계가 있다\n",
    "<p>\n",
    "\n",
    "### Survival Analysis의 특징\n",
    "#### Censoring\n",
    "* 대상 환자를 실험 종료까지 추적관찰할 수 없는 경우 해당 정보도 고려함\n",
    "* 불완전한 기록 정보도 통계에 이용할 수 있다\n",
    "* 생존 정보와 Censoring 정보라는 두 변수를 이용함\n",
    "> 어떤 event가 일어났는지(사망 혹은 연락두절)를 0/1으로 표현\n",
    "\n",
    "### Survival Analysis의 검증 방법\n",
    "#### Log-rank test\n",
    "* 두 그룹 간에 통계적으로 유의한 차이가 있는지를 검증할 수 있음\n",
    "\n",
    "#### Cox model\n",
    "* 다변량 분석이 가능\n",
    "\n",
    "---"
   ]
  },
  {
   "cell_type": "code",
   "execution_count": 1,
   "metadata": {},
   "outputs": [],
   "source": [
    "library(survival)"
   ]
  },
  {
   "cell_type": "code",
   "execution_count": 2,
   "metadata": {},
   "outputs": [
    {
     "data": {
      "text/html": [
       "<table>\n",
       "<thead><tr><th scope=col>trt</th><th scope=col>celltype</th><th scope=col>time</th><th scope=col>status</th><th scope=col>karno</th><th scope=col>diagtime</th><th scope=col>age</th><th scope=col>prior</th></tr></thead>\n",
       "<tbody>\n",
       "\t<tr><td>1       </td><td>squamous</td><td> 72     </td><td>1       </td><td>60      </td><td> 7      </td><td>69      </td><td> 0      </td></tr>\n",
       "\t<tr><td>1       </td><td>squamous</td><td>411     </td><td>1       </td><td>70      </td><td> 5      </td><td>64      </td><td>10      </td></tr>\n",
       "\t<tr><td>1       </td><td>squamous</td><td>228     </td><td>1       </td><td>60      </td><td> 3      </td><td>38      </td><td> 0      </td></tr>\n",
       "\t<tr><td>1       </td><td>squamous</td><td>126     </td><td>1       </td><td>60      </td><td> 9      </td><td>63      </td><td>10      </td></tr>\n",
       "\t<tr><td>1       </td><td>squamous</td><td>118     </td><td>1       </td><td>70      </td><td>11      </td><td>65      </td><td>10      </td></tr>\n",
       "\t<tr><td>1       </td><td>squamous</td><td> 10     </td><td>1       </td><td>20      </td><td> 5      </td><td>49      </td><td> 0      </td></tr>\n",
       "</tbody>\n",
       "</table>\n"
      ],
      "text/latex": [
       "\\begin{tabular}{r|llllllll}\n",
       " trt & celltype & time & status & karno & diagtime & age & prior\\\\\n",
       "\\hline\n",
       "\t 1        & squamous &  72      & 1        & 60       &  7       & 69       &  0      \\\\\n",
       "\t 1        & squamous & 411      & 1        & 70       &  5       & 64       & 10      \\\\\n",
       "\t 1        & squamous & 228      & 1        & 60       &  3       & 38       &  0      \\\\\n",
       "\t 1        & squamous & 126      & 1        & 60       &  9       & 63       & 10      \\\\\n",
       "\t 1        & squamous & 118      & 1        & 70       & 11       & 65       & 10      \\\\\n",
       "\t 1        & squamous &  10      & 1        & 20       &  5       & 49       &  0      \\\\\n",
       "\\end{tabular}\n"
      ],
      "text/markdown": [
       "\n",
       "trt | celltype | time | status | karno | diagtime | age | prior | \n",
       "|---|---|---|---|---|---|\n",
       "| 1        | squamous |  72      | 1        | 60       |  7       | 69       |  0       | \n",
       "| 1        | squamous | 411      | 1        | 70       |  5       | 64       | 10       | \n",
       "| 1        | squamous | 228      | 1        | 60       |  3       | 38       |  0       | \n",
       "| 1        | squamous | 126      | 1        | 60       |  9       | 63       | 10       | \n",
       "| 1        | squamous | 118      | 1        | 70       | 11       | 65       | 10       | \n",
       "| 1        | squamous |  10      | 1        | 20       |  5       | 49       |  0       | \n",
       "\n",
       "\n"
      ],
      "text/plain": [
       "  trt celltype time status karno diagtime age prior\n",
       "1 1   squamous  72  1      60     7       69   0   \n",
       "2 1   squamous 411  1      70     5       64  10   \n",
       "3 1   squamous 228  1      60     3       38   0   \n",
       "4 1   squamous 126  1      60     9       63  10   \n",
       "5 1   squamous 118  1      70    11       65  10   \n",
       "6 1   squamous  10  1      20     5       49   0   "
      ]
     },
     "metadata": {},
     "output_type": "display_data"
    }
   ],
   "source": [
    "head(veteran)"
   ]
  },
  {
   "cell_type": "code",
   "execution_count": 3,
   "metadata": {},
   "outputs": [
    {
     "data": {
      "text/plain": [
       "Call: survfit(formula = Surv(time, status) ~ trt, data = veteran)\n",
       "\n",
       "       n events median 0.95LCL 0.95UCL\n",
       "trt=1 69     64  103.0      59     132\n",
       "trt=2 68     64   52.5      44      95"
      ]
     },
     "metadata": {},
     "output_type": "display_data"
    }
   ],
   "source": [
    "#survival analysis. treatment 상황에 따라 구분해 fit\n",
    "#time, sensoring (status) 정보를 함께 사용\n",
    "km_fit <- survfit(Surv(time, status) ~ trt, data=veteran)\n",
    "km_fit"
   ]
  },
  {
   "cell_type": "code",
   "execution_count": 4,
   "metadata": {},
   "outputs": [
    {
     "data": {
      "image/png": "[encoded data removed]",
      "text/plain": [
       "plot without title"
      ]
     },
     "metadata": {},
     "output_type": "display_data"
    }
   ],
   "source": [
    "plot(km_fit)"
   ]
  },
  {
   "cell_type": "markdown",
   "metadata": {},
   "source": [
    "---\n",
    "### Survival Analysis의 검증\n",
    "* Log rank test와 cox model을 이용"
   ]
  },
  {
   "cell_type": "code",
   "execution_count": 5,
   "metadata": {},
   "outputs": [
    {
     "data": {
      "text/plain": [
       "Call:\n",
       "survdiff(formula = Surv(time, status) ~ trt, data = veteran)\n",
       "\n",
       "       N Observed Expected (O-E)^2/E (O-E)^2/V\n",
       "trt=1 69       64     64.5   0.00388   0.00823\n",
       "trt=2 68       64     63.5   0.00394   0.00823\n",
       "\n",
       " Chisq= 0  on 1 degrees of freedom, p= 0.9 "
      ]
     },
     "metadata": {},
     "output_type": "display_data"
    }
   ],
   "source": [
    "#log-rank test를 이용해 두 그룹 간 차이를 통계적으로 검증\n",
    "survdiff(Surv(time, status) ~ trt, data=veteran)\n",
    "\n",
    "#p-value = 0.9이므로 두 그룹은 통계적으로 유의미한 차이를 보이지 않음"
   ]
  },
  {
   "cell_type": "code",
   "execution_count": 6,
   "metadata": {},
   "outputs": [
    {
     "data": {
      "text/plain": [
       "Call:\n",
       "coxph(formula = Surv(time, status) ~ trt, data = veteran)\n",
       "\n",
       "  n= 137, number of events= 128 \n",
       "\n",
       "       coef exp(coef) se(coef)     z Pr(>|z|)\n",
       "trt 0.01774   1.01790  0.18066 0.098    0.922\n",
       "\n",
       "    exp(coef) exp(-coef) lower .95 upper .95\n",
       "trt     1.018     0.9824    0.7144      1.45\n",
       "\n",
       "Concordance= 0.525  (se = 0.026 )\n",
       "Rsquare= 0   (max possible= 0.999 )\n",
       "Likelihood ratio test= 0.01  on 1 df,   p=0.9\n",
       "Wald test            = 0.01  on 1 df,   p=0.9\n",
       "Score (logrank) test = 0.01  on 1 df,   p=0.9\n"
      ]
     },
     "metadata": {},
     "output_type": "display_data"
    }
   ],
   "source": [
    "#cox model을 이용해 두 그룹 간 차이를 통계적으로 검증\n",
    "fit_cox_uni <- coxph(Surv(time, status) ~ trt, data = veteran)\n",
    "summary(fit_cox_uni)"
   ]
  },
  {
   "cell_type": "code",
   "execution_count": 9,
   "metadata": {},
   "outputs": [
    {
     "data": {
      "text/plain": [
       "Call:\n",
       "coxph(formula = Surv(time, status) ~ ., data = veteran)\n",
       "\n",
       "  n= 137, number of events= 128 \n",
       "\n",
       "                        coef  exp(coef)   se(coef)      z Pr(>|z|)    \n",
       "trt                2.946e-01  1.343e+00  2.075e-01  1.419  0.15577    \n",
       "celltypesmallcell  8.616e-01  2.367e+00  2.753e-01  3.130  0.00175 ** \n",
       "celltypeadeno      1.196e+00  3.307e+00  3.009e-01  3.975 7.05e-05 ***\n",
       "celltypelarge      4.013e-01  1.494e+00  2.827e-01  1.420  0.15574    \n",
       "karno             -3.282e-02  9.677e-01  5.508e-03 -5.958 2.55e-09 ***\n",
       "diagtime           8.132e-05  1.000e+00  9.136e-03  0.009  0.99290    \n",
       "age               -8.706e-03  9.913e-01  9.300e-03 -0.936  0.34920    \n",
       "prior              7.159e-03  1.007e+00  2.323e-02  0.308  0.75794    \n",
       "---\n",
       "Signif. codes:  0 '***' 0.001 '**' 0.01 '*' 0.05 '.' 0.1 ' ' 1\n",
       "\n",
       "                  exp(coef) exp(-coef) lower .95 upper .95\n",
       "trt                  1.3426     0.7448    0.8939    2.0166\n",
       "celltypesmallcell    2.3669     0.4225    1.3799    4.0597\n",
       "celltypeadeno        3.3071     0.3024    1.8336    5.9647\n",
       "celltypelarge        1.4938     0.6695    0.8583    2.5996\n",
       "karno                0.9677     1.0334    0.9573    0.9782\n",
       "diagtime             1.0001     0.9999    0.9823    1.0182\n",
       "age                  0.9913     1.0087    0.9734    1.0096\n",
       "prior                1.0072     0.9929    0.9624    1.0541\n",
       "\n",
       "Concordance= 0.736  (se = 0.03 )\n",
       "Rsquare= 0.364   (max possible= 0.999 )\n",
       "Likelihood ratio test= 62.1  on 8 df,   p=2e-10\n",
       "Wald test            = 62.37  on 8 df,   p=2e-10\n",
       "Score (logrank) test = 66.74  on 8 df,   p=2e-11\n"
      ]
     },
     "metadata": {},
     "output_type": "display_data"
    }
   ],
   "source": [
    "#cox 다변량 분석. 모든 변수 (.)를 고려함\n",
    "fit_cox_multi <- coxph(Surv(time, status) ~ ., data = veteran)\n",
    "summary(fit_cox_multi)"
   ]
  },
  {
   "cell_type": "code",
   "execution_count": null,
   "metadata": {},
   "outputs": [],
   "source": []
  }
 ],
 "metadata": {
  "kernelspec": {
   "display_name": "R",
   "language": "R",
   "name": "ir"
  },
  "language_info": {
   "codemirror_mode": "r",
   "file_extension": ".r",
   "mimetype": "text/x-r-source",
   "name": "R",
   "pygments_lexer": "r",
   "version": "3.5.1"
  }
 },
 "nbformat": 4,
 "nbformat_minor": 2
}
