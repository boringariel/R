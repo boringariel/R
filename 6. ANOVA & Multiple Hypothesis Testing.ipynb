{
 "cells": [
  {
   "cell_type": "markdown",
   "metadata": {},
   "source": [
    "## ANOVA & Multiple Hypothesis Testing\n",
    "---\n",
    "- Binary data: comparing multiple proportions\n",
    "- Categorical data: comparing multiple sets of categorical\n",
    "- continuous data: comparing multiple means\n",
    "\n",
    "셋 이상의 집단 분석에 ANOVA를 이용한다. ANOVA 수행시, 설명변수는 categorical, 종속변수는 continuous data여야 함<br>\n",
    "ANOVA는 모집단이 정규분포를 따름을 가정하며, 그렇지 않은 경우 비모수 추정을 이용해야 함\n",
    "\n",
    "---"
   ]
  },
  {
   "cell_type": "markdown",
   "metadata": {},
   "source": [
    "### ANOVA: factor의 수에 따라 n-way ANOVA로 구분\n",
    "|One-way ANOVA|Two-way ANOVA|Three-way ANOVA|\n",
    "|-------------|-------------|---------------|\n",
    "|ex) smoking status|ex) gender and smoking status|ex) gender, smoking and beer consumption|\n",
    "\n",
    "#### Hypothesis testing with ANOVA\n",
    "* is there truly a difference in means `across gropus`?\n",
    "\n",
    "| H0 | all of means are same |\n",
    "|----|-----------------------|\n",
    "| Ha | at least one of the means is different |\n",
    "\n",
    "---\n",
    "\n",
    "### one-way ANOVA"
   ]
  },
  {
   "cell_type": "code",
   "execution_count": 1,
   "metadata": {},
   "outputs": [
    {
     "data": {
      "text/html": [
       "<table>\n",
       "<thead><tr><th scope=col>norm</th><th scope=col>t</th><th scope=col>group</th><th scope=col>group2</th></tr></thead>\n",
       "<tbody>\n",
       "\t<tr><td>  5.855288 </td><td> 0.66159902</td><td>1          </td><td>A          </td></tr>\n",
       "\t<tr><td>  7.094660 </td><td> 0.39241905</td><td>2          </td><td>A          </td></tr>\n",
       "\t<tr><td> -1.093033 </td><td>-0.61929381</td><td>1          </td><td>A          </td></tr>\n",
       "\t<tr><td> -4.534972 </td><td>-0.63997732</td><td>2          </td><td>A          </td></tr>\n",
       "\t<tr><td>  6.058875 </td><td> 0.09406951</td><td>1          </td><td>A          </td></tr>\n",
       "\t<tr><td>-18.179560 </td><td> 0.94656523</td><td>2          </td><td>A          </td></tr>\n",
       "\t<tr><td>  6.300986 </td><td>-0.93458005</td><td>1          </td><td>A          </td></tr>\n",
       "\t<tr><td> -2.761841 </td><td>-0.05962288</td><td>2          </td><td>A          </td></tr>\n",
       "\t<tr><td> -2.841597 </td><td> 1.02120868</td><td>1          </td><td>A          </td></tr>\n",
       "\t<tr><td> -9.193220 </td><td> 0.35627552</td><td>2          </td><td>A          </td></tr>\n",
       "</tbody>\n",
       "</table>\n"
      ],
      "text/latex": [
       "\\begin{tabular}{r|llll}\n",
       " norm & t & group & group2\\\\\n",
       "\\hline\n",
       "\t   5.855288  &  0.66159902 & 1           & A          \\\\\n",
       "\t   7.094660  &  0.39241905 & 2           & A          \\\\\n",
       "\t  -1.093033  & -0.61929381 & 1           & A          \\\\\n",
       "\t  -4.534972  & -0.63997732 & 2           & A          \\\\\n",
       "\t   6.058875  &  0.09406951 & 1           & A          \\\\\n",
       "\t -18.179560  &  0.94656523 & 2           & A          \\\\\n",
       "\t   6.300986  & -0.93458005 & 1           & A          \\\\\n",
       "\t  -2.761841  & -0.05962288 & 2           & A          \\\\\n",
       "\t  -2.841597  &  1.02120868 & 1           & A          \\\\\n",
       "\t  -9.193220  &  0.35627552 & 2           & A          \\\\\n",
       "\\end{tabular}\n"
      ],
      "text/markdown": [
       "\n",
       "norm | t | group | group2 | \n",
       "|---|---|---|---|---|---|---|---|---|---|\n",
       "|   5.855288  |  0.66159902 | 1           | A           | \n",
       "|   7.094660  |  0.39241905 | 2           | A           | \n",
       "|  -1.093033  | -0.61929381 | 1           | A           | \n",
       "|  -4.534972  | -0.63997732 | 2           | A           | \n",
       "|   6.058875  |  0.09406951 | 1           | A           | \n",
       "| -18.179560  |  0.94656523 | 2           | A           | \n",
       "|   6.300986  | -0.93458005 | 1           | A           | \n",
       "|  -2.761841  | -0.05962288 | 2           | A           | \n",
       "|  -2.841597  |  1.02120868 | 1           | A           | \n",
       "|  -9.193220  |  0.35627552 | 2           | A           | \n",
       "\n",
       "\n"
      ],
      "text/plain": [
       "   norm       t           group group2\n",
       "1    5.855288  0.66159902 1     A     \n",
       "2    7.094660  0.39241905 2     A     \n",
       "3   -1.093033 -0.61929381 1     A     \n",
       "4   -4.534972 -0.63997732 2     A     \n",
       "5    6.058875  0.09406951 1     A     \n",
       "6  -18.179560  0.94656523 2     A     \n",
       "7    6.300986 -0.93458005 1     A     \n",
       "8   -2.761841 -0.05962288 2     A     \n",
       "9   -2.841597  1.02120868 1     A     \n",
       "10  -9.193220  0.35627552 2     A     "
      ]
     },
     "metadata": {},
     "output_type": "display_data"
    }
   ],
   "source": [
    "#rnorm(개수,평균,표준편차) 를 이용해 난수를 생성해 분석함\n",
    "\n",
    "set.seed(12345)\n",
    "\n",
    "df <- data.frame(norm = rnorm(400,0,10),\n",
    "                t = rt(400,10),\n",
    "                group = rep(1:2,200),\n",
    "                group2 = c(rep('A',100),rep('B',100),rep('C',100),rep('D',100)))\n",
    "\n",
    "head(df,10)"
   ]
  },
  {
   "cell_type": "code",
   "execution_count": 2,
   "metadata": {},
   "outputs": [
    {
     "data": {
      "text/plain": [
       "\n",
       "\tOne-way analysis of means (not assuming equal variances)\n",
       "\n",
       "data:  norm and group\n",
       "F = 0.16256, num df = 1.00, denom df = 397.54, p-value = 0.687\n"
      ]
     },
     "metadata": {},
     "output_type": "display_data"
    }
   ],
   "source": [
    "#norm과 group 사이의 평균이 다른지 one-way ANOVA를 진행\n",
    "oneway.test(norm~group, data = df)"
   ]
  },
  {
   "cell_type": "markdown",
   "metadata": {},
   "source": [
    "분석 결과, p-value>.05 이므로 두 그룹 간에는 평균 차이가 있는 것을 알 수 있음"
   ]
  },
  {
   "cell_type": "markdown",
   "metadata": {},
   "source": [
    "---\n",
    "### Multiple Hypothesis testing\n",
    "* a = 0.05인 경우, 1회 수행시 5% 수준의 Type I error (False positive) 가 발생할 가능성이 있음\n",
    "* 단독시행 시에는 무시할 수 있는 값이지만, 여러 번 반복시행할 경우 이 확률은 비약적으로 늘어날 수 있음\n",
    "> ex) 10 000개의 유전자를 이용해 테스트할 경우, p-value = .05 인 경우 1500개 상당의 error가 발생할 가능성이 있음<br>\n",
    "> `따라서, Bonferroni correction, FDR 등을 이용해 보정할 필요가 있음`\n",
    "\n",
    "#### Bonferroni correction\n",
    "* A possible correction for multiple comparisons\n",
    "* Test each hypoyhesis at level a* = (a/n): 반복시행할 수만큼 p-value를 나눈 값으로 cutoff할 수 있음\n",
    "* Adjustment ensures overall Type I error rate does not exceed a = .05\n",
    "* But, too conservative"
   ]
  },
  {
   "cell_type": "code",
   "execution_count": 3,
   "metadata": {},
   "outputs": [],
   "source": [
    "Input = (\"\n",
    "Factor   Raw.p\n",
    " A        .001\n",
    " B        .01\n",
    " C        .025\n",
    " D        .05\n",
    " E        .1\n",
    "\")"
   ]
  },
  {
   "cell_type": "code",
   "execution_count": 4,
   "metadata": {},
   "outputs": [],
   "source": [
    "df2 = read.table(textConnection(Input), header=TRUE)"
   ]
  },
  {
   "cell_type": "code",
   "execution_count": 5,
   "metadata": {},
   "outputs": [
    {
     "data": {
      "text/html": [
       "<table>\n",
       "<thead><tr><th scope=col>Factor</th><th scope=col>Raw.p</th></tr></thead>\n",
       "<tbody>\n",
       "\t<tr><td>A    </td><td>0.001</td></tr>\n",
       "\t<tr><td>B    </td><td>0.010</td></tr>\n",
       "\t<tr><td>C    </td><td>0.025</td></tr>\n",
       "\t<tr><td>D    </td><td>0.050</td></tr>\n",
       "\t<tr><td>E    </td><td>0.100</td></tr>\n",
       "</tbody>\n",
       "</table>\n"
      ],
      "text/latex": [
       "\\begin{tabular}{r|ll}\n",
       " Factor & Raw.p\\\\\n",
       "\\hline\n",
       "\t A     & 0.001\\\\\n",
       "\t B     & 0.010\\\\\n",
       "\t C     & 0.025\\\\\n",
       "\t D     & 0.050\\\\\n",
       "\t E     & 0.100\\\\\n",
       "\\end{tabular}\n"
      ],
      "text/markdown": [
       "\n",
       "Factor | Raw.p | \n",
       "|---|---|---|---|---|\n",
       "| A     | 0.001 | \n",
       "| B     | 0.010 | \n",
       "| C     | 0.025 | \n",
       "| D     | 0.050 | \n",
       "| E     | 0.100 | \n",
       "\n",
       "\n"
      ],
      "text/plain": [
       "  Factor Raw.p\n",
       "1 A      0.001\n",
       "2 B      0.010\n",
       "3 C      0.025\n",
       "4 D      0.050\n",
       "5 E      0.100"
      ]
     },
     "metadata": {},
     "output_type": "display_data"
    }
   ],
   "source": [
    "df2"
   ]
  },
  {
   "cell_type": "code",
   "execution_count": 6,
   "metadata": {},
   "outputs": [],
   "source": [
    "df2$Bonferroni = p.adjust(df2$Raw.p, method = \"bonferroni\")"
   ]
  },
  {
   "cell_type": "code",
   "execution_count": 7,
   "metadata": {},
   "outputs": [
    {
     "data": {
      "text/html": [
       "<table>\n",
       "<thead><tr><th scope=col>Factor</th><th scope=col>Raw.p</th><th scope=col>Bonferroni</th></tr></thead>\n",
       "<tbody>\n",
       "\t<tr><td>A    </td><td>0.001</td><td>0.005</td></tr>\n",
       "\t<tr><td>B    </td><td>0.010</td><td>0.050</td></tr>\n",
       "\t<tr><td>C    </td><td>0.025</td><td>0.125</td></tr>\n",
       "\t<tr><td>D    </td><td>0.050</td><td>0.250</td></tr>\n",
       "\t<tr><td>E    </td><td>0.100</td><td>0.500</td></tr>\n",
       "</tbody>\n",
       "</table>\n"
      ],
      "text/latex": [
       "\\begin{tabular}{r|lll}\n",
       " Factor & Raw.p & Bonferroni\\\\\n",
       "\\hline\n",
       "\t A     & 0.001 & 0.005\\\\\n",
       "\t B     & 0.010 & 0.050\\\\\n",
       "\t C     & 0.025 & 0.125\\\\\n",
       "\t D     & 0.050 & 0.250\\\\\n",
       "\t E     & 0.100 & 0.500\\\\\n",
       "\\end{tabular}\n"
      ],
      "text/markdown": [
       "\n",
       "Factor | Raw.p | Bonferroni | \n",
       "|---|---|---|---|---|\n",
       "| A     | 0.001 | 0.005 | \n",
       "| B     | 0.010 | 0.050 | \n",
       "| C     | 0.025 | 0.125 | \n",
       "| D     | 0.050 | 0.250 | \n",
       "| E     | 0.100 | 0.500 | \n",
       "\n",
       "\n"
      ],
      "text/plain": [
       "  Factor Raw.p Bonferroni\n",
       "1 A      0.001 0.005     \n",
       "2 B      0.010 0.050     \n",
       "3 C      0.025 0.125     \n",
       "4 D      0.050 0.250     \n",
       "5 E      0.100 0.500     "
      ]
     },
     "metadata": {},
     "output_type": "display_data"
    }
   ],
   "source": [
    "df2"
   ]
  },
  {
   "cell_type": "markdown",
   "metadata": {},
   "source": [
    "---\n",
    "#### FDR\n",
    "* q-value를 함께 고려하여 보정\n",
    "* Bonferroni 보정 등의 FWER와 비교하여 Type I error에 대해 덜 엄격하다"
   ]
  },
  {
   "cell_type": "code",
   "execution_count": 8,
   "metadata": {},
   "outputs": [],
   "source": [
    "df2$FDR = p.adjust(df2$Raw.p, method = \"fdr\")"
   ]
  },
  {
   "cell_type": "code",
   "execution_count": 9,
   "metadata": {},
   "outputs": [
    {
     "data": {
      "text/html": [
       "<table>\n",
       "<thead><tr><th scope=col>Factor</th><th scope=col>Raw.p</th><th scope=col>Bonferroni</th><th scope=col>FDR</th></tr></thead>\n",
       "<tbody>\n",
       "\t<tr><td>A         </td><td>0.001     </td><td>0.005     </td><td>0.00500000</td></tr>\n",
       "\t<tr><td>B         </td><td>0.010     </td><td>0.050     </td><td>0.02500000</td></tr>\n",
       "\t<tr><td>C         </td><td>0.025     </td><td>0.125     </td><td>0.04166667</td></tr>\n",
       "\t<tr><td>D         </td><td>0.050     </td><td>0.250     </td><td>0.06250000</td></tr>\n",
       "\t<tr><td>E         </td><td>0.100     </td><td>0.500     </td><td>0.10000000</td></tr>\n",
       "</tbody>\n",
       "</table>\n"
      ],
      "text/latex": [
       "\\begin{tabular}{r|llll}\n",
       " Factor & Raw.p & Bonferroni & FDR\\\\\n",
       "\\hline\n",
       "\t A          & 0.001      & 0.005      & 0.00500000\\\\\n",
       "\t B          & 0.010      & 0.050      & 0.02500000\\\\\n",
       "\t C          & 0.025      & 0.125      & 0.04166667\\\\\n",
       "\t D          & 0.050      & 0.250      & 0.06250000\\\\\n",
       "\t E          & 0.100      & 0.500      & 0.10000000\\\\\n",
       "\\end{tabular}\n"
      ],
      "text/markdown": [
       "\n",
       "Factor | Raw.p | Bonferroni | FDR | \n",
       "|---|---|---|---|---|\n",
       "| A          | 0.001      | 0.005      | 0.00500000 | \n",
       "| B          | 0.010      | 0.050      | 0.02500000 | \n",
       "| C          | 0.025      | 0.125      | 0.04166667 | \n",
       "| D          | 0.050      | 0.250      | 0.06250000 | \n",
       "| E          | 0.100      | 0.500      | 0.10000000 | \n",
       "\n",
       "\n"
      ],
      "text/plain": [
       "  Factor Raw.p Bonferroni FDR       \n",
       "1 A      0.001 0.005      0.00500000\n",
       "2 B      0.010 0.050      0.02500000\n",
       "3 C      0.025 0.125      0.04166667\n",
       "4 D      0.050 0.250      0.06250000\n",
       "5 E      0.100 0.500      0.10000000"
      ]
     },
     "metadata": {},
     "output_type": "display_data"
    }
   ],
   "source": [
    "df2"
   ]
  }
 ],
 "metadata": {
  "kernelspec": {
   "display_name": "R",
   "language": "R",
   "name": "ir"
  },
  "language_info": {
   "codemirror_mode": "r",
   "file_extension": ".r",
   "mimetype": "text/x-r-source",
   "name": "R",
   "pygments_lexer": "r",
   "version": "3.4.3"
  }
 },
 "nbformat": 4,
 "nbformat_minor": 2
}
