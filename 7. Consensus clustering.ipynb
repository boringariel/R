{
 "cells": [
  {
   "cell_type": "markdown",
   "metadata": {},
   "source": [
    "## Consensus clustering\n",
    "* using R package \"ConcsensusClusterPlus\"\n",
    "* source: https://bioconductor.org/packages/release/bioc/vignettes/ConsensusClusterPlus/inst/doc/ConsensusClusterPlus.pdf"
   ]
  },
  {
   "cell_type": "code",
   "execution_count": 1,
   "metadata": {},
   "outputs": [
    {
     "name": "stderr",
     "output_type": "stream",
     "text": [
      "Loading required package: Biobase\n",
      "Loading required package: BiocGenerics\n",
      "Loading required package: parallel\n",
      "\n",
      "Attaching package: ‘BiocGenerics’\n",
      "\n",
      "The following objects are masked from ‘package:parallel’:\n",
      "\n",
      "    clusterApply, clusterApplyLB, clusterCall, clusterEvalQ,\n",
      "    clusterExport, clusterMap, parApply, parCapply, parLapply,\n",
      "    parLapplyLB, parRapply, parSapply, parSapplyLB\n",
      "\n",
      "The following objects are masked from ‘package:stats’:\n",
      "\n",
      "    IQR, mad, sd, var, xtabs\n",
      "\n",
      "The following objects are masked from ‘package:base’:\n",
      "\n",
      "    anyDuplicated, append, as.data.frame, cbind, colMeans, colnames,\n",
      "    colSums, do.call, duplicated, eval, evalq, Filter, Find, get, grep,\n",
      "    grepl, intersect, is.unsorted, lapply, lengths, Map, mapply, match,\n",
      "    mget, order, paste, pmax, pmax.int, pmin, pmin.int, Position, rank,\n",
      "    rbind, Reduce, rowMeans, rownames, rowSums, sapply, setdiff, sort,\n",
      "    table, tapply, union, unique, unsplit, which, which.max, which.min\n",
      "\n",
      "Welcome to Bioconductor\n",
      "\n",
      "    Vignettes contain introductory material; view with\n",
      "    'browseVignettes()'. To cite Bioconductor, see\n",
      "    'citation(\"Biobase\")', and for packages 'citation(\"pkgname\")'.\n",
      "\n"
     ]
    }
   ],
   "source": [
    "library(\"ALL\")\n",
    "library(\"ConsensusClusterPlus\")"
   ]
  },
  {
   "cell_type": "code",
   "execution_count": 2,
   "metadata": {},
   "outputs": [
    {
     "data": {
      "text/html": [
       "<table>\n",
       "<thead><tr><th></th><th scope=col>01005</th><th scope=col>01010</th><th scope=col>03002</th><th scope=col>04006</th><th scope=col>04007</th></tr></thead>\n",
       "<tbody>\n",
       "\t<tr><th scope=row>1000_at</th><td>7.597323</td><td>7.479445</td><td>7.567593</td><td>7.384684</td><td>7.905312</td></tr>\n",
       "\t<tr><th scope=row>1001_at</th><td>5.046194</td><td>4.932537</td><td>4.799294</td><td>4.922627</td><td>4.844565</td></tr>\n",
       "\t<tr><th scope=row>1002_f_at</th><td>3.900466</td><td>4.208155</td><td>3.886169</td><td>4.206798</td><td>3.416923</td></tr>\n",
       "\t<tr><th scope=row>1003_s_at</th><td>5.903856</td><td>6.169024</td><td>5.860459</td><td>6.116890</td><td>5.687997</td></tr>\n",
       "\t<tr><th scope=row>1004_at</th><td>5.925260</td><td>5.912780</td><td>5.893209</td><td>6.170245</td><td>5.615210</td></tr>\n",
       "</tbody>\n",
       "</table>\n"
      ],
      "text/latex": [
       "\\begin{tabular}{r|lllll}\n",
       "  & 01005 & 01010 & 03002 & 04006 & 04007\\\\\n",
       "\\hline\n",
       "\t1000\\_at & 7.597323 & 7.479445 & 7.567593 & 7.384684 & 7.905312\\\\\n",
       "\t1001\\_at & 5.046194 & 4.932537 & 4.799294 & 4.922627 & 4.844565\\\\\n",
       "\t1002\\_f\\_at & 3.900466 & 4.208155 & 3.886169 & 4.206798 & 3.416923\\\\\n",
       "\t1003\\_s\\_at & 5.903856 & 6.169024 & 5.860459 & 6.116890 & 5.687997\\\\\n",
       "\t1004\\_at & 5.925260 & 5.912780 & 5.893209 & 6.170245 & 5.615210\\\\\n",
       "\\end{tabular}\n"
      ],
      "text/markdown": [
       "\n",
       "| <!--/--> | 01005 | 01010 | 03002 | 04006 | 04007 | \n",
       "|---|---|---|---|---|\n",
       "| 1000_at | 7.597323 | 7.479445 | 7.567593 | 7.384684 | 7.905312 | \n",
       "| 1001_at | 5.046194 | 4.932537 | 4.799294 | 4.922627 | 4.844565 | \n",
       "| 1002_f_at | 3.900466 | 4.208155 | 3.886169 | 4.206798 | 3.416923 | \n",
       "| 1003_s_at | 5.903856 | 6.169024 | 5.860459 | 6.116890 | 5.687997 | \n",
       "| 1004_at | 5.925260 | 5.912780 | 5.893209 | 6.170245 | 5.615210 | \n",
       "\n",
       "\n"
      ],
      "text/plain": [
       "          01005    01010    03002    04006    04007   \n",
       "1000_at   7.597323 7.479445 7.567593 7.384684 7.905312\n",
       "1001_at   5.046194 4.932537 4.799294 4.922627 4.844565\n",
       "1002_f_at 3.900466 4.208155 3.886169 4.206798 3.416923\n",
       "1003_s_at 5.903856 6.169024 5.860459 6.116890 5.687997\n",
       "1004_at   5.925260 5.912780 5.893209 6.170245 5.615210"
      ]
     },
     "metadata": {},
     "output_type": "display_data"
    }
   ],
   "source": [
    "#using ALL data\n",
    "data(ALL)\n",
    "d = exprs(ALL)\n",
    "d[1:5,1:5]"
   ]
  },
  {
   "cell_type": "code",
   "execution_count": 3,
   "metadata": {},
   "outputs": [],
   "source": [
    "#median absolute deviation (중앙값 절대 편차)\n",
    "mads = apply(d,1,mad)\n",
    "\n",
    "#data nomalization\n",
    "d = d[rev(order(mads))[1:5000],]\n",
    "d = sweep(d,1, apply(d,1,median,na.rm=T))"
   ]
  },
  {
   "cell_type": "markdown",
   "metadata": {},
   "source": [
    "### Clustering"
   ]
  },
  {
   "cell_type": "code",
   "execution_count": 4,
   "metadata": {},
   "outputs": [],
   "source": [
    "#set dirctory\n",
    "title = './'"
   ]
  },
  {
   "cell_type": "code",
   "execution_count": 5,
   "metadata": {},
   "outputs": [
    {
     "name": "stderr",
     "output_type": "stream",
     "text": [
      "end fraction\n",
      "clustered\n",
      "clustered\n",
      "clustered\n",
      "clustered\n",
      "clustered\n"
     ]
    }
   ],
   "source": [
    "results = ConsensusClusterPlus(d,maxK=6,reps=50,pItem=0.8,pFeature=1,\n",
    "                               title=title,clusterAlg=\"hc\",distance=\"pearson\",\n",
    "                               seed=1262118388.71279,plot=\"pdf\") #plot: output option (e.g. \"png\")"
   ]
  },
  {
   "cell_type": "code",
   "execution_count": 6,
   "metadata": {},
   "outputs": [
    {
     "data": {
      "text/html": [
       "<table>\n",
       "<tbody>\n",
       "\t<tr><td>1.0000000</td><td>1.0000000</td><td>0.9655172</td><td>1.0000000</td><td>1.0000000</td></tr>\n",
       "\t<tr><td>1.0000000</td><td>1.0000000</td><td>0.8857143</td><td>1.0000000</td><td>1.0000000</td></tr>\n",
       "\t<tr><td>0.9655172</td><td>0.8857143</td><td>1.0000000</td><td>0.9166667</td><td>0.8823529</td></tr>\n",
       "\t<tr><td>1.0000000</td><td>1.0000000</td><td>0.9166667</td><td>1.0000000</td><td>1.0000000</td></tr>\n",
       "\t<tr><td>1.0000000</td><td>1.0000000</td><td>0.8823529</td><td>1.0000000</td><td>1.0000000</td></tr>\n",
       "</tbody>\n",
       "</table>\n"
      ],
      "text/latex": [
       "\\begin{tabular}{lllll}\n",
       "\t 1.0000000 & 1.0000000 & 0.9655172 & 1.0000000 & 1.0000000\\\\\n",
       "\t 1.0000000 & 1.0000000 & 0.8857143 & 1.0000000 & 1.0000000\\\\\n",
       "\t 0.9655172 & 0.8857143 & 1.0000000 & 0.9166667 & 0.8823529\\\\\n",
       "\t 1.0000000 & 1.0000000 & 0.9166667 & 1.0000000 & 1.0000000\\\\\n",
       "\t 1.0000000 & 1.0000000 & 0.8823529 & 1.0000000 & 1.0000000\\\\\n",
       "\\end{tabular}\n"
      ],
      "text/markdown": [
       "\n",
       "| 1.0000000 | 1.0000000 | 0.9655172 | 1.0000000 | 1.0000000 | \n",
       "| 1.0000000 | 1.0000000 | 0.8857143 | 1.0000000 | 1.0000000 | \n",
       "| 0.9655172 | 0.8857143 | 1.0000000 | 0.9166667 | 0.8823529 | \n",
       "| 1.0000000 | 1.0000000 | 0.9166667 | 1.0000000 | 1.0000000 | \n",
       "| 1.0000000 | 1.0000000 | 0.8823529 | 1.0000000 | 1.0000000 | \n",
       "\n",
       "\n"
      ],
      "text/plain": [
       "     [,1]      [,2]      [,3]      [,4]      [,5]     \n",
       "[1,] 1.0000000 1.0000000 0.9655172 1.0000000 1.0000000\n",
       "[2,] 1.0000000 1.0000000 0.8857143 1.0000000 1.0000000\n",
       "[3,] 0.9655172 0.8857143 1.0000000 0.9166667 0.8823529\n",
       "[4,] 1.0000000 1.0000000 0.9166667 1.0000000 1.0000000\n",
       "[5,] 1.0000000 1.0000000 0.8823529 1.0000000 1.0000000"
      ]
     },
     "metadata": {},
     "output_type": "display_data"
    }
   ],
   "source": [
    "#consensus matrix\n",
    "results[[2]][[\"consensusMatrix\"]][1:5,1:5]"
   ]
  },
  {
   "cell_type": "code",
   "execution_count": 7,
   "metadata": {},
   "outputs": [
    {
     "data": {
      "text/plain": [
       "\n",
       "Call:\n",
       "hclust(d = as.dist(1 - fm), method = finalLinkage)\n",
       "\n",
       "Cluster method   : average \n",
       "Number of objects: 128 \n"
      ]
     },
     "metadata": {},
     "output_type": "display_data"
    }
   ],
   "source": [
    "results[[2]][[\"consensusTree\"]]"
   ]
  },
  {
   "cell_type": "code",
   "execution_count": 8,
   "metadata": {},
   "outputs": [
    {
     "data": {
      "text/html": [
       "<dl class=dl-horizontal>\n",
       "\t<dt>01005</dt>\n",
       "\t\t<dd>1</dd>\n",
       "\t<dt>01010</dt>\n",
       "\t\t<dd>1</dd>\n",
       "\t<dt>03002</dt>\n",
       "\t\t<dd>1</dd>\n",
       "\t<dt>04006</dt>\n",
       "\t\t<dd>1</dd>\n",
       "\t<dt>04007</dt>\n",
       "\t\t<dd>1</dd>\n",
       "</dl>\n"
      ],
      "text/latex": [
       "\\begin{description*}\n",
       "\\item[01005] 1\n",
       "\\item[01010] 1\n",
       "\\item[03002] 1\n",
       "\\item[04006] 1\n",
       "\\item[04007] 1\n",
       "\\end{description*}\n"
      ],
      "text/markdown": [
       "01005\n",
       ":   101010\n",
       ":   103002\n",
       ":   104006\n",
       ":   104007\n",
       ":   1\n",
       "\n"
      ],
      "text/plain": [
       "01005 01010 03002 04006 04007 \n",
       "    1     1     1     1     1 "
      ]
     },
     "metadata": {},
     "output_type": "display_data"
    }
   ],
   "source": [
    "results[[2]][[\"consensusClass\"]][1:5]"
   ]
  },
  {
   "cell_type": "code",
   "execution_count": 9,
   "metadata": {},
   "outputs": [],
   "source": [
    "icl = calcICL(results, title = title, plot = \"png\")"
   ]
  },
  {
   "cell_type": "code",
   "execution_count": 10,
   "metadata": {},
   "outputs": [
    {
     "data": {
      "text/html": [
       "<table>\n",
       "<thead><tr><th scope=col>k</th><th scope=col>cluster</th><th scope=col>clusterConsensus</th></tr></thead>\n",
       "<tbody>\n",
       "\t<tr><td>2        </td><td>1        </td><td>0.9079483</td></tr>\n",
       "\t<tr><td>2        </td><td>2        </td><td>0.7584326</td></tr>\n",
       "\t<tr><td>3        </td><td>1        </td><td>0.6246200</td></tr>\n",
       "\t<tr><td>3        </td><td>2        </td><td>0.9111359</td></tr>\n",
       "\t<tr><td>3        </td><td>3        </td><td>0.9864123</td></tr>\n",
       "\t<tr><td>4        </td><td>1        </td><td>0.8908356</td></tr>\n",
       "</tbody>\n",
       "</table>\n"
      ],
      "text/latex": [
       "\\begin{tabular}{lll}\n",
       " k & cluster & clusterConsensus\\\\\n",
       "\\hline\n",
       "\t 2         & 1         & 0.9079483\\\\\n",
       "\t 2         & 2         & 0.7584326\\\\\n",
       "\t 3         & 1         & 0.6246200\\\\\n",
       "\t 3         & 2         & 0.9111359\\\\\n",
       "\t 3         & 3         & 0.9864123\\\\\n",
       "\t 4         & 1         & 0.8908356\\\\\n",
       "\\end{tabular}\n"
      ],
      "text/markdown": [
       "\n",
       "k | cluster | clusterConsensus | \n",
       "|---|---|---|---|---|---|\n",
       "| 2         | 1         | 0.9079483 | \n",
       "| 2         | 2         | 0.7584326 | \n",
       "| 3         | 1         | 0.6246200 | \n",
       "| 3         | 2         | 0.9111359 | \n",
       "| 3         | 3         | 0.9864123 | \n",
       "| 4         | 1         | 0.8908356 | \n",
       "\n",
       "\n"
      ],
      "text/plain": [
       "     k cluster clusterConsensus\n",
       "[1,] 2 1       0.9079483       \n",
       "[2,] 2 2       0.7584326       \n",
       "[3,] 3 1       0.6246200       \n",
       "[4,] 3 2       0.9111359       \n",
       "[5,] 3 3       0.9864123       \n",
       "[6,] 4 1       0.8908356       "
      ]
     },
     "metadata": {},
     "output_type": "display_data"
    }
   ],
   "source": [
    "head(icl[[\"clusterConsensus\"]])"
   ]
  },
  {
   "cell_type": "code",
   "execution_count": 11,
   "metadata": {},
   "outputs": [
    {
     "data": {
      "text/html": [
       "<table>\n",
       "<thead><tr><th scope=col>k</th><th scope=col>cluster</th><th scope=col>item</th><th scope=col>itemConsensus</th></tr></thead>\n",
       "<tbody>\n",
       "\t<tr><td>2         </td><td>1         </td><td>01007     </td><td>0.05261929</td></tr>\n",
       "\t<tr><td>2         </td><td>1         </td><td>01003     </td><td>0.05551604</td></tr>\n",
       "\t<tr><td>2         </td><td>1         </td><td>02020     </td><td>0.04554248</td></tr>\n",
       "\t<tr><td>2         </td><td>1         </td><td>04018     </td><td>0.06059102</td></tr>\n",
       "\t<tr><td>2         </td><td>1         </td><td>09002     </td><td>0.06779347</td></tr>\n",
       "\t<tr><td>2         </td><td>1         </td><td>11002     </td><td>0.06273182</td></tr>\n",
       "</tbody>\n",
       "</table>\n"
      ],
      "text/latex": [
       "\\begin{tabular}{r|llll}\n",
       " k & cluster & item & itemConsensus\\\\\n",
       "\\hline\n",
       "\t 2          & 1          & 01007      & 0.05261929\\\\\n",
       "\t 2          & 1          & 01003      & 0.05551604\\\\\n",
       "\t 2          & 1          & 02020      & 0.04554248\\\\\n",
       "\t 2          & 1          & 04018      & 0.06059102\\\\\n",
       "\t 2          & 1          & 09002      & 0.06779347\\\\\n",
       "\t 2          & 1          & 11002      & 0.06273182\\\\\n",
       "\\end{tabular}\n"
      ],
      "text/markdown": [
       "\n",
       "k | cluster | item | itemConsensus | \n",
       "|---|---|---|---|---|---|\n",
       "| 2          | 1          | 01007      | 0.05261929 | \n",
       "| 2          | 1          | 01003      | 0.05551604 | \n",
       "| 2          | 1          | 02020      | 0.04554248 | \n",
       "| 2          | 1          | 04018      | 0.06059102 | \n",
       "| 2          | 1          | 09002      | 0.06779347 | \n",
       "| 2          | 1          | 11002      | 0.06273182 | \n",
       "\n",
       "\n"
      ],
      "text/plain": [
       "  k cluster item  itemConsensus\n",
       "1 2 1       01007 0.05261929   \n",
       "2 2 1       01003 0.05551604   \n",
       "3 2 1       02020 0.04554248   \n",
       "4 2 1       04018 0.06059102   \n",
       "5 2 1       09002 0.06779347   \n",
       "6 2 1       11002 0.06273182   "
      ]
     },
     "metadata": {},
     "output_type": "display_data"
    }
   ],
   "source": [
    "head(icl[[\"itemConsensus\"]])"
   ]
  }
 ],
 "metadata": {
  "kernelspec": {
   "display_name": "R",
   "language": "R",
   "name": "ir"
  },
  "language_info": {
   "codemirror_mode": "r",
   "file_extension": ".r",
   "mimetype": "text/x-r-source",
   "name": "R",
   "pygments_lexer": "r",
   "version": "3.4.3"
  }
 },
 "nbformat": 4,
 "nbformat_minor": 2
}
