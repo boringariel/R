{
 "cells": [
  {
   "cell_type": "markdown",
   "metadata": {},
   "source": [
    "## Statistical Inference\n",
    "---\n",
    "### Population vs. Sample\n",
    "* 모집단 모두를 조사하는 것은 현실적으로 불가능하므로, 표본을 채취해서 조사하는 것이 중요\n",
    "* Population Mean != Sample Mean\n",
    "\n",
    "<p>\n",
    "\n",
    "### Statistical Inference\n",
    "* Sample을 이용해 Population을 추측하는 것\n",
    "<p>\n",
    "    \n",
    "#### Estimation\n",
    "* Point Estimation: 점 추정\n",
    "> 점 표본을 이용해서 모집단을 추정<br>\n",
    "표본 수집 상황에 따라 모집단 추정이 달라질 수 있으므로 완벽히 반영할 수 없음\n",
    "\n",
    "* Interval Estimation: 구간 추정\n",
    "> Point estimation을 보완하기 위해 이용함<br>\n",
    "신뢰 구간을 이용해 보정하며, 신뢰 구간은 아래와 같다<br>\n",
    "신뢰 구간 = point estimate +- margin of error\n",
    "\n",
    "<p>\n",
    "\n",
    "* t 분포\n",
    ">Sample size가 작을 때는 정규분포를 따른다 가정할 경우 문제가 있다<br>\n",
    "따라서, 이럴 때는 t 분포를 이용하는 것이 바람직함\n",
    "\n",
    "---"
   ]
  },
  {
   "cell_type": "markdown",
   "metadata": {},
   "source": [
    "## Regression: 회귀분석\n",
    "* Data의 분포가 경향성을 가지는지 확인\n",
    "* ex) x-y 분포에서 x에 따른 y의 변화(x-y 함수의 기울기)를 확인\n",
    "* correlation analysis와 달리, 다수의 sample에 대한 관계를 분석할 수 있다\n",
    "---\n",
    "### Linear Regression\n",
    "* 실수 값으로 표현된 data에 대해 선형적인 관계를 확인한다\n",
    "* data의 scatterplot을 그린 뒤, 모든 점과의 거리가 최소인 선을 긋는 방식으로 표현\n",
    "\n",
    "### Logistic Regression\n",
    "* y 값이 실수가 아니며 categorical variable(y/n, binary...)인 경우 이용함\n",
    "* ex) 나이나 성별이 몸무게에 영향을 끼치는가?\n",
    "\n",
    "### Cox proportional hazard regression: a type of survival analysis\n",
    "* 생존 분석에 주로 이용됨"
   ]
  },
  {
   "cell_type": "code",
   "execution_count": null,
   "metadata": {},
   "outputs": [],
   "source": []
  }
 ],
 "metadata": {
  "kernelspec": {
   "display_name": "R",
   "language": "R",
   "name": "ir"
  },
  "language_info": {
   "codemirror_mode": "r",
   "file_extension": ".r",
   "mimetype": "text/x-r-source",
   "name": "R",
   "pygments_lexer": "r",
   "version": "3.5.1"
  }
 },
 "nbformat": 4,
 "nbformat_minor": 2
}
