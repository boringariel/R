{
 "cells": [
  {
   "cell_type": "markdown",
   "metadata": {},
   "source": [
    "### 통계와 검정\n",
    "* control과 비교했을 때 의미있는 변화가 일어났는지를 알아보기 위해 이용\n",
    "---\n",
    "#### 1. 동전던지기에서 앞뒷면이 나올 확률이 정말로 50%씩인가?\n",
    "* 10번 동전을 던졌을 때, 앞뒷면의 비율이 8:2일 때 동전의 문제가 있는가?<p>\n",
    "\n",
    "#### 귀무가설: H0\n",
    "* 동전에는 문제가 없다\n",
    "\n",
    "#### 대립가설: H1 (or Ha)\n",
    "* 귀무가설과 반대. 즉, 동전에 문제가 있다\n",
    "<br>\n",
    "* 귀무가설을 검정하여, 귀무가설을 수용할 것인지 기각할 것인지를 결정한다\n",
    "<br>\n",
    "\n",
    "#### 양측검점\n",
    "> `표본평균이 크거나 작게 나오면 귀무가설을 기각`<br>\n",
    "> 같다/다르다에 대한 검정에 적합함\n",
    "#### 단측검정\n",
    "> `ex1) 표본평균이 크게 나오면 귀무가설을 기각`<br>\n",
    "> `ex2) 표본평균이 작게 나오면 귀무가설을 기각`<br>\n",
    "> 특정 방향성을 가진 가설인 경우\n",
    "\n",
    "---\n",
    "### 오류\n",
    "\n",
    "* Type I/II error\n",
    "\n",
    "|   &nbsp;  | H0==T        | H1==T         |\n",
    "| --------- | -----------  | ------------  |\n",
    "| accept H0 |    &nbsp;    | Type II error |\n",
    "| accept H1 | Type I error |  &nbsp;       |\n",
    "\n",
    "---\n",
    "\n",
    "### 표본\n",
    " * 모집단을 검정하는 것이 시간과 비용 등의 문제로 인해 어려운 경우 모집단을 대표할 수 있는 표본을 이용해 검정함\n",
    " \n",
    "---\n",
    "\n",
    "#### 2. 상자 안에 흰 공과 검은 공의 비율이 같은가? (상자 안의 공은 20개 이상이라 가정함)\n",
    "> `H0: p = 0.5`<br>\n",
    "> `H1: p != 0.5`<br>\n",
    "> 양측검정을 사용하며, 모든 공을 뽑기 어려운 경우 일부 공만 추출해 검정함\n",
    "    * 공을 10회 추출할 경우, 흰 공의 개수는 0~10이 가능하다\n",
    "    * 흰 공의 비율을 x/10이라 하면, 1/2를 기준으로 어느 정도의 거리에 위치하는지에 따라 귀무가설을 기각할 수도 있음"
   ]
  },
  {
   "cell_type": "code",
   "execution_count": 1,
   "metadata": {},
   "outputs": [
    {
     "data": {
      "text/plain": [
       "\n",
       "\tExact binomial test\n",
       "\n",
       "data:  8 and 10\n",
       "number of successes = 8, number of trials = 10, p-value = 0.1094\n",
       "alternative hypothesis: true probability of success is not equal to 0.5\n",
       "95 percent confidence interval:\n",
       " 0.4439045 0.9747893\n",
       "sample estimates:\n",
       "probability of success \n",
       "                   0.8 \n"
      ]
     },
     "metadata": {},
     "output_type": "display_data"
    }
   ],
   "source": [
    "#이항 검정: 앞서 언급된 동전던지기에서\n",
    "# in case of 8 of 10, is it 50%?\n",
    "binom.test(8,10,p=0.5)"
   ]
  },
  {
   "cell_type": "code",
   "execution_count": 2,
   "metadata": {},
   "outputs": [
    {
     "data": {
      "text/plain": [
       "\n",
       "\tExact binomial test\n",
       "\n",
       "data:  80 and 100\n",
       "number of successes = 80, number of trials = 100, p-value = 1.116e-09\n",
       "alternative hypothesis: true probability of success is not equal to 0.5\n",
       "95 percent confidence interval:\n",
       " 0.7081573 0.8733444\n",
       "sample estimates:\n",
       "probability of success \n",
       "                   0.8 \n"
      ]
     },
     "metadata": {},
     "output_type": "display_data"
    }
   ],
   "source": [
    "#이항 검정: 앞서 언급된 동전던지기에서\n",
    "# in case of 80 of 100, is it 50%?\n",
    "# 같은 비율이지만 앞서 진행한 이항 검정에 비해 p-value가 크게 감소한다\n",
    "binom.test(80,100,p=0.5)"
   ]
  },
  {
   "cell_type": "markdown",
   "metadata": {},
   "source": [
    "### 다항 검정\n",
    "* Fisher's exact test: 두 개의 binary sample일 때\n",
    "* 큰 group일 때는 Chi-squared test 등을 주로 이용\n",
    "---\n",
    "#### 3. 두 개의 동전을 던졌을 때, 각각의 앞뒷면이 나올 확률?\n",
    "> 귀무가설: 동전 A/B의 앞뒷면이 나오는 확률이 서로 같다<br>\n",
    "> 대립가설: 동전 A/B의 앞뒷면이 나오는 확률은 서로 다르다"
   ]
  },
  {
   "cell_type": "code",
   "execution_count": 1,
   "metadata": {},
   "outputs": [
    {
     "data": {
      "text/html": [
       "<table>\n",
       "<tbody>\n",
       "\t<tr><td>8</td><td>4</td></tr>\n",
       "\t<tr><td>2</td><td>7</td></tr>\n",
       "</tbody>\n",
       "</table>\n"
      ],
      "text/latex": [
       "\\begin{tabular}{ll}\n",
       "\t 8 & 4\\\\\n",
       "\t 2 & 7\\\\\n",
       "\\end{tabular}\n"
      ],
      "text/markdown": [
       "\n",
       "| 8 | 4 | \n",
       "| 2 | 7 | \n",
       "\n",
       "\n"
      ],
      "text/plain": [
       "     [,1] [,2]\n",
       "[1,] 8    4   \n",
       "[2,] 2    7   "
      ]
     },
     "metadata": {},
     "output_type": "display_data"
    }
   ],
   "source": [
    "counts = matrix(c(8,2,4,7),2)\n",
    "counts"
   ]
  },
  {
   "cell_type": "code",
   "execution_count": 2,
   "metadata": {},
   "outputs": [
    {
     "data": {
      "text/plain": [
       "\n",
       "\tFisher's Exact Test for Count Data\n",
       "\n",
       "data:  counts\n",
       "p-value = 0.0805\n",
       "alternative hypothesis: true odds ratio is not equal to 1\n",
       "95 percent confidence interval:\n",
       "  0.7306872 91.0288231\n",
       "sample estimates:\n",
       "odds ratio \n",
       "  6.302622 \n"
      ]
     },
     "metadata": {},
     "output_type": "display_data"
    }
   ],
   "source": [
    "#Fisher's exact test. col/row의 구성에 의존하지는 않음\n",
    "fisher.test(counts)"
   ]
  },
  {
   "cell_type": "code",
   "execution_count": 3,
   "metadata": {},
   "outputs": [
    {
     "name": "stderr",
     "output_type": "stream",
     "text": [
      "Warning message in chisq.test(counts):\n",
      "\"Chi-squared approximation may be incorrect\""
     ]
    },
    {
     "data": {
      "text/plain": [
       "\n",
       "\tPearson's Chi-squared test with Yates' continuity correction\n",
       "\n",
       "data:  counts\n",
       "X-squared = 2.4858, df = 1, p-value = 0.1149\n"
      ]
     },
     "metadata": {},
     "output_type": "display_data"
    }
   ],
   "source": [
    "#Chi-squared test\n",
    "chisq.test(counts)"
   ]
  },
  {
   "cell_type": "markdown",
   "metadata": {},
   "source": [
    "### Parametric/non-parametric test\n",
    "* Parametric(모수) test: data가 특정 분포(주로 정규분포)를 따른다고 가정\n",
    "* non-parametric(비모수) test: data가 특정 분포를 따르지 않는다고 가정\n",
    "\n",
    "---\n",
    "### T-test\n",
    "#### One sample t-test\n",
    "* Parametric test: 정규분포를 따른다 가정\n",
    "* 실수 값의 데이터를 이용\n",
    "* ex)모집단을 sampling >> 모집단의 평균 등을 검증\n",
    "\n",
    "#### Two sample t-test\n",
    "* 두 group의 데이터를 이용\n",
    "* ex)실험군과 대조군의 차이 검증\n",
    "\n",
    "#### Paired t-test\n",
    "* ex)특정 환자에서의 치료 전후 차이 검증 등"
   ]
  },
  {
   "cell_type": "code",
   "execution_count": null,
   "metadata": {},
   "outputs": [],
   "source": []
  }
 ],
 "metadata": {
  "kernelspec": {
   "display_name": "R",
   "language": "R",
   "name": "ir"
  },
  "language_info": {
   "codemirror_mode": "r",
   "file_extension": ".r",
   "mimetype": "text/x-r-source",
   "name": "R",
   "pygments_lexer": "r",
   "version": "3.5.1"
  }
 },
 "nbformat": 4,
 "nbformat_minor": 2
}
